{
 "cells": [
  {
   "cell_type": "raw",
   "id": "8d44d605-23d5-481e-a87e-10443a39b0a9",
   "metadata": {},
   "source": [
    "Task 5\n",
    "1 - Получить актуальные данные из нашего рейтинга студентов с прикреплённого скриншота \n",
    "    (кол-во студентов посетивших лекцию, количество студентов сделавших домашнее задание и пр.)\n",
    "2 - Реализовать метод линейной регрессии вручную для 1 переменной \n",
    "    (предсказать количество сстудентов, которые сделают домашние задания)\n",
    "    Для оптимизации воспользоваться методом minimize из библиотеки scipy.optimize \n",
    "    from scipy.optimize import minimize (Градиентный спуск реализовывать не нужно)\n",
    "3 - Сравнить полученную прямую и предсказанные значения со значениями из LinearRegression библиотеки scikit-learn. \n",
    "    Сделать графики с полученными прямыми и начальным набором точек при помощи matplotlib\n",
    "4 - Использовать другие типы регрессии из scikit-learn (Ridge, Lasso). \n",
    "    Вместе с ссылкой на GIT добавить текстовое описание отличий этих методов от обычной Линейной регрессии.\n",
    "5 - Повторить пункты 2-3-4 для регрессии с несколькими переменными\n",
    "\n",
    "Результат - ссылка на GitHub и ответ на вопросы 3, 4"
   ]
  },
  {
   "cell_type": "code",
   "execution_count": 1,
   "id": "8f6966c2-39ca-4b43-9c4e-5dc99527a0ca",
   "metadata": {},
   "outputs": [],
   "source": [
    "# Import section\n",
    "import numpy as np\n",
    "import pandas as pd\n",
    "\n",
    "from scipy.optimize import minimize\n",
    "\n",
    "from sklearn.linear_model import LinearRegression\n",
    "from sklearn.linear_model import Ridge\n",
    "from sklearn.linear_model import Lasso\n",
    "\n",
    "import matplotlib.pyplot as plt\n",
    "import seaborn as sns; sns.set()\n",
    "%matplotlib inline"
   ]
  },
  {
   "cell_type": "markdown",
   "id": "a5ce77dd-36ca-4763-81e4-a92f95527e3c",
   "metadata": {},
   "source": [
    "### -1- load the data"
   ]
  },
  {
   "cell_type": "markdown",
   "id": "4d754c9f-d315-48eb-905e-c75de00ce9d9",
   "metadata": {},
   "source": [
    "Занесем данные рейтинга студентов из hw_date.csv файла в датафрейм hw.  \n",
    "Данные содержат следующие столбцы:\n",
    "\n",
    "* lesson number: Номер занятия.\n",
    "* homework done: Количество сделанных домашних задании.\n",
    "* number students: Количество студентов присуствующих на занятии.\n",
    "* complexity task: Сложность занятия (мнимые данные для регрессии с несколькими переменными)."
   ]
  },
  {
   "cell_type": "code",
   "execution_count": 2,
   "id": "dadf825c-50a3-4702-bd0c-01d56e77f823",
   "metadata": {},
   "outputs": [
    {
     "data": {
      "text/html": [
       "<div>\n",
       "<style scoped>\n",
       "    .dataframe tbody tr th:only-of-type {\n",
       "        vertical-align: middle;\n",
       "    }\n",
       "\n",
       "    .dataframe tbody tr th {\n",
       "        vertical-align: top;\n",
       "    }\n",
       "\n",
       "    .dataframe thead th {\n",
       "        text-align: right;\n",
       "    }\n",
       "</style>\n",
       "<table border=\"1\" class=\"dataframe\">\n",
       "  <thead>\n",
       "    <tr style=\"text-align: right;\">\n",
       "      <th></th>\n",
       "      <th>lesson number</th>\n",
       "      <th>homework done</th>\n",
       "      <th>number students</th>\n",
       "      <th>complexity task</th>\n",
       "    </tr>\n",
       "  </thead>\n",
       "  <tbody>\n",
       "    <tr>\n",
       "      <th>0</th>\n",
       "      <td>1</td>\n",
       "      <td>5</td>\n",
       "      <td>8</td>\n",
       "      <td>10</td>\n",
       "    </tr>\n",
       "    <tr>\n",
       "      <th>1</th>\n",
       "      <td>2</td>\n",
       "      <td>9</td>\n",
       "      <td>9</td>\n",
       "      <td>20</td>\n",
       "    </tr>\n",
       "    <tr>\n",
       "      <th>2</th>\n",
       "      <td>3</td>\n",
       "      <td>7</td>\n",
       "      <td>8</td>\n",
       "      <td>30</td>\n",
       "    </tr>\n",
       "    <tr>\n",
       "      <th>3</th>\n",
       "      <td>4</td>\n",
       "      <td>3</td>\n",
       "      <td>7</td>\n",
       "      <td>40</td>\n",
       "    </tr>\n",
       "  </tbody>\n",
       "</table>\n",
       "</div>"
      ],
      "text/plain": [
       "   lesson number  homework done  number students  complexity task\n",
       "0              1              5                8               10\n",
       "1              2              9                9               20\n",
       "2              3              7                8               30\n",
       "3              4              3                7               40"
      ]
     },
     "execution_count": 2,
     "metadata": {},
     "output_type": "execute_result"
    }
   ],
   "source": [
    "# Read in the hw_date.csv file as a DataFrame called hw.\n",
    "hw = pd.read_csv(\"hw_date.csv\")\n",
    "hw"
   ]
  },
  {
   "cell_type": "code",
   "execution_count": 3,
   "id": "0c0f529c-f2a3-4fcd-afcc-9a4b0e3c670b",
   "metadata": {},
   "outputs": [],
   "source": [
    "# load the data and turn X and y into numpy arrays\n",
    "# В данном задании не будем разбивать данные на тренировочные и тестовые\n",
    "\n",
    "# inputs / Массив X, содержит признаки для обучения (number students).\n",
    "X = hw[\"number students\"].values \n",
    "# outputs / Массив у с целевой переменной (homework done).\n",
    "y = hw[\"homework done\"].values   "
   ]
  },
  {
   "cell_type": "code",
   "execution_count": 4,
   "id": "7d0db742-96a0-4b22-81ad-e5587399ccc5",
   "metadata": {},
   "outputs": [
    {
     "data": {
      "text/plain": [
       "(numpy.ndarray, numpy.ndarray)"
      ]
     },
     "execution_count": 4,
     "metadata": {},
     "output_type": "execute_result"
    }
   ],
   "source": [
    "# Type X and y\n",
    "type(X), type(y)"
   ]
  },
  {
   "cell_type": "code",
   "execution_count": 5,
   "id": "af58c601-58af-41da-ab0c-cf5f37b339b2",
   "metadata": {},
   "outputs": [
    {
     "data": {
      "image/png": "[encoded data removed]",
      "text/plain": [
       "<Figure size 432x288 with 1 Axes>"
      ]
     },
     "metadata": {
      "needs_background": "light"
     },
     "output_type": "display_data"
    }
   ],
   "source": [
    "# Plot the data\n",
    "plt.scatter(X, y)\n",
    "plt.xlabel(\"Number of students present in the class.\")\n",
    "plt.ylabel(\"Number of homeworks done\")\n",
    "plt.title(\"Students and homework counts\")\n",
    "plt.show()"
   ]
  },
  {
   "cell_type": "code",
   "execution_count": null,
   "id": "57455122-9069-4182-9a81-cfdc35eafb28",
   "metadata": {},
   "outputs": [],
   "source": []
  },
  {
   "cell_type": "markdown",
   "id": "84fe7230-501b-4193-95ad-63f65fa95463",
   "metadata": {},
   "source": [
    "### -2- Manual linear regression method for one variable "
   ]
  },
  {
   "cell_type": "markdown",
   "id": "c9b2797f-359a-4452-88eb-f2a0b1db1d50",
   "metadata": {},
   "source": [
    "Реализуем метод линейной регрессии при помощи scipy.optimize.minimize\n",
    "В роли целевой функций, которую необходимо минимизировать используем средне квадратичную ошибку."
   ]
  },
  {
   "cell_type": "markdown",
   "id": "92a22384-8ef0-4cb0-ba05-86e3b9f8908d",
   "metadata": {},
   "source": [
    "Mean Squared Error (MSE) is the mean of the squared errors:\n",
    "$$\\frac 1n\\sum_{i=1}^n(y_i-\\hat{y}_i)^2$$"
   ]
  },
  {
   "cell_type": "code",
   "execution_count": 6,
   "id": "880e6e65-ae82-4e3e-96c5-4c91183977be",
   "metadata": {
    "tags": []
   },
   "outputs": [],
   "source": [
    "def mse(param):\n",
    "    \"\"\"MSE function for use in scipy.optimize.minimize\"\"\"\n",
    "    #Linear equation Y_hat = kx + b, k = param[0] and b = param[1]\n",
    "    Y_hat = param[0] * X + param[1]\n",
    "    return np.sum(pow((y - Y_hat), 2) / len(X))"
   ]
  },
  {
   "cell_type": "code",
   "execution_count": 7,
   "id": "9838d9ab-ebcf-49d8-b4ee-dcd39a0c4ce1",
   "metadata": {},
   "outputs": [
    {
     "data": {
      "text/plain": [
       "array([  3.00000595, -18.00004802])"
      ]
     },
     "execution_count": 7,
     "metadata": {},
     "output_type": "execute_result"
    }
   ],
   "source": [
    "# OptimizeResult\n",
    "min_mse = minimize(fun=mse, x0=[0, 0])\n",
    "min_mse.x"
   ]
  },
  {
   "cell_type": "code",
   "execution_count": 8,
   "id": "7e06cde0-6d31-496d-ac77-b28f75fdc059",
   "metadata": {},
   "outputs": [
    {
     "name": "stdout",
     "output_type": "stream",
     "text": [
      "Linear regression equation (using scipy.optimize.minimize): \n",
      "Y_hat = 3.00 * X -18.00\n"
     ]
    }
   ],
   "source": [
    "# Linear equation Y_hat = kx + b\n",
    "\n",
    "k = min_mse.x[0]    # slope\n",
    "b = min_mse.x[1]    # intersection\n",
    "\n",
    "Y_hat = k * X + b\n",
    "\n",
    "print(f\"Linear regression equation (using scipy.optimize.minimize): \\nY_hat = {k:.2f} * X {b:.2f}\")"
   ]
  },
  {
   "cell_type": "code",
   "execution_count": 9,
   "id": "dda042a0-3b5a-4594-b06a-3cac2179bc67",
   "metadata": {},
   "outputs": [
    {
     "data": {
      "image/png": "[encoded data removed]",
      "text/plain": [
       "<Figure size 432x288 with 1 Axes>"
      ]
     },
     "metadata": {
      "needs_background": "light"
     },
     "output_type": "display_data"
    }
   ],
   "source": [
    "# Plot the data\n",
    "plt.scatter(X, y)\n",
    "plt.plot(X, Y_hat)\n",
    "\n",
    "plt.xlabel(\"Number of students present in the class.\")\n",
    "plt.ylabel(\"Number of homeworks done\")\n",
    "plt.title(\"Students and homework counts -scipy.optimize.minimize method\")\n",
    "\n",
    "plt.show()"
   ]
  },
  {
   "cell_type": "code",
   "execution_count": null,
   "id": "bc8e9d05-1224-472d-911c-bc5641da181e",
   "metadata": {},
   "outputs": [],
   "source": []
  },
  {
   "cell_type": "markdown",
   "id": "b778433d-9c9f-4198-8798-a3af5397e2e4",
   "metadata": {},
   "source": [
    "### -3- Linear regression method using linear_model from sklearn library"
   ]
  },
  {
   "cell_type": "code",
   "execution_count": 10,
   "id": "db22ec8d-a434-42b8-8dc2-e4ad0c8e5e8e",
   "metadata": {},
   "outputs": [
    {
     "data": {
      "text/plain": [
       "LinearRegression()"
      ]
     },
     "execution_count": 10,
     "metadata": {},
     "output_type": "execute_result"
    }
   ],
   "source": [
    "# Instantiate a classifer and train it\n",
    "linear_model = LinearRegression()\n",
    "linear_model.fit(X.reshape(-1, 1), y)"
   ]
  },
  {
   "cell_type": "code",
   "execution_count": 11,
   "id": "c74654ce-5117-4ed7-befa-1ae92140a70c",
   "metadata": {},
   "outputs": [
    {
     "name": "stdout",
     "output_type": "stream",
     "text": [
      "Linear regression equation (using linear_model.LinearRegression): \n",
      "Y_hat = 3.00 * X + (-18.00)\n"
     ]
    }
   ],
   "source": [
    "# Linear equation Y_hat = kx + b\n",
    "\n",
    "k = float(linear_model.coef_)      # slope\n",
    "b = linear_model.intercept_        # intersection\n",
    "\n",
    "Y_hat = k * X + b\n",
    "\n",
    "print(f\"Linear regression equation (using linear_model.LinearRegression): \\nY_hat = {k:.2f} * X + ({b:.2f})\")"
   ]
  },
  {
   "cell_type": "code",
   "execution_count": 12,
   "id": "f55019dc-f489-4948-8ca9-b7dfc442d87f",
   "metadata": {
    "tags": []
   },
   "outputs": [
    {
     "data": {
      "text/plain": [
       "0.9"
      ]
     },
     "execution_count": 12,
     "metadata": {},
     "output_type": "execute_result"
    }
   ],
   "source": [
    "# Model performance evaluation \n",
    "linear_model.score(X.reshape(-1, 1), y)"
   ]
  },
  {
   "cell_type": "code",
   "execution_count": 13,
   "id": "389cd4eb-fced-4f2e-acbf-d8978427e687",
   "metadata": {},
   "outputs": [
    {
     "data": {
      "image/png": "[encoded data removed]",
      "text/plain": [
       "<Figure size 432x288 with 1 Axes>"
      ]
     },
     "metadata": {
      "needs_background": "light"
     },
     "output_type": "display_data"
    }
   ],
   "source": [
    "# Plot the data\n",
    "plt.scatter(X, y)\n",
    "plt.plot(X, Y_hat)\n",
    "plt.xlabel(\"Students\")\n",
    "plt.ylabel(\"Homework\")\n",
    "plt.title(\"Students and homework counts -linear_model.LinearRegression\")\n",
    "plt.show()"
   ]
  },
  {
   "cell_type": "code",
   "execution_count": 14,
   "id": "0db2efb7-07bd-4d09-bab1-0f9f517e4848",
   "metadata": {},
   "outputs": [],
   "source": [
    "# Использование методов scipy.optimize.minimize и linear_model.LinearRegression дали одинаковые значения коэффициетов модели.\n",
    "\n",
    "# Linear regression equation (using scipy.optimize.minimize): \n",
    "# Y_hat = 3.00 * X -18.00\n",
    "\n",
    "# Linear regression equation (using linear_model.LinearRegression): \n",
    "# Y_hat = 3.00 * X + (-18.00)\n",
    "# score (r2) - 0.9\n",
    "\n",
    "# Несмотря на высокую оценку, данный набор данных (слишком мало сэмплов) не позволяет точно предсказать количество выполненных домашних задании."
   ]
  },
  {
   "cell_type": "code",
   "execution_count": null,
   "id": "0544e84a-f91c-442d-9286-9d2d04ea0d85",
   "metadata": {},
   "outputs": [],
   "source": []
  },
  {
   "cell_type": "markdown",
   "id": "e5cdad24-14a2-42ae-ae0b-20303e3c7d1f",
   "metadata": {},
   "source": [
    "### -4- Ridge and Lasso method using linear_model from sklearn library"
   ]
  },
  {
   "cell_type": "code",
   "execution_count": 15,
   "id": "99d7e1ed-dc38-4041-940e-71b3ab66605e",
   "metadata": {},
   "outputs": [],
   "source": [
    "# Ridge regression model"
   ]
  },
  {
   "cell_type": "markdown",
   "id": "68667155-2a04-42fe-a95c-16dcb2e4a368",
   "metadata": {},
   "source": [
    "Гребневая регрессия (L2-регуляризация/Ridge regression) – наложение штрафа на сумму квадратов коэффициентов модели. "
   ]
  },
  {
   "cell_type": "code",
   "execution_count": 16,
   "id": "9227be53-b88b-452f-b318-b08458197728",
   "metadata": {
    "tags": []
   },
   "outputs": [
    {
     "name": "stdout",
     "output_type": "stream",
     "text": [
      "0.1  -->  0.8979591836734694\n",
      "0.2  -->  0.8925619834710743\n",
      "0.3  -->  0.8846880907372402\n",
      "0.4  -->  0.875\n",
      "0.5  -->  0.8639999999999999\n",
      "0.6  -->  0.8520710059171597\n",
      "0.7  -->  0.839506172839506\n",
      "0.8  -->  0.8265306122448979\n",
      "0.9  -->  0.8133174791914388\n",
      "1.0  -->  0.8\n"
     ]
    }
   ],
   "source": [
    "\"\"\"\n",
    "Для данного сета оптимальные коэффициентом будет 0, но при 0 ridge и lasso будут работать как LinearRegression(),\n",
    "примем допущение что оптимальных является коэффициент в диапазоне 0.1 и 1.\n",
    "Аналогично поступим и далее при вычислений Ridge and Lasso\n",
    "\"\"\"\n",
    "\n",
    "# Подберем коэффициент alpha\n",
    "# Возмем 10 значений в диапазоне 0.1 - 10\n",
    "for a in range(1, 11, 1):\n",
    "    ridge_model = Ridge(alpha=a/10)\n",
    "    ridge_model.fit(X.reshape(-1, 1), y)\n",
    "    print(a/10, \" --> \", ridge_model.score(X.reshape(-1, 1), y))"
   ]
  },
  {
   "cell_type": "code",
   "execution_count": 17,
   "id": "067cc6ba-78f8-4eb9-9a2d-e0beab51a544",
   "metadata": {
    "tags": []
   },
   "outputs": [],
   "source": [
    "# Выберем коэффициент alpha=0.1 при котором оценка модели является максимальной score=0.8979"
   ]
  },
  {
   "cell_type": "code",
   "execution_count": 18,
   "id": "e70fa3fa-4d76-45cb-982a-855d2bfd0a02",
   "metadata": {
    "tags": []
   },
   "outputs": [
    {
     "data": {
      "text/plain": [
       "Ridge(alpha=0.1)"
      ]
     },
     "execution_count": 18,
     "metadata": {},
     "output_type": "execute_result"
    }
   ],
   "source": [
    "# Instantiate a classifer and set Regularization strength\n",
    "ridge_model = Ridge(alpha=0.1)\n",
    "# Fit Ridge regression model.\n",
    "ridge_model.fit(X.reshape(-1, 1), y)"
   ]
  },
  {
   "cell_type": "code",
   "execution_count": 19,
   "id": "2a106436-f95f-4eee-a659-e1e2c5520e6b",
   "metadata": {},
   "outputs": [
    {
     "name": "stdout",
     "output_type": "stream",
     "text": [
      "Linear regression equation (using linear_model.Ridge): \n",
      "Y_hat = 2.86 * X + (-16.86)\n"
     ]
    }
   ],
   "source": [
    "# Linear equation Y_hat = kx + b\n",
    "\n",
    "k = float(ridge_model.coef_)      # slope\n",
    "b = ridge_model.intercept_ # intersection\n",
    "\n",
    "Y_hat = k * X + b\n",
    "\n",
    "print(f\"Linear regression equation (using linear_model.Ridge): \\nY_hat = {k:.2f} * X + ({b:.2f})\")"
   ]
  },
  {
   "cell_type": "code",
   "execution_count": 20,
   "id": "3ffd82a5-a0f5-4c0f-b846-ee106aadfa16",
   "metadata": {},
   "outputs": [
    {
     "data": {
      "text/plain": [
       "0.8979591836734694"
      ]
     },
     "execution_count": 20,
     "metadata": {},
     "output_type": "execute_result"
    }
   ],
   "source": [
    "# Model performance evaluation \n",
    "ridge_model.score(X.reshape(-1, 1), y)"
   ]
  },
  {
   "cell_type": "code",
   "execution_count": 21,
   "id": "ad0c1882-0df0-4b87-9f90-4e77de57fac6",
   "metadata": {},
   "outputs": [
    {
     "data": {
      "image/png": "[encoded data removed]",
      "text/plain": [
       "<Figure size 432x288 with 1 Axes>"
      ]
     },
     "metadata": {
      "needs_background": "light"
     },
     "output_type": "display_data"
    }
   ],
   "source": [
    "# Plot the data\n",
    "plt.scatter(X, y)\n",
    "plt.plot(X, Y_hat)\n",
    "plt.xlabel(\"Students\")\n",
    "plt.ylabel(\"Homework\")\n",
    "plt.title(\"Students and homework counts -Ridge regression model\")\n",
    "plt.show()"
   ]
  },
  {
   "cell_type": "code",
   "execution_count": null,
   "id": "c002ef5c-4562-4c06-b83f-2f7c825fe0fd",
   "metadata": {},
   "outputs": [],
   "source": []
  },
  {
   "cell_type": "code",
   "execution_count": 22,
   "id": "198ca00d-1390-4ac5-b691-8695bf3bda5b",
   "metadata": {},
   "outputs": [],
   "source": [
    "# Lasso regression model"
   ]
  },
  {
   "cell_type": "markdown",
   "id": "c42585e4-048f-4467-8aa9-c4b9975c4a74",
   "metadata": {},
   "source": [
    "Лассо-регрессия (L1-регуляризация/Lasso regression) – наложение штрафа на сумму абсолютных значений коэффициентов регрессии."
   ]
  },
  {
   "cell_type": "code",
   "execution_count": 23,
   "id": "8d2b7a31-1ac1-4a27-9129-3fd342d5b38f",
   "metadata": {},
   "outputs": [
    {
     "name": "stdout",
     "output_type": "stream",
     "text": [
      "0.1  -->  0.896\n",
      "0.2  -->  0.8840000000000001\n",
      "0.3  -->  0.8639999999999999\n",
      "0.4  -->  0.8359999999999999\n",
      "0.5  -->  0.8\n",
      "0.6  -->  0.756\n",
      "0.7  -->  0.704\n",
      "0.8  -->  0.6440000000000001\n",
      "0.9  -->  0.5759999999999998\n",
      "1.0  -->  0.5\n"
     ]
    }
   ],
   "source": [
    "# Подберем коэффициент alpha\n",
    "# Возмем 10 значений в диапазоне 0.1 - 10\n",
    "for a in range(1, 11, 1):\n",
    "    lasso_model = Lasso(alpha=a/10)\n",
    "    lasso_model.fit(X.reshape(-1, 1), y)\n",
    "    print(a/10, \" --> \", lasso_model.score(X.reshape(-1, 1), y))"
   ]
  },
  {
   "cell_type": "code",
   "execution_count": 24,
   "id": "557421ac-8889-4bce-bd6d-043be6f139d4",
   "metadata": {},
   "outputs": [],
   "source": [
    "# Выберем коэффициент alpha=0.1 при котором оценка модели является максимальной score=0.896"
   ]
  },
  {
   "cell_type": "code",
   "execution_count": 25,
   "id": "753ca43c-2272-4aa7-ab86-e57c53d5c4d4",
   "metadata": {},
   "outputs": [
    {
     "data": {
      "text/plain": [
       "Lasso(alpha=0.1)"
      ]
     },
     "execution_count": 25,
     "metadata": {},
     "output_type": "execute_result"
    }
   ],
   "source": [
    "# Instantiate a classifer and set \n",
    "# alpha (Constant that multiplies the L1 term, is equivalent to an ordinary least square)\n",
    "lasso_model = Lasso(alpha=0.1)\n",
    "# Fit model with coordinate descent.\n",
    "lasso_model.fit(X.reshape(-1, 1), y)"
   ]
  },
  {
   "cell_type": "code",
   "execution_count": 26,
   "id": "4f644456-738d-4dfb-a8f2-74cd968787b8",
   "metadata": {},
   "outputs": [
    {
     "name": "stdout",
     "output_type": "stream",
     "text": [
      "Linear regression equation (using linear_model.Lasso): \n",
      "Y_hat = 2.80 * X + (-16.40)\n"
     ]
    }
   ],
   "source": [
    "# Linear equation Y_hat = kx + b\n",
    "\n",
    "k = float(lasso_model.coef_)      # slope\n",
    "b = lasso_model.intercept_ # intersection\n",
    "\n",
    "Y_hat = k * X + b\n",
    "\n",
    "print(f\"Linear regression equation (using linear_model.Lasso): \\nY_hat = {k:.2f} * X + ({b:.2f})\")"
   ]
  },
  {
   "cell_type": "code",
   "execution_count": 27,
   "id": "f5843359-f0ed-4a94-89d7-09f33452012d",
   "metadata": {},
   "outputs": [
    {
     "data": {
      "text/plain": [
       "0.896"
      ]
     },
     "execution_count": 27,
     "metadata": {},
     "output_type": "execute_result"
    }
   ],
   "source": [
    "# Model performance evaluation \n",
    "lasso_model.score(X.reshape(-1, 1), y)"
   ]
  },
  {
   "cell_type": "code",
   "execution_count": 28,
   "id": "b11ad78c-eba2-4c5a-83b9-bfc8d33e0f1d",
   "metadata": {},
   "outputs": [
    {
     "data": {
      "image/png": "[encoded data removed]",
      "text/plain": [
       "<Figure size 432x288 with 1 Axes>"
      ]
     },
     "metadata": {
      "needs_background": "light"
     },
     "output_type": "display_data"
    }
   ],
   "source": [
    "# Plot the data\n",
    "plt.scatter(X, y)\n",
    "plt.plot(X, Y_hat)\n",
    "plt.xlabel(\"Students\")\n",
    "plt.ylabel(\"Homework\")\n",
    "plt.title(\"Students and homework counts -Lasso regression model()\")\n",
    "plt.show()"
   ]
  },
  {
   "cell_type": "code",
   "execution_count": 29,
   "id": "0f635c30-1a4c-4133-8662-86d78719640c",
   "metadata": {},
   "outputs": [],
   "source": [
    "# Ridge regression и Lasso regression дали схожие оценки с LinearRegression, хотя в теории на малом количестве сэмплов они должны давать результаты лутчше."
   ]
  },
  {
   "cell_type": "markdown",
   "id": "416285c0-39cd-4ce7-8512-3a2d5afd640c",
   "metadata": {},
   "source": [
    "Ridge regression и Lasso regression применяются для устранения переобучения Linear Regression путем наложения штрафов на значения параметров модели.\n",
    "* Гребневая регрессия (L2-регуляризация/Ridge regression) – наложение штрафа на сумму квадратов коэффициентов модели (Используется если важны все признаки датасета). \n",
    "* Лассо-регрессия (L1-регуляризация/Lasso regression) – наложение штрафа на сумму абсолютных значений коэффициентов регрессии (Используется если важны лишь некоторые признаки).\n"
   ]
  },
  {
   "cell_type": "code",
   "execution_count": null,
   "id": "9f83a66e-c5c8-4c17-ad40-8eab2f8c3047",
   "metadata": {},
   "outputs": [],
   "source": []
  },
  {
   "cell_type": "markdown",
   "id": "eef40a5b-4271-44b9-8ef7-ac5821d48072",
   "metadata": {},
   "source": [
    "### -5- Manual linear regression method for two variable "
   ]
  },
  {
   "cell_type": "code",
   "execution_count": 30,
   "id": "c4411927-d78f-42ed-9690-2396ad56e33a",
   "metadata": {},
   "outputs": [],
   "source": [
    "# load the data and turn X and y into numpy arrays\n",
    "# В данном занятии не будем разбивать данные на тренировочные и тестовые\n",
    "\n",
    "# inputs / Массив X, содержит признаки для обучения (number students, complexity task).\n",
    "X = hw[[\"number students\", \"complexity task\"]].values \n",
    "# outputs / Массив у с целевой переменной (homework done).\n",
    "y = hw[\"homework done\"].values   "
   ]
  },
  {
   "cell_type": "code",
   "execution_count": 31,
   "id": "cbfaaa72-9de0-48ce-af24-049f9d13b563",
   "metadata": {},
   "outputs": [
    {
     "data": {
      "text/plain": [
       "(numpy.ndarray, numpy.ndarray)"
      ]
     },
     "execution_count": 31,
     "metadata": {},
     "output_type": "execute_result"
    }
   ],
   "source": [
    "# Type X and y\n",
    "type(X), type(y)"
   ]
  },
  {
   "cell_type": "code",
   "execution_count": 32,
   "id": "f4302b9d-42aa-4cd0-a4d2-2c90c8c6d9d0",
   "metadata": {},
   "outputs": [],
   "source": [
    "# scipy.optimize.minimize"
   ]
  },
  {
   "cell_type": "code",
   "execution_count": 33,
   "id": "c13bd890-bed8-4127-b6a1-293891f65d94",
   "metadata": {
    "tags": []
   },
   "outputs": [],
   "source": [
    "def m_mse(param):\n",
    "    \"\"\"MSE function for use in scipy.optimize.minimize\"\"\"\n",
    "    #Linear equation Y_hat = kx + b, k = param[0] and b = param[1]\n",
    "    Y_hat = param[0] * X[:,0] + param[1] * X[:,1] + param[2]\n",
    "    return np.sum(pow((y - Y_hat), 2) / len(X))"
   ]
  },
  {
   "cell_type": "code",
   "execution_count": 34,
   "id": "671ff91b-4334-4978-b6c6-d3bc0f5dc4d9",
   "metadata": {},
   "outputs": [
    {
     "data": {
      "text/plain": [
       "array([  3.6666654 ,   0.06666658, -24.99998768])"
      ]
     },
     "execution_count": 34,
     "metadata": {},
     "output_type": "execute_result"
    }
   ],
   "source": [
    "# OptimizeResult\n",
    "m_min_mse = minimize(fun=m_mse, x0=[0, 0, 0])\n",
    "m_min_mse.x"
   ]
  },
  {
   "cell_type": "code",
   "execution_count": 35,
   "id": "6eb2ef40-0333-4ecf-bff9-eb59856c7d98",
   "metadata": {},
   "outputs": [
    {
     "data": {
      "text/plain": [
       "array([  3.6666654 ,   0.06666658, -24.99998768])"
      ]
     },
     "execution_count": 35,
     "metadata": {},
     "output_type": "execute_result"
    }
   ],
   "source": [
    "m_min_mse.x"
   ]
  },
  {
   "cell_type": "code",
   "execution_count": 36,
   "id": "b5f074ef-ddcf-4140-b1f0-db6c55a6b3d4",
   "metadata": {},
   "outputs": [],
   "source": [
    "# Linear equation Y_hat = k0x0 + k1x1 + b\n",
    "\n",
    "k0 = m_min_mse.x[0]      # slope\n",
    "k1 = m_min_mse.x[1]      # slope\n",
    "\n",
    "b = m_min_mse.x[2] # intersection\n",
    "\n",
    "Y_hat = k0 * X[:,0] + k1 * X[:,1] + b"
   ]
  },
  {
   "cell_type": "code",
   "execution_count": null,
   "id": "0240c23a-e227-4bcc-a2b4-a6db8a9bd03b",
   "metadata": {},
   "outputs": [],
   "source": []
  },
  {
   "cell_type": "markdown",
   "id": "1a8803e5-366c-49b8-af56-c303866666c9",
   "metadata": {},
   "source": [
    "### -6- Linear regression method for two variable using linear_model from sklearn library"
   ]
  },
  {
   "cell_type": "code",
   "execution_count": null,
   "id": "58820984-6357-4cc8-8ddc-a5e05d2231f0",
   "metadata": {},
   "outputs": [],
   "source": []
  },
  {
   "cell_type": "code",
   "execution_count": 37,
   "id": "0bd70cd8-b3a2-4cee-9bb1-6187e15596d0",
   "metadata": {},
   "outputs": [
    {
     "data": {
      "text/plain": [
       "LinearRegression()"
      ]
     },
     "execution_count": 37,
     "metadata": {},
     "output_type": "execute_result"
    }
   ],
   "source": [
    "# Instantiate a classifer and train it\n",
    "m_linear_model = LinearRegression()\n",
    "m_linear_model.fit(X, y)"
   ]
  },
  {
   "cell_type": "code",
   "execution_count": 38,
   "id": "57a01247-0c8a-4342-81e5-41e927a62a54",
   "metadata": {},
   "outputs": [
    {
     "data": {
      "text/plain": [
       "(array([3.66666667, 0.06666667]), -25.000000000000004)"
      ]
     },
     "execution_count": 38,
     "metadata": {},
     "output_type": "execute_result"
    }
   ],
   "source": [
    "m_linear_model.coef_, m_linear_model.intercept_"
   ]
  },
  {
   "cell_type": "code",
   "execution_count": 39,
   "id": "35204089-bb9b-4d05-b67c-1a431a65a4f1",
   "metadata": {},
   "outputs": [],
   "source": [
    "# Linear equation Y_hat = k0x0 + k1x1 + b\n",
    "\n",
    "k0 = m_linear_model.coef_[0]      # slope\n",
    "k1 = m_linear_model.coef_[1]      # slope\n",
    "\n",
    "b = m_linear_model.intercept_ # intersection\n",
    "\n",
    "Y_hat = k0 * X[:,0] + k1 * X[:,1] + b"
   ]
  },
  {
   "cell_type": "code",
   "execution_count": 40,
   "id": "90c90903-acdf-4df6-b292-d0f42a6f30b3",
   "metadata": {
    "tags": []
   },
   "outputs": [
    {
     "data": {
      "text/plain": [
       "0.9666666666666667"
      ]
     },
     "execution_count": 40,
     "metadata": {},
     "output_type": "execute_result"
    }
   ],
   "source": [
    "# Model performance evaluation \n",
    "m_linear_model.score(X, y)"
   ]
  },
  {
   "cell_type": "code",
   "execution_count": null,
   "id": "a0e2e03e-59e3-4541-9281-8ce53654dc7e",
   "metadata": {},
   "outputs": [],
   "source": []
  },
  {
   "cell_type": "markdown",
   "id": "54c7a2d9-ce87-4c2a-bc8c-e0b343967b46",
   "metadata": {},
   "source": [
    "### -7- Ridge and Lasso method for two variable using linear_model from sklearn library"
   ]
  },
  {
   "cell_type": "code",
   "execution_count": 41,
   "id": "c76fe87d-e4ff-4408-8ed3-627f65a1e699",
   "metadata": {},
   "outputs": [],
   "source": [
    "# Ridge regression model"
   ]
  },
  {
   "cell_type": "code",
   "execution_count": 42,
   "id": "3bc6b2d7-7774-4b26-8a1a-91723e018e4e",
   "metadata": {
    "tags": []
   },
   "outputs": [
    {
     "name": "stdout",
     "output_type": "stream",
     "text": [
      "0.1  -->  0.9618877203150427\n",
      "0.2  -->  0.950187659684293\n",
      "0.3  -->  0.9343737236279386\n",
      "0.4  -->  0.9162170197999713\n",
      "0.5  -->  0.8968500240425563\n",
      "0.6  -->  0.8770023170627761\n",
      "0.7  -->  0.8571443894647742\n",
      "0.8  -->  0.8375775172935738\n",
      "0.9  -->  0.8184911156027692\n",
      "1.0  -->  0.7999999999999998\n"
     ]
    }
   ],
   "source": [
    "# Подберем коэффициент alpha\n",
    "# Возмем 10 значений в диапазоне 0.1 - 10\n",
    "for a in range(1, 11, 1):\n",
    "    m_ridge_model = Ridge(alpha=a/10)\n",
    "    m_ridge_model.fit(X, y)\n",
    "    print(a/10, \" --> \", m_ridge_model.score(X, y))"
   ]
  },
  {
   "cell_type": "code",
   "execution_count": 43,
   "id": "3f145d19-8b0d-4545-b85d-19e728cc5e4d",
   "metadata": {
    "tags": []
   },
   "outputs": [],
   "source": [
    "# Выберем коэффициент alpha=0.1 при котором оценка модели является максимальной score=0.9618"
   ]
  },
  {
   "cell_type": "code",
   "execution_count": 44,
   "id": "9049bfdd-8356-464c-aba7-9f53f10a8561",
   "metadata": {},
   "outputs": [
    {
     "data": {
      "text/plain": [
       "Ridge(alpha=0.1)"
      ]
     },
     "execution_count": 44,
     "metadata": {},
     "output_type": "execute_result"
    }
   ],
   "source": [
    "# Instantiate a classifer and set Regularization strength\n",
    "m_ridge_model = Ridge(alpha=0.1)\n",
    "# Fit Ridge regression model.\n",
    "m_ridge_model.fit(X, y)"
   ]
  },
  {
   "cell_type": "code",
   "execution_count": 45,
   "id": "ed34a678-8297-4c2d-ae9b-8256099b38a9",
   "metadata": {},
   "outputs": [
    {
     "data": {
      "text/plain": [
       "(array([3.38444503, 0.05536673]), -22.459728395441456)"
      ]
     },
     "execution_count": 45,
     "metadata": {},
     "output_type": "execute_result"
    }
   ],
   "source": [
    "m_ridge_model.coef_, m_ridge_model.intercept_"
   ]
  },
  {
   "cell_type": "code",
   "execution_count": 46,
   "id": "e5b2a37c-ecf4-4b7c-8ce0-9bc4733324c0",
   "metadata": {},
   "outputs": [],
   "source": [
    "# Linear equation Y_hat = k0x0 + k1x1 + b\n",
    "\n",
    "k0 = m_ridge_model.coef_[0]      # slope\n",
    "k1 = m_ridge_model.coef_[1]      # slope\n",
    "\n",
    "b = m_ridge_model.intercept_ # intersection\n",
    "\n",
    "Y_hat = k0 * X[:,0] + k1 * X[:,1] + b"
   ]
  },
  {
   "cell_type": "code",
   "execution_count": 47,
   "id": "0e6109d5-6755-4207-b92b-a0597d7381cd",
   "metadata": {},
   "outputs": [
    {
     "data": {
      "text/plain": [
       "0.9618877203150427"
      ]
     },
     "execution_count": 47,
     "metadata": {},
     "output_type": "execute_result"
    }
   ],
   "source": [
    "# Model performance evaluation \n",
    "m_ridge_model.score(X, y)"
   ]
  },
  {
   "cell_type": "code",
   "execution_count": null,
   "id": "00753517-173b-4ff3-9d34-58611952a693",
   "metadata": {},
   "outputs": [],
   "source": []
  },
  {
   "cell_type": "code",
   "execution_count": 48,
   "id": "300dfca1-964a-4f6e-b1bd-ce1749897471",
   "metadata": {},
   "outputs": [],
   "source": [
    "# Lasso regression model"
   ]
  },
  {
   "cell_type": "code",
   "execution_count": 49,
   "id": "40727a39-7218-45e0-b998-9bae6a962f27",
   "metadata": {},
   "outputs": [
    {
     "name": "stdout",
     "output_type": "stream",
     "text": [
      "0.1  -->  0.9594343281860872\n",
      "0.2  -->  0.9377518568831567\n",
      "0.3  -->  0.9016081265189915\n",
      "0.4  -->  0.8510181885884077\n",
      "0.5  -->  0.8\n",
      "0.6  -->  0.7449267988677367\n",
      "0.7  -->  0.6648388803560363\n",
      "0.8  -->  0.5724361155379537\n",
      "0.9  -->  0.46772164525240456\n",
      "1.0  -->  0.350675256571235\n"
     ]
    }
   ],
   "source": [
    "# Подберем коэффициент alpha\n",
    "# Возмем 10 значений в диапазоне 0.1 - 10\n",
    "for a in range(1, 11, 1):\n",
    "    m_lasso_model = Lasso(alpha=a/10)\n",
    "    m_lasso_model.fit(X, y)\n",
    "    print(a/10, \" --> \", m_lasso_model.score(X, y))"
   ]
  },
  {
   "cell_type": "code",
   "execution_count": 50,
   "id": "840f8457-739c-4e8d-b036-f785d8028cdc",
   "metadata": {},
   "outputs": [],
   "source": [
    "# Выберем коэффициент alpha=0.1 при котором оценка модели является максимальной score=0.9594"
   ]
  },
  {
   "cell_type": "code",
   "execution_count": 51,
   "id": "4d3a7084-2c63-49cd-8873-a95b6276aa9e",
   "metadata": {},
   "outputs": [
    {
     "data": {
      "text/plain": [
       "Lasso(alpha=0.1)"
      ]
     },
     "execution_count": 51,
     "metadata": {},
     "output_type": "execute_result"
    }
   ],
   "source": [
    "# Instantiate a classifer and set \n",
    "# alpha (Constant that multiplies the L1 term, is equivalent to an ordinary least square)\n",
    "m_lasso_model = Lasso(alpha=0.1)\n",
    "# Fit model with coordinate descent.\n",
    "m_lasso_model.fit(X, y)"
   ]
  },
  {
   "cell_type": "code",
   "execution_count": 52,
   "id": "68fd1c47-65fc-4deb-ad72-e544eb5e294a",
   "metadata": {},
   "outputs": [
    {
     "data": {
      "text/plain": [
       "(array([3.31986369, 0.05199455]), -21.858773166080006)"
      ]
     },
     "execution_count": 52,
     "metadata": {},
     "output_type": "execute_result"
    }
   ],
   "source": [
    "m_lasso_model.coef_, m_lasso_model.intercept_"
   ]
  },
  {
   "cell_type": "code",
   "execution_count": 53,
   "id": "53e348b0-e6c4-4e52-bc43-9ee7ffae34d1",
   "metadata": {},
   "outputs": [],
   "source": [
    "# Linear equation Y_hat = k0x0 + k1x1 + b\n",
    "\n",
    "k0 = m_lasso_model.coef_[0]      # slope\n",
    "k1 = m_lasso_model.coef_[1]      # slope\n",
    "\n",
    "b = m_lasso_model.intercept_ # intersection\n",
    "\n",
    "Y_hat = k0 * X[:,0] + k1 * X[:,1] + b"
   ]
  },
  {
   "cell_type": "code",
   "execution_count": 54,
   "id": "dcd4091c-2c89-430d-a614-12270b550ef1",
   "metadata": {},
   "outputs": [
    {
     "data": {
      "text/plain": [
       "0.9594343281860872"
      ]
     },
     "execution_count": 54,
     "metadata": {},
     "output_type": "execute_result"
    }
   ],
   "source": [
    "# Model performance evaluation \n",
    "m_lasso_model.score(X, y)"
   ]
  },
  {
   "cell_type": "code",
   "execution_count": null,
   "id": "df1066b7-cb12-41cd-9ebe-247c1d012b32",
   "metadata": {},
   "outputs": [],
   "source": []
  },
  {
   "cell_type": "code",
   "execution_count": 55,
   "id": "c2aaaf77-4f5e-4b16-91ac-5baecbdd6b04",
   "metadata": {},
   "outputs": [],
   "source": [
    "# Добавление дополнительных признаков позволяет улутчить качество модели."
   ]
  },
  {
   "cell_type": "code",
   "execution_count": null,
   "id": "1e35d2ac-accd-44b5-81ba-a39a547210b5",
   "metadata": {},
   "outputs": [],
   "source": []
  }
 ],
 "metadata": {
  "kernelspec": {
   "display_name": "Python 3 (ipykernel)",
   "language": "python",
   "name": "python3"
  },
  "language_info": {
   "codemirror_mode": {
    "name": "ipython",
    "version": 3
   },
   "file_extension": ".py",
   "mimetype": "text/x-python",
   "name": "python",
   "nbconvert_exporter": "python",
   "pygments_lexer": "ipython3",
   "version": "3.7.9"
  }
 },
 "nbformat": 4,
 "nbformat_minor": 5
}
