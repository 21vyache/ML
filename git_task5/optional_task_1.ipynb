{
 "cells": [
  {
   "cell_type": "raw",
   "id": "a71ce4dc-a74f-44a9-85b7-d3e7179f8963",
   "metadata": {},
   "source": [
    "Twice linear\n",
    "https://www.codewars.com/kata/5672682212c8ecf83e000050\n",
    "Consider a sequence u where u is defined as follows:\n",
    "    The number u(0) = 1 is the first one in u.\n",
    "    For each x in u, then y = 2 * x + 1 and z = 3 * x + 1 must be in u too.\n",
    "    There are no other numbers in u.    \n",
    "\n",
    "Example: u = [1, 3, 4, 7, 9, 10, 13, 15, 19, 21, 22, 27, ...]\n",
    "1 gives 3 and 4, then 3 gives 7 and 10, 4 gives 9 and 13, then 7 gives 15 and 22 \n",
    "and so on...\n",
    "\n",
    "Task: Given parameter n the function dbl_linear (or dblLinear...) \n",
    "returns the element u(n) of the ordered sequence u \n",
    "(ordered with < so there are no duplicates).\n",
    "\n",
    "Example: dbl_linear(10) should return 22\n",
    "Note: Focus attention on efficiency"
   ]
  },
  {
   "cell_type": "code",
   "execution_count": 1,
   "id": "078efd4c-897e-4688-b323-1ad9c390a172",
   "metadata": {},
   "outputs": [],
   "source": [
    "#Supporting functions"
   ]
  },
  {
   "cell_type": "code",
   "execution_count": 2,
   "id": "b3ce0c02-4b88-4c9c-aaed-fe2d2b4a82fd",
   "metadata": {},
   "outputs": [],
   "source": [
    "def positiv_int_input(x):\n",
    "    \"\"\"Input verification\"\"\"\n",
    "    try:\n",
    "        x = int(x)\n",
    "        if x >= 0:\n",
    "            return x\n",
    "        \n",
    "    except ValueError as err:\n",
    "        print(err)"
   ]
  },
  {
   "cell_type": "code",
   "execution_count": 3,
   "id": "0738cd99-a336-4362-8fba-1dcc0fdc0d96",
   "metadata": {},
   "outputs": [],
   "source": [
    "def y_function(x):\n",
    "    \"\"\"First conditional function\"\"\"\n",
    "    return 2*x + 1"
   ]
  },
  {
   "cell_type": "code",
   "execution_count": 4,
   "id": "3fbb9b21-3d08-405a-add0-ba5823d97bc6",
   "metadata": {},
   "outputs": [],
   "source": [
    "def z_function(x):\n",
    "    \"\"\"Second conditional function\"\"\"\n",
    "    return 3*x + 1"
   ]
  },
  {
   "cell_type": "code",
   "execution_count": 5,
   "id": "d7360106-ecbd-4732-bc8f-41366ed33549",
   "metadata": {},
   "outputs": [],
   "source": [
    "#Main function"
   ]
  },
  {
   "cell_type": "code",
   "execution_count": 6,
   "id": "b132b2c6-d1ea-49f5-bd73-00f0e73bd3c7",
   "metadata": {},
   "outputs": [],
   "source": [
    "def twice_linear_number(x):\n",
    "    \"\"\"Return one number, base task\"\"\"\n",
    "    number = positiv_int_input(x)\n",
    "    \n",
    "    final   = [1,3,4]   # Массив с начальным набором (для индекса 0,1,2), для хранения всей последовательности\n",
    "    current = [3,4]     # Массив с начальным набором, для хранения одного среза (например для 3 -> (7, 10) и 4 -> (9, 13))\n",
    "    target  = []        # Массив для хранения полученных значении с одного числа (например для числа 3 хранит (7, 10)) \n",
    "    \n",
    "    # Calculations begin with index 3\n",
    "    while len(final) <= number:\n",
    "        for num in current: # Прохождение по числам в срезе\n",
    "            target.append(y_function(num))\n",
    "            target.append(z_function(num))\n",
    "            \n",
    "        current.clear()\n",
    "        current.extend(target)\n",
    "        target.clear()\n",
    "    \n",
    "        final.extend(current)      # Adding values for the current slice\n",
    "        final = list(set(final))   # Removing duplicates and sorting\n",
    "        final.sort()\n",
    "            \n",
    "    return final[number]"
   ]
  },
  {
   "cell_type": "code",
   "execution_count": 7,
   "id": "6d2fd2ef-0dc2-4e5b-a804-1a548468cdc1",
   "metadata": {},
   "outputs": [],
   "source": [
    "# Test\n",
    "assert (twice_linear_number(10) == 22)"
   ]
  },
  {
   "cell_type": "code",
   "execution_count": 8,
   "id": "b975ef95-7515-467d-9689-51d74131d41b",
   "metadata": {},
   "outputs": [
    {
     "name": "stdout",
     "output_type": "stream",
     "text": [
      "0 --> \t1\n",
      "1 --> \t3\n",
      "2 --> \t4\n",
      "3 --> \t7\n",
      "4 --> \t9\n",
      "5 --> \t10\n",
      "6 --> \t13\n",
      "7 --> \t15\n",
      "8 --> \t19\n",
      "9 --> \t21\n",
      "10 --> \t22\n",
      "11 --> \t27\n",
      "12 --> \t28\n",
      "13 --> \t31\n",
      "14 --> \t40\n",
      "15 --> \t40\n",
      "16 --> \t43\n",
      "17 --> \t45\n",
      "18 --> \t46\n",
      "19 --> \t55\n",
      "20 --> \t57\n"
     ]
    }
   ],
   "source": [
    "# Test (first 20 index)\n",
    "for i in range(21):\n",
    "    print(f\"{i} --> \\t{twice_linear_number(i)}\")"
   ]
  },
  {
   "cell_type": "code",
   "execution_count": null,
   "id": "16782199-bc36-45ba-8306-f79be0cf1c01",
   "metadata": {},
   "outputs": [],
   "source": []
  }
 ],
 "metadata": {
  "kernelspec": {
   "display_name": "Python 3 (ipykernel)",
   "language": "python",
   "name": "python3"
  },
  "language_info": {
   "codemirror_mode": {
    "name": "ipython",
    "version": 3
   },
   "file_extension": ".py",
   "mimetype": "text/x-python",
   "name": "python",
   "nbconvert_exporter": "python",
   "pygments_lexer": "ipython3",
   "version": "3.7.9"
  }
 },
 "nbformat": 4,
 "nbformat_minor": 5
}
