{
 "cells": [
  {
   "cell_type": "markdown",
   "id": "45849c06-7718-42de-880e-07dc6b990a54",
   "metadata": {
    "tags": []
   },
   "source": [
    "# ДЗ №11 Fraud detection with clusterization\n",
    "Добавлено: 30.10.2021 15:34\n",
    "Сдать до 24 января 17:00\n",
    "\n",
    "\n",
    "* Будем использовать датасет и задачу из прошлого домашнего задания. \n",
    "* Перед вами стоит задача по информации о банковской транзакции определить мошенническая она или нет. \n",
    "* В архиве будут 2 csv файла, нужно попытаться использовать оба для предсказаний.\n",
    "* Целевую колонку (isFraud) в файле trans_small.csv перед построением кластеров необходимо удалить.\n",
    "\n",
    "Задание:\n",
    "* Использовать предобработку датасета из прошлого домашнего задания\n",
    "* Кластеризовать данные при помощи KMeans\n",
    "* Найти оптимальное количество кластеров\n",
    "* Посчитать Silhouette index\n",
    "* Кластеризовать данные при помощи DBSCAN\n",
    "* Проанализировать средние значения признаков в кластерах, что вы можете о них сказать?\n",
    "* Сравнить принадлежность конкретной записи к кластеру и удалённую целевую колонку isFraud.\n",
    "* Сравните по метрике AUC какой подход лучше - из прошлой работы, или из этой (supervised vs unsupervised)\n",
    "\n",
    "Опционально:\n",
    "* Можно ли визуализировать полученные кластеры? \n",
    "* (Подсказка: возможно нужно использовать методы понижения размерности, или уже готовые библиотеки)"
   ]
  },
  {
   "cell_type": "markdown",
   "id": "f28f1d5a-40d8-4447-a28e-b80079dbaa92",
   "metadata": {},
   "source": [
    "# Import section"
   ]
  },
  {
   "cell_type": "code",
   "execution_count": 40,
   "id": "18d9cc27-11aa-4212-85e8-1b073a83770a",
   "metadata": {
    "tags": []
   },
   "outputs": [],
   "source": [
    "# Base library\n",
    "import numpy as np                                        # Linear algebra\n",
    "import pandas as pd                                       # Data processing\n",
    "\n",
    "# Visualization library\n",
    "import matplotlib.pyplot as plt                           # Plotting library \n",
    "import seaborn as sns                                     # Data visualization\n",
    "\n",
    "# Displays output inline\n",
    "%matplotlib inline     \n",
    "\n",
    "# Machine learning library\n",
    "from sklearn.linear_model import LogisticRegression       # Class implements regularized logistic regression\n",
    "from sklearn.model_selection import train_test_split      # Split arrays\n",
    "from sklearn.preprocessing import StandardScaler\n",
    "\n",
    "from sklearn.metrics import classification_report\n",
    "from sklearn.metrics import confusion_matrix\n",
    "from sklearn.metrics import plot_confusion_matrix\n",
    "from sklearn.metrics import precision_score\n",
    "from sklearn.metrics import accuracy_score\n",
    "from sklearn.metrics import roc_auc_score\n",
    "from sklearn.metrics import silhouette_score\n",
    "\n",
    "from sklearn.tree import DecisionTreeClassifier\n",
    "from sklearn.tree import plot_tree\n",
    "\n",
    "from sklearn.ensemble import RandomForestClassifier\n",
    "\n",
    "from imblearn.over_sampling import SMOTE\n",
    "from imblearn.under_sampling import RandomUnderSampler\n",
    "from sklearn.impute import SimpleImputer\n",
    "from sklearn.neighbors import KNeighborsClassifier\n",
    "\n",
    "from sklearn.decomposition import PCA\n",
    "\n",
    "import xgboost as xgb\n",
    "from xgboost import XGBClassifier\n",
    "from sklearn.utils import class_weight\n",
    "\n",
    "\n",
    "from sklearn.cluster import KMeans # Import KMeans from SciKit Learn.\n",
    "from sklearn.cluster import DBSCAN # Import DBSCAN from SciKit Learn."
   ]
  },
  {
   "cell_type": "markdown",
   "id": "e1333f5d-7d88-4e2d-9ca7-a957640c8c39",
   "metadata": {
    "tags": []
   },
   "source": [
    "# Data section"
   ]
  },
  {
   "cell_type": "markdown",
   "id": "2bfc2f69-fef1-4d57-adb5-16e7adc776da",
   "metadata": {
    "tags": []
   },
   "source": [
    "## Load the data"
   ]
  },
  {
   "cell_type": "code",
   "execution_count": 41,
   "id": "20e3e3bb-542a-4e25-bdbe-4c51213fee8c",
   "metadata": {
    "tags": []
   },
   "outputs": [],
   "source": [
    "# Оставим только основные шаги по обработке дата сета с 10 работы\n",
    "\n",
    "# Read csv file as a DataFrame.\n",
    "data1 = pd.read_csv(\"identity_small.csv\")\n",
    "data2 = pd.read_csv(\"trans_small.csv\")"
   ]
  },
  {
   "cell_type": "markdown",
   "id": "fa32d177-7ca9-4d32-93b1-3220352d5ea2",
   "metadata": {},
   "source": [
    "## Exploratory data analysis and visualization"
   ]
  },
  {
   "cell_type": "code",
   "execution_count": 42,
   "id": "e7252c8d-0b33-4063-8f10-36ce3ed52746",
   "metadata": {},
   "outputs": [
    {
     "name": "stdout",
     "output_type": "stream",
     "text": [
      "Shape data1: \n",
      "(144233, 8)\n",
      "Shape data2: \n",
      "(590540, 23)\n"
     ]
    }
   ],
   "source": [
    "# Data dimensionality\n",
    "print(f\"Shape data1: \\n{data1.shape}\")\n",
    "# Data dimensionality\n",
    "print(f\"Shape data2: \\n{data2.shape}\")"
   ]
  },
  {
   "cell_type": "code",
   "execution_count": 43,
   "id": "0fb24c79-64ba-4617-832f-f9351d07a46e",
   "metadata": {},
   "outputs": [
    {
     "data": {
      "text/html": [
       "<div>\n",
       "<style scoped>\n",
       "    .dataframe tbody tr th:only-of-type {\n",
       "        vertical-align: middle;\n",
       "    }\n",
       "\n",
       "    .dataframe tbody tr th {\n",
       "        vertical-align: top;\n",
       "    }\n",
       "\n",
       "    .dataframe thead th {\n",
       "        text-align: right;\n",
       "    }\n",
       "</style>\n",
       "<table border=\"1\" class=\"dataframe\">\n",
       "  <thead>\n",
       "    <tr style=\"text-align: right;\">\n",
       "      <th></th>\n",
       "      <th>TransactionID</th>\n",
       "      <th>id_04</th>\n",
       "      <th>id_20</th>\n",
       "      <th>id_24</th>\n",
       "      <th>id_33</th>\n",
       "      <th>id_29</th>\n",
       "      <th>id_22</th>\n",
       "      <th>id_02</th>\n",
       "      <th>D4</th>\n",
       "      <th>card1</th>\n",
       "      <th>...</th>\n",
       "      <th>V225</th>\n",
       "      <th>V277</th>\n",
       "      <th>V243</th>\n",
       "      <th>V40</th>\n",
       "      <th>V46</th>\n",
       "      <th>V244</th>\n",
       "      <th>V274</th>\n",
       "      <th>V73</th>\n",
       "      <th>V147</th>\n",
       "      <th>M5</th>\n",
       "    </tr>\n",
       "  </thead>\n",
       "  <tbody>\n",
       "    <tr>\n",
       "      <th>0</th>\n",
       "      <td>2987004</td>\n",
       "      <td>NaN</td>\n",
       "      <td>144.0</td>\n",
       "      <td>NaN</td>\n",
       "      <td>2220x1080</td>\n",
       "      <td>NotFound</td>\n",
       "      <td>NaN</td>\n",
       "      <td>70787.0</td>\n",
       "      <td>NaN</td>\n",
       "      <td>4497</td>\n",
       "      <td>...</td>\n",
       "      <td>0.0</td>\n",
       "      <td>0.000000</td>\n",
       "      <td>1.0</td>\n",
       "      <td>NaN</td>\n",
       "      <td>NaN</td>\n",
       "      <td>1.0</td>\n",
       "      <td>0.0</td>\n",
       "      <td>NaN</td>\n",
       "      <td>0.0</td>\n",
       "      <td>NaN</td>\n",
       "    </tr>\n",
       "    <tr>\n",
       "      <th>1</th>\n",
       "      <td>2987008</td>\n",
       "      <td>NaN</td>\n",
       "      <td>500.0</td>\n",
       "      <td>NaN</td>\n",
       "      <td>1334x750</td>\n",
       "      <td>NotFound</td>\n",
       "      <td>NaN</td>\n",
       "      <td>98945.0</td>\n",
       "      <td>NaN</td>\n",
       "      <td>2803</td>\n",
       "      <td>...</td>\n",
       "      <td>0.0</td>\n",
       "      <td>0.000000</td>\n",
       "      <td>1.0</td>\n",
       "      <td>NaN</td>\n",
       "      <td>NaN</td>\n",
       "      <td>1.0</td>\n",
       "      <td>0.0</td>\n",
       "      <td>NaN</td>\n",
       "      <td>0.0</td>\n",
       "      <td>NaN</td>\n",
       "    </tr>\n",
       "    <tr>\n",
       "      <th>2</th>\n",
       "      <td>2987010</td>\n",
       "      <td>0.0</td>\n",
       "      <td>142.0</td>\n",
       "      <td>NaN</td>\n",
       "      <td>NaN</td>\n",
       "      <td>Found</td>\n",
       "      <td>NaN</td>\n",
       "      <td>191631.0</td>\n",
       "      <td>0.0</td>\n",
       "      <td>16496</td>\n",
       "      <td>...</td>\n",
       "      <td>2.0</td>\n",
       "      <td>75.887497</td>\n",
       "      <td>1.0</td>\n",
       "      <td>1.0</td>\n",
       "      <td>2.0</td>\n",
       "      <td>1.0</td>\n",
       "      <td>0.0</td>\n",
       "      <td>2.0</td>\n",
       "      <td>NaN</td>\n",
       "      <td>NaN</td>\n",
       "    </tr>\n",
       "  </tbody>\n",
       "</table>\n",
       "<p>3 rows × 30 columns</p>\n",
       "</div>"
      ],
      "text/plain": [
       "   TransactionID  id_04  id_20  id_24      id_33     id_29  id_22     id_02  \\\n",
       "0        2987004    NaN  144.0    NaN  2220x1080  NotFound    NaN   70787.0   \n",
       "1        2987008    NaN  500.0    NaN   1334x750  NotFound    NaN   98945.0   \n",
       "2        2987010    0.0  142.0    NaN        NaN     Found    NaN  191631.0   \n",
       "\n",
       "    D4  card1  ...  V225       V277  V243  V40  V46  V244  V274  V73  V147  \\\n",
       "0  NaN   4497  ...   0.0   0.000000   1.0  NaN  NaN   1.0   0.0  NaN   0.0   \n",
       "1  NaN   2803  ...   0.0   0.000000   1.0  NaN  NaN   1.0   0.0  NaN   0.0   \n",
       "2  0.0  16496  ...   2.0  75.887497   1.0  1.0  2.0   1.0   0.0  2.0   NaN   \n",
       "\n",
       "    M5  \n",
       "0  NaN  \n",
       "1  NaN  \n",
       "2  NaN  \n",
       "\n",
       "[3 rows x 30 columns]"
      ]
     },
     "execution_count": 43,
     "metadata": {},
     "output_type": "execute_result"
    }
   ],
   "source": [
    "# data1 является дополнение набора data2 по 144233 строкам. Объединим оба набора в один.\n",
    "data = pd.merge(data1, data2, on='TransactionID', how='outer')\n",
    "\n",
    "# Preview the data\n",
    "# Title DataFrame diabetes (return the first `n` rows) \n",
    "data.head(n=3)"
   ]
  },
  {
   "cell_type": "code",
   "execution_count": 44,
   "id": "1568a6be-2777-492f-af30-2232b9cba61b",
   "metadata": {},
   "outputs": [
    {
     "name": "stdout",
     "output_type": "stream",
     "text": [
      "<class 'pandas.core.frame.DataFrame'>\n",
      "Int64Index: 590540 entries, 0 to 590539\n",
      "Data columns (total 30 columns):\n",
      " #   Column          Non-Null Count   Dtype  \n",
      "---  ------          --------------   -----  \n",
      " 0   TransactionID   590540 non-null  int64  \n",
      " 1   id_04           66324 non-null   float64\n",
      " 2   id_20           139261 non-null  float64\n",
      " 3   id_24           4747 non-null    float64\n",
      " 4   id_33           73289 non-null   object \n",
      " 5   id_29           140978 non-null  object \n",
      " 6   id_22           5169 non-null    float64\n",
      " 7   id_02           140872 non-null  float64\n",
      " 8   D4              421618 non-null  float64\n",
      " 9   card1           590540 non-null  int64  \n",
      " 10  card2           581607 non-null  float64\n",
      " 11  card3           588975 non-null  float64\n",
      " 12  addr1           524834 non-null  float64\n",
      " 13  addr2           524834 non-null  float64\n",
      " 14  TransactionAmt  590540 non-null  float64\n",
      " 15  isFraud         590540 non-null  int64  \n",
      " 16  C13             590540 non-null  float64\n",
      " 17  D10             514518 non-null  float64\n",
      " 18  D1              589271 non-null  float64\n",
      " 19  D4.1            421618 non-null  float64\n",
      " 20  V225            130430 non-null  float64\n",
      " 21  V277            130430 non-null  float64\n",
      " 22  V243            130430 non-null  float64\n",
      " 23  V40             421571 non-null  float64\n",
      " 24  V46             421571 non-null  float64\n",
      " 25  V244            130430 non-null  float64\n",
      " 26  V274            130430 non-null  float64\n",
      " 27  V73             513444 non-null  float64\n",
      " 28  V147            81945 non-null   float64\n",
      " 29  M5              240058 non-null  object \n",
      "dtypes: float64(24), int64(3), object(3)\n",
      "memory usage: 139.7+ MB\n",
      "None \n",
      "\n",
      "Column names: \n",
      "Index(['TransactionID', 'id_04', 'id_20', 'id_24', 'id_33', 'id_29', 'id_22',\n",
      "       'id_02', 'D4', 'card1', 'card2', 'card3', 'addr1', 'addr2',\n",
      "       'TransactionAmt', 'isFraud', 'C13', 'D10', 'D1', 'D4.1', 'V225', 'V277',\n",
      "       'V243', 'V40', 'V46', 'V244', 'V274', 'V73', 'V147', 'M5'],\n",
      "      dtype='object') \n",
      "\n",
      "Shape: \n",
      "(590540, 30) \n",
      "\n"
     ]
    },
    {
     "data": {
      "text/html": [
       "<div>\n",
       "<style scoped>\n",
       "    .dataframe tbody tr th:only-of-type {\n",
       "        vertical-align: middle;\n",
       "    }\n",
       "\n",
       "    .dataframe tbody tr th {\n",
       "        vertical-align: top;\n",
       "    }\n",
       "\n",
       "    .dataframe thead th {\n",
       "        text-align: right;\n",
       "    }\n",
       "</style>\n",
       "<table border=\"1\" class=\"dataframe\">\n",
       "  <thead>\n",
       "    <tr style=\"text-align: right;\">\n",
       "      <th></th>\n",
       "      <th>TransactionID</th>\n",
       "      <th>id_04</th>\n",
       "      <th>id_20</th>\n",
       "      <th>id_24</th>\n",
       "      <th>id_22</th>\n",
       "      <th>id_02</th>\n",
       "      <th>D4</th>\n",
       "      <th>card1</th>\n",
       "      <th>card2</th>\n",
       "      <th>card3</th>\n",
       "      <th>...</th>\n",
       "      <th>D4.1</th>\n",
       "      <th>V225</th>\n",
       "      <th>V277</th>\n",
       "      <th>V243</th>\n",
       "      <th>V40</th>\n",
       "      <th>V46</th>\n",
       "      <th>V244</th>\n",
       "      <th>V274</th>\n",
       "      <th>V73</th>\n",
       "      <th>V147</th>\n",
       "    </tr>\n",
       "  </thead>\n",
       "  <tbody>\n",
       "    <tr>\n",
       "      <th>count</th>\n",
       "      <td>5.905400e+05</td>\n",
       "      <td>66324.000000</td>\n",
       "      <td>139261.000000</td>\n",
       "      <td>4747.000000</td>\n",
       "      <td>5169.000000</td>\n",
       "      <td>140872.000000</td>\n",
       "      <td>421618.000000</td>\n",
       "      <td>590540.000000</td>\n",
       "      <td>581607.000000</td>\n",
       "      <td>588975.000000</td>\n",
       "      <td>...</td>\n",
       "      <td>421618.000000</td>\n",
       "      <td>130430.000000</td>\n",
       "      <td>130430.000000</td>\n",
       "      <td>130430.000000</td>\n",
       "      <td>421571.000000</td>\n",
       "      <td>421571.000000</td>\n",
       "      <td>130430.000000</td>\n",
       "      <td>130430.000000</td>\n",
       "      <td>513444.000000</td>\n",
       "      <td>81945.000000</td>\n",
       "    </tr>\n",
       "    <tr>\n",
       "      <th>mean</th>\n",
       "      <td>3.282270e+06</td>\n",
       "      <td>-0.058938</td>\n",
       "      <td>403.882666</td>\n",
       "      <td>12.800927</td>\n",
       "      <td>16.002708</td>\n",
       "      <td>174716.584708</td>\n",
       "      <td>140.002441</td>\n",
       "      <td>9898.734658</td>\n",
       "      <td>362.555488</td>\n",
       "      <td>153.194925</td>\n",
       "      <td>...</td>\n",
       "      <td>140.002441</td>\n",
       "      <td>0.191758</td>\n",
       "      <td>51.956645</td>\n",
       "      <td>1.178387</td>\n",
       "      <td>0.177145</td>\n",
       "      <td>1.022286</td>\n",
       "      <td>1.118562</td>\n",
       "      <td>107.151636</td>\n",
       "      <td>0.139982</td>\n",
       "      <td>0.168601</td>\n",
       "    </tr>\n",
       "    <tr>\n",
       "      <th>std</th>\n",
       "      <td>1.704744e+05</td>\n",
       "      <td>0.701015</td>\n",
       "      <td>152.160327</td>\n",
       "      <td>2.372447</td>\n",
       "      <td>6.897665</td>\n",
       "      <td>159651.816856</td>\n",
       "      <td>191.096774</td>\n",
       "      <td>4901.170153</td>\n",
       "      <td>157.793246</td>\n",
       "      <td>11.336444</td>\n",
       "      <td>...</td>\n",
       "      <td>191.096774</td>\n",
       "      <td>1.290820</td>\n",
       "      <td>732.145368</td>\n",
       "      <td>1.398953</td>\n",
       "      <td>0.505786</td>\n",
       "      <td>0.166719</td>\n",
       "      <td>0.698807</td>\n",
       "      <td>1258.734139</td>\n",
       "      <td>0.367098</td>\n",
       "      <td>0.750497</td>\n",
       "    </tr>\n",
       "    <tr>\n",
       "      <th>min</th>\n",
       "      <td>2.987000e+06</td>\n",
       "      <td>-28.000000</td>\n",
       "      <td>100.000000</td>\n",
       "      <td>11.000000</td>\n",
       "      <td>10.000000</td>\n",
       "      <td>1.000000</td>\n",
       "      <td>-122.000000</td>\n",
       "      <td>1000.000000</td>\n",
       "      <td>100.000000</td>\n",
       "      <td>100.000000</td>\n",
       "      <td>...</td>\n",
       "      <td>-122.000000</td>\n",
       "      <td>0.000000</td>\n",
       "      <td>0.000000</td>\n",
       "      <td>0.000000</td>\n",
       "      <td>0.000000</td>\n",
       "      <td>0.000000</td>\n",
       "      <td>0.000000</td>\n",
       "      <td>0.000000</td>\n",
       "      <td>0.000000</td>\n",
       "      <td>0.000000</td>\n",
       "    </tr>\n",
       "    <tr>\n",
       "      <th>25%</th>\n",
       "      <td>3.134635e+06</td>\n",
       "      <td>0.000000</td>\n",
       "      <td>256.000000</td>\n",
       "      <td>11.000000</td>\n",
       "      <td>14.000000</td>\n",
       "      <td>67992.000000</td>\n",
       "      <td>0.000000</td>\n",
       "      <td>6019.000000</td>\n",
       "      <td>214.000000</td>\n",
       "      <td>150.000000</td>\n",
       "      <td>...</td>\n",
       "      <td>0.000000</td>\n",
       "      <td>0.000000</td>\n",
       "      <td>0.000000</td>\n",
       "      <td>1.000000</td>\n",
       "      <td>0.000000</td>\n",
       "      <td>1.000000</td>\n",
       "      <td>1.000000</td>\n",
       "      <td>0.000000</td>\n",
       "      <td>0.000000</td>\n",
       "      <td>0.000000</td>\n",
       "    </tr>\n",
       "    <tr>\n",
       "      <th>50%</th>\n",
       "      <td>3.282270e+06</td>\n",
       "      <td>0.000000</td>\n",
       "      <td>472.000000</td>\n",
       "      <td>11.000000</td>\n",
       "      <td>14.000000</td>\n",
       "      <td>125800.500000</td>\n",
       "      <td>26.000000</td>\n",
       "      <td>9678.000000</td>\n",
       "      <td>361.000000</td>\n",
       "      <td>150.000000</td>\n",
       "      <td>...</td>\n",
       "      <td>26.000000</td>\n",
       "      <td>0.000000</td>\n",
       "      <td>0.000000</td>\n",
       "      <td>1.000000</td>\n",
       "      <td>0.000000</td>\n",
       "      <td>1.000000</td>\n",
       "      <td>1.000000</td>\n",
       "      <td>0.000000</td>\n",
       "      <td>0.000000</td>\n",
       "      <td>0.000000</td>\n",
       "    </tr>\n",
       "    <tr>\n",
       "      <th>75%</th>\n",
       "      <td>3.429904e+06</td>\n",
       "      <td>0.000000</td>\n",
       "      <td>533.000000</td>\n",
       "      <td>15.000000</td>\n",
       "      <td>14.000000</td>\n",
       "      <td>228749.000000</td>\n",
       "      <td>253.000000</td>\n",
       "      <td>14184.000000</td>\n",
       "      <td>512.000000</td>\n",
       "      <td>150.000000</td>\n",
       "      <td>...</td>\n",
       "      <td>253.000000</td>\n",
       "      <td>0.000000</td>\n",
       "      <td>0.000000</td>\n",
       "      <td>1.000000</td>\n",
       "      <td>0.000000</td>\n",
       "      <td>1.000000</td>\n",
       "      <td>1.000000</td>\n",
       "      <td>0.000000</td>\n",
       "      <td>0.000000</td>\n",
       "      <td>0.000000</td>\n",
       "    </tr>\n",
       "    <tr>\n",
       "      <th>max</th>\n",
       "      <td>3.577539e+06</td>\n",
       "      <td>0.000000</td>\n",
       "      <td>661.000000</td>\n",
       "      <td>26.000000</td>\n",
       "      <td>44.000000</td>\n",
       "      <td>999595.000000</td>\n",
       "      <td>869.000000</td>\n",
       "      <td>18396.000000</td>\n",
       "      <td>600.000000</td>\n",
       "      <td>231.000000</td>\n",
       "      <td>...</td>\n",
       "      <td>869.000000</td>\n",
       "      <td>51.000000</td>\n",
       "      <td>104060.000000</td>\n",
       "      <td>57.000000</td>\n",
       "      <td>24.000000</td>\n",
       "      <td>6.000000</td>\n",
       "      <td>22.000000</td>\n",
       "      <td>66000.000000</td>\n",
       "      <td>7.000000</td>\n",
       "      <td>26.000000</td>\n",
       "    </tr>\n",
       "  </tbody>\n",
       "</table>\n",
       "<p>8 rows × 27 columns</p>\n",
       "</div>"
      ],
      "text/plain": [
       "       TransactionID         id_04          id_20        id_24        id_22  \\\n",
       "count   5.905400e+05  66324.000000  139261.000000  4747.000000  5169.000000   \n",
       "mean    3.282270e+06     -0.058938     403.882666    12.800927    16.002708   \n",
       "std     1.704744e+05      0.701015     152.160327     2.372447     6.897665   \n",
       "min     2.987000e+06    -28.000000     100.000000    11.000000    10.000000   \n",
       "25%     3.134635e+06      0.000000     256.000000    11.000000    14.000000   \n",
       "50%     3.282270e+06      0.000000     472.000000    11.000000    14.000000   \n",
       "75%     3.429904e+06      0.000000     533.000000    15.000000    14.000000   \n",
       "max     3.577539e+06      0.000000     661.000000    26.000000    44.000000   \n",
       "\n",
       "               id_02             D4          card1          card2  \\\n",
       "count  140872.000000  421618.000000  590540.000000  581607.000000   \n",
       "mean   174716.584708     140.002441    9898.734658     362.555488   \n",
       "std    159651.816856     191.096774    4901.170153     157.793246   \n",
       "min         1.000000    -122.000000    1000.000000     100.000000   \n",
       "25%     67992.000000       0.000000    6019.000000     214.000000   \n",
       "50%    125800.500000      26.000000    9678.000000     361.000000   \n",
       "75%    228749.000000     253.000000   14184.000000     512.000000   \n",
       "max    999595.000000     869.000000   18396.000000     600.000000   \n",
       "\n",
       "               card3  ...           D4.1           V225           V277  \\\n",
       "count  588975.000000  ...  421618.000000  130430.000000  130430.000000   \n",
       "mean      153.194925  ...     140.002441       0.191758      51.956645   \n",
       "std        11.336444  ...     191.096774       1.290820     732.145368   \n",
       "min       100.000000  ...    -122.000000       0.000000       0.000000   \n",
       "25%       150.000000  ...       0.000000       0.000000       0.000000   \n",
       "50%       150.000000  ...      26.000000       0.000000       0.000000   \n",
       "75%       150.000000  ...     253.000000       0.000000       0.000000   \n",
       "max       231.000000  ...     869.000000      51.000000  104060.000000   \n",
       "\n",
       "                V243            V40            V46           V244  \\\n",
       "count  130430.000000  421571.000000  421571.000000  130430.000000   \n",
       "mean        1.178387       0.177145       1.022286       1.118562   \n",
       "std         1.398953       0.505786       0.166719       0.698807   \n",
       "min         0.000000       0.000000       0.000000       0.000000   \n",
       "25%         1.000000       0.000000       1.000000       1.000000   \n",
       "50%         1.000000       0.000000       1.000000       1.000000   \n",
       "75%         1.000000       0.000000       1.000000       1.000000   \n",
       "max        57.000000      24.000000       6.000000      22.000000   \n",
       "\n",
       "                V274            V73          V147  \n",
       "count  130430.000000  513444.000000  81945.000000  \n",
       "mean      107.151636       0.139982      0.168601  \n",
       "std      1258.734139       0.367098      0.750497  \n",
       "min         0.000000       0.000000      0.000000  \n",
       "25%         0.000000       0.000000      0.000000  \n",
       "50%         0.000000       0.000000      0.000000  \n",
       "75%         0.000000       0.000000      0.000000  \n",
       "max     66000.000000       7.000000     26.000000  \n",
       "\n",
       "[8 rows x 27 columns]"
      ]
     },
     "execution_count": 44,
     "metadata": {},
     "output_type": "execute_result"
    }
   ],
   "source": [
    "# Print a concise summary of a DataFrame.\n",
    "print(data.info(), '\\n')\n",
    "\n",
    "# Column names\n",
    "print(f\"Column names: \\n{data.columns}\", '\\n')\n",
    "\n",
    "# Data dimensionality\n",
    "print(f\"Shape: \\n{data.shape}\", '\\n')\n",
    "\n",
    "# Data types for each attribute\n",
    "#print(f\"Data types: \\n{data.dtypes}\", '\\n')\n",
    "\n",
    "# Detect missing values.\n",
    "#print(f\"Missing values by attribute: \\n{data.isnull().sum()}\", '\\n')\n",
    "\n",
    "# Descriptive Statistics:\n",
    "data.describe()"
   ]
  },
  {
   "cell_type": "code",
   "execution_count": 45,
   "id": "81af0ad5-58aa-4eeb-a625-fbc9aaeed76a",
   "metadata": {},
   "outputs": [
    {
     "data": {
      "image/png": "[encoded data removed]",
      "text/plain": [
       "<Figure size 1440x1080 with 30 Axes>"
      ]
     },
     "metadata": {
      "needs_background": "light"
     },
     "output_type": "display_data"
    }
   ],
   "source": [
    "# Dataframe visualization\n",
    "# Построим дополнительно -histogram, -pairplot для лучшего понимания структуры данных (как между собой разделяются классы). \n",
    " \n",
    "# Plot histogram\n",
    "data.hist(figsize=(20,15));"
   ]
  },
  {
   "cell_type": "code",
   "execution_count": 46,
   "id": "398221ee-90ec-41f1-abed-fccdb5cab423",
   "metadata": {},
   "outputs": [
    {
     "data": {
      "text/plain": [
       "<Figure size 1440x1080 with 0 Axes>"
      ]
     },
     "execution_count": 46,
     "metadata": {},
     "output_type": "execute_result"
    },
    {
     "data": {
      "text/plain": [
       "<Figure size 1440x1080 with 0 Axes>"
      ]
     },
     "metadata": {},
     "output_type": "display_data"
    }
   ],
   "source": [
    "# Построим матрицу корреляции между признаками на исходных данных:\n",
    "\n",
    "# Весь набор данных\n",
    "plt.figure(figsize=(20,15))\n",
    "#data.corr()\n",
    "#sns.heatmap(data.corr(),annot=True, cmap=\"coolwarm\");"
   ]
  },
  {
   "cell_type": "code",
   "execution_count": 47,
   "id": "c991c4bc-ff46-4820-8c6f-602ee0c7bef9",
   "metadata": {},
   "outputs": [
    {
     "name": "stdout",
     "output_type": "stream",
     "text": [
      "0    569877\n",
      "1     20663\n",
      "Name: isFraud, dtype: int64 \n",
      "\n"
     ]
    },
    {
     "data": {
      "image/png": "[encoded data removed]",
      "text/plain": [
       "<Figure size 432x288 with 1 Axes>"
      ]
     },
     "metadata": {
      "needs_background": "light"
     },
     "output_type": "display_data"
    }
   ],
   "source": [
    "# Рассмотрим целевую/target переменную - 'Class'.\n",
    "\n",
    "# Distribution of data by class, text\n",
    "print(data['isFraud'].value_counts(), '\\n')\n",
    "# Distribution of data by class, graphic\n",
    "sns.countplot(data=data, x='isFraud');"
   ]
  },
  {
   "cell_type": "markdown",
   "id": "9cd6e756-70c5-429c-b7f7-0c99f62730d8",
   "metadata": {},
   "source": [
    "Summary of dataset:\n",
    "\n",
    "* общее количество колонок - 30 (29 атрибутов и одна целевая переменная)\n",
    "* количество сэмплов/строк – 590540\n",
    "* пропущенных значении - значительное количество пропущенных значении\n",
    "* все признаки - являются числовыми значениями\n",
    "* целевая переменная - 'isFraud' содержит два класса: class 0 - 569877(96.5%) и class 1 - 20663(3.5%)  (Присутствует большой дисбаланс классов.)"
   ]
  },
  {
   "cell_type": "markdown",
   "id": "314acd47-4ee9-4788-80e0-8a9b721fd388",
   "metadata": {},
   "source": [
    "## Categorical Data"
   ]
  },
  {
   "cell_type": "code",
   "execution_count": 48,
   "id": "7b988a32-bf15-4d28-a453-28e62dc35964",
   "metadata": {},
   "outputs": [
    {
     "data": {
      "text/html": [
       "<div>\n",
       "<style scoped>\n",
       "    .dataframe tbody tr th:only-of-type {\n",
       "        vertical-align: middle;\n",
       "    }\n",
       "\n",
       "    .dataframe tbody tr th {\n",
       "        vertical-align: top;\n",
       "    }\n",
       "\n",
       "    .dataframe thead th {\n",
       "        text-align: right;\n",
       "    }\n",
       "</style>\n",
       "<table border=\"1\" class=\"dataframe\">\n",
       "  <thead>\n",
       "    <tr style=\"text-align: right;\">\n",
       "      <th></th>\n",
       "      <th>id_33</th>\n",
       "      <th>id_29</th>\n",
       "      <th>M5</th>\n",
       "    </tr>\n",
       "  </thead>\n",
       "  <tbody>\n",
       "    <tr>\n",
       "      <th>0</th>\n",
       "      <td>2220x1080</td>\n",
       "      <td>NotFound</td>\n",
       "      <td>NaN</td>\n",
       "    </tr>\n",
       "    <tr>\n",
       "      <th>1</th>\n",
       "      <td>1334x750</td>\n",
       "      <td>NotFound</td>\n",
       "      <td>NaN</td>\n",
       "    </tr>\n",
       "    <tr>\n",
       "      <th>2</th>\n",
       "      <td>NaN</td>\n",
       "      <td>Found</td>\n",
       "      <td>NaN</td>\n",
       "    </tr>\n",
       "  </tbody>\n",
       "</table>\n",
       "</div>"
      ],
      "text/plain": [
       "       id_33     id_29   M5\n",
       "0  2220x1080  NotFound  NaN\n",
       "1   1334x750  NotFound  NaN\n",
       "2        NaN     Found  NaN"
      ]
     },
     "execution_count": 48,
     "metadata": {},
     "output_type": "execute_result"
    }
   ],
   "source": [
    "# Категориальными данными являются три атрибута \"id_33\", \"id_29\", \"M5\" (data.dtypes)\n",
    "data[[\"id_33\", \"id_29\", \"M5\"]].head(3)"
   ]
  },
  {
   "cell_type": "code",
   "execution_count": 49,
   "id": "7c0008cb-34c5-4463-8acf-f6bf1945b472",
   "metadata": {},
   "outputs": [],
   "source": [
    "# Distribution of data\n",
    "#print(data['id_33'].value_counts(), '\\n')\n",
    "\n",
    "# Атрибут 'id_33' - является разрешение экрана устройств с которых подключались к сети банка, 260 уникальных значений. Удалим из набора.\n",
    "data.drop('id_33', axis=1, inplace=True)"
   ]
  },
  {
   "cell_type": "code",
   "execution_count": 50,
   "id": "15a6ef08-56d9-404a-abdf-273a1fa7296e",
   "metadata": {},
   "outputs": [
    {
     "name": "stdout",
     "output_type": "stream",
     "text": [
      "Found       74926\n",
      "NotFound    66052\n",
      "Name: id_29, dtype: int64 \n",
      "\n"
     ]
    }
   ],
   "source": [
    "# Distribution of data\n",
    "print(data['id_29'].value_counts(), '\\n')"
   ]
  },
  {
   "cell_type": "code",
   "execution_count": 51,
   "id": "779d24ee-0057-4d19-a424-e8d4cd8029ce",
   "metadata": {},
   "outputs": [
    {
     "name": "stdout",
     "output_type": "stream",
     "text": [
      "F    132491\n",
      "T    107567\n",
      "Name: M5, dtype: int64 \n",
      "\n"
     ]
    }
   ],
   "source": [
    "# Distribution of data\n",
    "print(data['M5'].value_counts(), '\\n')"
   ]
  },
  {
   "cell_type": "code",
   "execution_count": 52,
   "id": "52b7449d-3e90-4c58-bc79-872dddf8762b",
   "metadata": {},
   "outputs": [],
   "source": [
    "# Атрибут 'id_29' и 'M5' имеют по два уникальных значения (категориальные бинарные)\n",
    "\n",
    "# Convert categorical variable into dummy/indicator variables\n",
    "# drop_first=True -> Multicollinearity except\n",
    "# Для категориальных бинарных значении параметр drop_first=True, иначе drop_first=False\n",
    "\n",
    "data['id_29'] = pd.get_dummies(data[\"id_29\"], drop_first=True)\n",
    "data['M5'] = pd.get_dummies(data[\"M5\"], drop_first=True)"
   ]
  },
  {
   "cell_type": "code",
   "execution_count": 120,
   "id": "db34e354-eb97-4b37-b8de-eee74f022fd5",
   "metadata": {},
   "outputs": [],
   "source": [
    "# Data types for each attribute. Теперь все данные в наборе числовые.\n",
    "#print(f\"Data types: \\n{data.dtypes}\")"
   ]
  },
  {
   "cell_type": "markdown",
   "id": "7ca8b168-2380-4ea0-9080-ca71e86e403b",
   "metadata": {},
   "source": [
    "## Missing values"
   ]
  },
  {
   "cell_type": "code",
   "execution_count": 54,
   "id": "120bdf3b-0a4c-4a4d-b9f0-8ff02818024b",
   "metadata": {},
   "outputs": [
    {
     "name": "stdout",
     "output_type": "stream",
     "text": [
      "Missing values by attribute: \n",
      "TransactionID      0.000000\n",
      "id_04             88.768923\n",
      "id_20             76.418024\n",
      "id_24             99.196159\n",
      "id_29              0.000000\n",
      "id_22             99.124699\n",
      "id_02             76.145223\n",
      "D4                28.604667\n",
      "card1              0.000000\n",
      "card2              1.512683\n",
      "card3              0.265012\n",
      "addr1             11.126427\n",
      "addr2             11.126427\n",
      "TransactionAmt     0.000000\n",
      "isFraud            0.000000\n",
      "C13                0.000000\n",
      "D10               12.873302\n",
      "D1                 0.214888\n",
      "D4.1              28.604667\n",
      "V225              77.913435\n",
      "V277              77.913435\n",
      "V243              77.913435\n",
      "V40               28.612626\n",
      "V46               28.612626\n",
      "V244              77.913435\n",
      "V274              77.913435\n",
      "V73               13.055170\n",
      "V147              86.123717\n",
      "M5                 0.000000\n",
      "dtype: float64 %\n"
     ]
    }
   ],
   "source": [
    "# Detect missing values.\n",
    "print(f\"Missing values by attribute: \\n{(100/590540)*data.isnull().sum()} %\")"
   ]
  },
  {
   "cell_type": "code",
   "execution_count": 55,
   "id": "6c7758fb-f03f-4071-b1f0-06e9083f20a9",
   "metadata": {},
   "outputs": [],
   "source": [
    "# Атрибуты ['id_04', 'id_20', 'id_24', 'id_22', 'id_02', 'D4', 'D10', 'V225', 'V277', 'V243', 'V244', 'V274', 'V73', 'V147'] \n",
    "# имеют больше половины пропущенных значений, удалим. Также удалим 'D4' повтотряет 'D4.1'.\n",
    "data.drop(['id_04', 'id_20', 'id_24', 'id_22', 'id_02', 'D4', 'D10', 'V225', 'V277', 'V243', 'V244', 'V274', 'V73', 'V147'], axis=1, inplace=True)"
   ]
  },
  {
   "cell_type": "code",
   "execution_count": 56,
   "id": "335f7e8e-e4d9-459d-82c2-6f176840dbd2",
   "metadata": {},
   "outputs": [
    {
     "data": {
      "text/plain": [
       "Index(['TransactionID', 'id_29', 'card1', 'card2', 'card3', 'addr1', 'addr2',\n",
       "       'TransactionAmt', 'isFraud', 'C13', 'D1', 'D4.1', 'V40', 'V46', 'M5'],\n",
       "      dtype='object')"
      ]
     },
     "execution_count": 56,
     "metadata": {},
     "output_type": "execute_result"
    }
   ],
   "source": [
    "data.columns"
   ]
  },
  {
   "cell_type": "code",
   "execution_count": 57,
   "id": "49a385f1-dc63-4877-a5d7-b2eddfddb469",
   "metadata": {},
   "outputs": [
    {
     "name": "stdout",
     "output_type": "stream",
     "text": [
      "Missing values by attribute: \n",
      "TransactionID      0.000000\n",
      "id_29              0.000000\n",
      "card1              0.000000\n",
      "card2              1.512683\n",
      "card3              0.265012\n",
      "addr1             11.126427\n",
      "addr2             11.126427\n",
      "TransactionAmt     0.000000\n",
      "isFraud            0.000000\n",
      "C13                0.000000\n",
      "D1                 0.214888\n",
      "D4.1              28.604667\n",
      "V40               28.612626\n",
      "V46               28.612626\n",
      "M5                 0.000000\n",
      "dtype: float64 %\n"
     ]
    }
   ],
   "source": [
    "# Detect missing values. Проверим повторно оствшиеся атрибуты. Заполним пропущенные значения медианой.\n",
    "print(f\"Missing values by attribute: \\n{(100/590540)*data.isnull().sum()} %\")"
   ]
  },
  {
   "cell_type": "code",
   "execution_count": 58,
   "id": "416ccc58-9a42-48bc-bef5-6ce00b756883",
   "metadata": {},
   "outputs": [],
   "source": [
    "#Заполним пропущенные значения медианой. ['TransactionID', 'id_29', 'card1', 'card2', 'card3', 'addr1', 'addr2','TransactionAmt', 'isFraud', 'C13', 'D1', 'D4.1', 'V40', 'V46', 'M5']\n",
    "data.fillna(data.mean(), inplace=True)"
   ]
  },
  {
   "cell_type": "code",
   "execution_count": 59,
   "id": "5588ba1a-950d-4f81-a971-392cb7eed3ce",
   "metadata": {},
   "outputs": [
    {
     "name": "stdout",
     "output_type": "stream",
     "text": [
      "Missing values by attribute: \n",
      "TransactionID     0.0\n",
      "id_29             0.0\n",
      "card1             0.0\n",
      "card2             0.0\n",
      "card3             0.0\n",
      "addr1             0.0\n",
      "addr2             0.0\n",
      "TransactionAmt    0.0\n",
      "isFraud           0.0\n",
      "C13               0.0\n",
      "D1                0.0\n",
      "D4.1              0.0\n",
      "V40               0.0\n",
      "V46               0.0\n",
      "M5                0.0\n",
      "dtype: float64 %\n"
     ]
    }
   ],
   "source": [
    "# Detect missing values. Проверим повторно оствшиеся атрибуты.\n",
    "print(f\"Missing values by attribute: \\n{(100/590540)*data.isnull().sum()} %\")"
   ]
  },
  {
   "cell_type": "code",
   "execution_count": 60,
   "id": "671570e8-b068-4c66-939f-d892c52ce97f",
   "metadata": {},
   "outputs": [
    {
     "name": "stdout",
     "output_type": "stream",
     "text": [
      "Shape: \n",
      "(590540, 15)\n"
     ]
    }
   ],
   "source": [
    "#Note: Все данные являются числовыми, все пропуски заплнены, форма набора:\n",
    "# Data dimensionality\n",
    "print(f\"Shape: \\n{data.shape}\")"
   ]
  },
  {
   "cell_type": "code",
   "execution_count": 61,
   "id": "36a35393-2273-43f8-8bda-3b0aeaa4b411",
   "metadata": {},
   "outputs": [
    {
     "data": {
      "image/png": "[encoded data removed]",
      "text/plain": [
       "<Figure size 1440x1080 with 2 Axes>"
      ]
     },
     "metadata": {
      "needs_background": "light"
     },
     "output_type": "display_data"
    }
   ],
   "source": [
    "# Построим матрицу корреляции между признаками на обработанных данных:\n",
    "\n",
    "# Весь набор данных\n",
    "plt.figure(figsize=(20,15))\n",
    "sns.heatmap(data.corr(),annot=True, cmap=\"coolwarm\");"
   ]
  },
  {
   "cell_type": "markdown",
   "id": "a21c3978-42d5-40bd-aafe-412519ac9c51",
   "metadata": {},
   "source": [
    "## Train Test Split + PCA"
   ]
  },
  {
   "cell_type": "code",
   "execution_count": 83,
   "id": "cbc0271d-0e86-410f-b7fa-9a1e8b160e66",
   "metadata": {},
   "outputs": [],
   "source": [
    "# inputs / Массив X, содержит признаки для обучения\n",
    "X = data.drop(\"isFraud\", axis=1)\n",
    "\n",
    "# outputs / Массив у с целевой переменной\n",
    "y = data[\"isFraud\"]\n",
    "\n",
    "# Создадим дата фрейм с целевой переменной, в дальнейшем добавим предсказанные значения с кластеризации. \n",
    "targets = pd.DataFrame(data=y.values, columns=[\"original\"])"
   ]
  },
  {
   "cell_type": "code",
   "execution_count": 84,
   "id": "9fcbe6a8-1282-4ad5-9231-bb190076e3a1",
   "metadata": {},
   "outputs": [
    {
     "data": {
      "text/plain": [
       "(590540, numpy.ndarray)"
      ]
     },
     "execution_count": 84,
     "metadata": {},
     "output_type": "execute_result"
    }
   ],
   "source": [
    "# Standardize features by removing the mean and scaling to unit variance\n",
    "scaler = StandardScaler()\n",
    "scaled_X = scaler.fit_transform(X)\n",
    "len(scaled_X), type(scaled_X)"
   ]
  },
  {
   "cell_type": "code",
   "execution_count": 64,
   "id": "f9922483-7ed3-42f7-ad78-82520ee0e794",
   "metadata": {},
   "outputs": [],
   "source": [
    "# Построим модель PCA, где количество компонент равно количеству атрибутов.\n",
    "pca_base = PCA(n_components=None)\n",
    "pca_base.fit(scaled_X)\n",
    "X_pca_base = pca_base.transform(scaled_X)"
   ]
  },
  {
   "cell_type": "code",
   "execution_count": 65,
   "id": "02065c38-d5da-4e1c-bcb1-055f2081334d",
   "metadata": {},
   "outputs": [
    {
     "name": "stdout",
     "output_type": "stream",
     "text": [
      "Percentage of variance:  [0.15442477 0.10563589 0.07691285 0.07369411 0.07272532 0.07160681\n",
      " 0.07033394 0.06967424 0.06861342 0.06548328 0.05852513 0.04674572\n",
      " 0.03497089 0.03065363]\n",
      "Sum:  1.0000000000000002\n"
     ]
    }
   ],
   "source": [
    "# Percentage of variance explained by each of the selected components.\n",
    "print(\"Percentage of variance: \", pca_base.explained_variance_ratio_)\n",
    "print(\"Sum: \", np.sum(pca_base.explained_variance_ratio_))\n",
    "df_comp2 = pd.DataFrame(pca_base.components_, columns=X.columns)\n",
    "#df_comp2"
   ]
  },
  {
   "cell_type": "code",
   "execution_count": 121,
   "id": "94ee8ce3-7abe-4803-b956-d37915da63d9",
   "metadata": {},
   "outputs": [],
   "source": [
    "# Влияние атрибутов на каждую PCA компоненту\n",
    "#plt.figure(figsize=(24,8))\n",
    "#sns.heatmap(df_comp2, cmap=\"coolwarm\", annot=True);"
   ]
  },
  {
   "cell_type": "code",
   "execution_count": 67,
   "id": "7f3c3edf-9348-45c5-a27b-01c10402182e",
   "metadata": {},
   "outputs": [
    {
     "data": {
      "image/png": "[encoded data removed]",
      "text/plain": [
       "<Figure size 432x288 with 1 Axes>"
      ]
     },
     "metadata": {
      "needs_background": "light"
     },
     "output_type": "display_data"
    }
   ],
   "source": [
    "# Построим график изменения variance\n",
    "explained_variance = []\n",
    "\n",
    "for n in range(1, 15):\n",
    "    pca = PCA(n_components=n)\n",
    "    pca.fit(scaled_X)\n",
    "    explained_variance.append(np.sum(pca.explained_variance_ratio_))\n",
    "    \n",
    "plt.plot(range(1,15), explained_variance)\n",
    "plt.grid()\n",
    "plt.xlabel(\"Num of Components\")\n",
    "plt.ylabel(\"Variance Explained\");"
   ]
  },
  {
   "cell_type": "code",
   "execution_count": 68,
   "id": "f9201b2f-2b79-4fc4-84fd-ac34c5aeedf5",
   "metadata": {},
   "outputs": [],
   "source": [
    "# Note: В данном наборе PCA не даст выигрыша, приблизило 95% на 13 компонентах из 14. Используем далее обычную разбивку.\n",
    "\n",
    "# Разделим данные на тестовые и обучающие, с учетом распределения классов:\n",
    "test_size=0.25     # Размер тестового набора\n",
    "random_state=21  \n",
    "\n",
    "# Splitting the dataset into the Training set and Test set, stratify\n",
    "X_train, X_test, y_train, y_test = train_test_split(X, \n",
    "                                                    y, \n",
    "                                                    test_size=test_size, \n",
    "                                                    random_state=random_state, \n",
    "                                                    shuffle=True, \n",
    "                                                    stratify=y)"
   ]
  },
  {
   "cell_type": "code",
   "execution_count": 69,
   "id": "f5ac3a48-4c30-4741-839c-11198911bb6a",
   "metadata": {},
   "outputs": [
    {
     "name": "stdout",
     "output_type": "stream",
     "text": [
      "Shape X_train: \n",
      "(442905, 14)\n",
      "\n",
      "Class distribution y_train: \n",
      "0    427408\n",
      "1     15497\n",
      "Name: isFraud, dtype: int64\n"
     ]
    }
   ],
   "source": [
    "# Data dimensionality and class distribution on train set\n",
    "print(f\"Shape X_train: \\n{X_train.shape}\\n\")\n",
    "print(f\"Class distribution y_train: \\n{y_train.value_counts()}\")"
   ]
  },
  {
   "cell_type": "code",
   "execution_count": 70,
   "id": "f9cf0b23-ecad-4605-8355-691321e2a72a",
   "metadata": {},
   "outputs": [
    {
     "name": "stdout",
     "output_type": "stream",
     "text": [
      "Shape X_test: \n",
      "(147635, 14)\n",
      "\n",
      "Class distribution y_test: \n",
      "0    142469\n",
      "1      5166\n",
      "Name: isFraud, dtype: int64\n"
     ]
    }
   ],
   "source": [
    "# Data dimensionality and class distribution on test set\n",
    "print(f\"Shape X_test: \\n{X_test.shape}\\n\")\n",
    "print(f\"Class distribution y_test: \\n{y_test.value_counts()}\")"
   ]
  },
  {
   "cell_type": "markdown",
   "id": "24bbcf83-f1a0-4d3f-94a8-f29cd84c8eb0",
   "metadata": {},
   "source": [
    "# Building models"
   ]
  },
  {
   "cell_type": "markdown",
   "id": "2f6da753-6ff3-4491-813a-acc961de708d",
   "metadata": {},
   "source": [
    "## KMeans Model + PCA"
   ]
  },
  {
   "cell_type": "markdown",
   "id": "1d29c970-c5f1-4d94-acd1-411fe6496a54",
   "metadata": {},
   "source": [
    "### Note: \n",
    "\n",
    "Clustering - Unsupervised, non-parametric methods that groups similar data points together based on distance k-Means Randomly place k centroids across normalized data, and assig observations to the nearest centroid. Using the median or medoid (actual data point) may be more robust to noise and outliers. k-modes is used for categorical data. \n",
    "\n",
    "k-means++ - improves selection of initial clusters:\n",
    "\n",
    "1. Pick the ﬁrst center randomly\n",
    "2. Compute distance between points and the nearest center\n",
    "3. Choose new center using a weighted probability distribution proportional to distance\n",
    "4. Repeat until k centers are chosen\n",
    "\n",
    "Evaluating the number of clusters and performance:\n",
    "* Silhouette Value - measures how similar a data point is to its own cluster compared to other clusters, and ranges from 1 (best) to -1 (worst).\n",
    "* Davies-Bouldin Index - ratio of within cluster scatter to between cluster separation, where lower values are better"
   ]
  },
  {
   "cell_type": "code",
   "execution_count": 71,
   "id": "8b11b768-157a-4376-8779-ee4ffc2f24f3",
   "metadata": {},
   "outputs": [],
   "source": [
    "# Поиск оптимального количества кластеров"
   ]
  },
  {
   "cell_type": "markdown",
   "id": "9e18fd2b-80a0-4c78-91df-3e0a836fefca",
   "metadata": {},
   "source": [
    "Для нахождения оптимального количества числа кластеров можно использовать метод \"локтя\". Сначала, вычислим сумму квадратов ошибок SSE для диапазона значений k (выберем 2-20). SSE определяется как сумма квадратов расстояния между каждым членом кластера и его центроидом. Далее построим график k --- SSE, (ошибка уменьшается по мере увеличения –k - при увеличении числа кластеров они становятся меньше), выбираем значение -k, при котором SSE резко уменьшается (\"эффект локтя\")."
   ]
  },
  {
   "cell_type": "code",
   "execution_count": 72,
   "id": "0514ddde-060f-4bdf-8236-18cb9b2dd8f7",
   "metadata": {},
   "outputs": [
    {
     "data": {
      "image/png": "[encoded data removed]",
      "text/plain": [
       "<Figure size 432x288 with 1 Axes>"
      ]
     },
     "metadata": {
      "needs_background": "light"
     },
     "output_type": "display_data"
    }
   ],
   "source": [
    "# Массив для хранения ошибок на каждом шаге \n",
    "SSE = []\n",
    "\n",
    "for k in range(2,21):\n",
    "    model = KMeans(n_clusters=k, random_state=42)\n",
    "    model.fit(scaled_X)\n",
    "    SSE.append(model.inertia_)\n",
    "\n",
    "# Выведем график зависимости SSE от k\n",
    "plt.title('Зависимость SSE от k')\n",
    "plt.xlabel('Количество кластеров')\n",
    "plt.ylabel('Ошибка SSE')\n",
    "plt.plot(range(2, 21), SSE, \"x--\");"
   ]
  },
  {
   "cell_type": "markdown",
   "id": "98dde4cd-aa1e-4b54-95ef-f115435f75f2",
   "metadata": {},
   "source": [
    "Наименьшая ошибка SSD достигается при k равном 11 (первый изгиб), далее можно построить модель с 11 кластерами, которая должна наилучшим образом классифицировать данный набор.\n",
    "При построений модели на 11 кластеров на данном наборе данных возникнет проблема определения принадлежности каждого кластера к ‘1’ или ‘0’ target переменной и дальнейшей оценки. Построим для данного набора KMeans модель на 2 кластера."
   ]
  },
  {
   "cell_type": "code",
   "execution_count": 73,
   "id": "2600d4d5-5846-4045-9e88-d3b74de0560d",
   "metadata": {},
   "outputs": [
    {
     "name": "stdout",
     "output_type": "stream",
     "text": [
      "Model parameters: \n",
      "{'algorithm': 'auto', 'copy_x': True, 'init': 'k-means++', 'max_iter': 300, 'n_clusters': 2, 'n_init': 10, 'random_state': 42, 'tol': 0.0001, 'verbose': 0} \n",
      "\n"
     ]
    }
   ],
   "source": [
    "# Создадим модель K-Means clustering с 2 кластерами.\n",
    "# Create an instance of a K Means model with 2 clusters.\n",
    "KMeans_model = KMeans(n_clusters=2, random_state=42)\n",
    "\n",
    "# n_clusters=2 --> Количество кластеров для формирования\n",
    "\n",
    "# Print Model parameters\n",
    "print(f\"Model parameters: \\n{KMeans_model.get_params()}\", '\\n')"
   ]
  },
  {
   "cell_type": "code",
   "execution_count": 74,
   "id": "a7f8f2da-8e4d-4d18-9675-75d1fcfe1045",
   "metadata": {},
   "outputs": [
    {
     "data": {
      "text/plain": [
       "KMeans(n_clusters=2, random_state=42)"
      ]
     },
     "execution_count": 74,
     "metadata": {},
     "output_type": "execute_result"
    }
   ],
   "source": [
    "# Fit the model to all the data\n",
    "KMeans_model.fit(scaled_X)"
   ]
  },
  {
   "cell_type": "code",
   "execution_count": 75,
   "id": "7e782f71-dd2a-4019-914a-aa9b9f60c8ef",
   "metadata": {},
   "outputs": [
    {
     "data": {
      "text/plain": [
       "array([[-2.30760677e-01,  1.77382902e+00,  7.50968810e-04,\n",
       "         1.52263541e-01,  1.55739141e+00,  1.78962395e-02,\n",
       "        -3.99452811e-01, -2.88509530e-01, -8.88901131e-02,\n",
       "        -4.30323501e-01, -3.23756343e-01,  1.34759294e+00,\n",
       "         1.70462250e-01, -4.71796426e-01],\n",
       "       [ 4.51176501e-02, -3.46813842e-01, -1.46827217e-04,\n",
       "        -2.97701204e-02, -3.04496595e-01, -3.49902021e-03,\n",
       "         7.80998408e-02,  5.64085363e-02,  1.73795339e-02,\n",
       "         8.41355875e-02,  6.32998896e-02, -2.63477415e-01,\n",
       "        -3.33282786e-02,  9.22442521e-02]])"
      ]
     },
     "execution_count": 75,
     "metadata": {},
     "output_type": "execute_result"
    }
   ],
   "source": [
    "# cluster center vectors\n",
    "KMeans_model.cluster_centers_"
   ]
  },
  {
   "cell_type": "code",
   "execution_count": 91,
   "id": "a47dbc8f-84c8-4085-8fad-f089bbada17c",
   "metadata": {},
   "outputs": [],
   "source": [
    "# Labels of each point\n",
    "labels_KMeans = KMeans_model.labels_"
   ]
  },
  {
   "cell_type": "code",
   "execution_count": 97,
   "id": "a44a89bc-2f98-454d-a5eb-bc9059f26075",
   "metadata": {},
   "outputs": [
    {
     "name": "stdout",
     "output_type": "stream",
     "text": [
      "1    493960\n",
      "0     96580\n",
      "dtype: int64 \n",
      "\n"
     ]
    }
   ],
   "source": [
    "# Опредиление принадлеждности кластеров / меток относительно целовой переменной isFraud (targets[\"original\"]).\n",
    "# Так как в данном наборе дисбаланс классов class 0 - 569877(96.5%) и class 1 - 20663(3.5%)\n",
    "# Distribution of data by class, text\n",
    "print(pd.DataFrame(KMeans_model.labels_).value_counts(), '\\n')"
   ]
  },
  {
   "cell_type": "code",
   "execution_count": 98,
   "id": "1848f3cf-d8ce-4096-9096-344687eafd4b",
   "metadata": {},
   "outputs": [
    {
     "name": "stdout",
     "output_type": "stream",
     "text": [
      "0    493960\n",
      "1     96580\n",
      "dtype: int64 \n",
      "\n"
     ]
    }
   ],
   "source": [
    "# Переназначим метки кластеров.\n",
    "\n",
    "# Labels of each point\n",
    "labels_KMeans = np.choose(KMeans_model.labels_, [1, 0]).astype(np.int64)\n",
    "\n",
    "# Distribution of data by class, text\n",
    "print(pd.DataFrame(labels_KMeans).value_counts(), '\\n')"
   ]
  },
  {
   "cell_type": "code",
   "execution_count": 99,
   "id": "62587201-2777-40a2-a0b2-77ab1f79f4f6",
   "metadata": {},
   "outputs": [],
   "source": [
    "# Добавим предсказанные метки в дата фрейм\n",
    "targets[\"labels_KMeans\"] = labels_KMeans"
   ]
  },
  {
   "cell_type": "code",
   "execution_count": 100,
   "id": "99a01d56-57fb-4163-8ab8-5997bcdc0d2f",
   "metadata": {},
   "outputs": [
    {
     "data": {
      "text/html": [
       "<div>\n",
       "<style scoped>\n",
       "    .dataframe tbody tr th:only-of-type {\n",
       "        vertical-align: middle;\n",
       "    }\n",
       "\n",
       "    .dataframe tbody tr th {\n",
       "        vertical-align: top;\n",
       "    }\n",
       "\n",
       "    .dataframe thead th {\n",
       "        text-align: right;\n",
       "    }\n",
       "</style>\n",
       "<table border=\"1\" class=\"dataframe\">\n",
       "  <thead>\n",
       "    <tr style=\"text-align: right;\">\n",
       "      <th></th>\n",
       "      <th>original</th>\n",
       "      <th>labels_KMeans</th>\n",
       "    </tr>\n",
       "  </thead>\n",
       "  <tbody>\n",
       "    <tr>\n",
       "      <th>0</th>\n",
       "      <td>0</td>\n",
       "      <td>1</td>\n",
       "    </tr>\n",
       "  </tbody>\n",
       "</table>\n",
       "</div>"
      ],
      "text/plain": [
       "   original  labels_KMeans\n",
       "0         0              1"
      ]
     },
     "execution_count": 100,
     "metadata": {},
     "output_type": "execute_result"
    }
   ],
   "source": [
    "targets.head(1)"
   ]
  },
  {
   "cell_type": "code",
   "execution_count": 102,
   "id": "11452af5-2ee9-49cd-97fe-a24fd9c89694",
   "metadata": {},
   "outputs": [
    {
     "name": "stdout",
     "output_type": "stream",
     "text": [
      "Accuracy classification score: \n",
      " 0.8311325227757645 \n",
      "\n",
      "ROC Auc Score: \n",
      " 0.6349213773319405 \n",
      "\n",
      "Classification report: \n",
      "               precision    recall  f1-score   support\n",
      "\n",
      "           0       0.98      0.85      0.91    569877\n",
      "           1       0.09      0.42      0.15     20663\n",
      "\n",
      "    accuracy                           0.83    590540\n",
      "   macro avg       0.53      0.63      0.53    590540\n",
      "weighted avg       0.94      0.83      0.88    590540\n",
      " \n",
      "\n",
      "Confusion matrix (text mode): \n",
      " [[482057  87820]\n",
      " [ 11903   8760]] \n",
      "\n"
     ]
    }
   ],
   "source": [
    "# Model Performance\n",
    "\n",
    "# Accuracy classification score\n",
    "print(\"Accuracy classification score: \\n\", accuracy_score(targets[\"original\"], targets[\"labels_KMeans\"]), '\\n')\n",
    "\n",
    "# ROC Auc Score\n",
    "print(\"ROC Auc Score: \\n\", roc_auc_score(targets[\"original\"], targets[\"labels_KMeans\"]), '\\n')\n",
    "\n",
    "# Build classification report\n",
    "print(\"Classification report: \\n\", classification_report(targets[\"original\"], targets[\"labels_KMeans\"]), '\\n')\n",
    "\n",
    "# Build confusion matrix in text mode\n",
    "print(\"Confusion matrix (text mode): \\n\", confusion_matrix(targets[\"original\"], targets[\"labels_KMeans\"]), '\\n')"
   ]
  },
  {
   "cell_type": "code",
   "execution_count": null,
   "id": "d7b8d15a-aa32-4677-84f1-411ec0b1a632",
   "metadata": {},
   "outputs": [],
   "source": [
    "# Compute the mean Silhouette Coefficient of all samples.\n",
    "# silhouette_score(scaled_X, targets[\"labels_KMeans\"]) # Не получается вычислить"
   ]
  },
  {
   "cell_type": "code",
   "execution_count": null,
   "id": "e29ebc17-2f16-4276-bdc0-3f4a30594337",
   "metadata": {},
   "outputs": [],
   "source": []
  },
  {
   "cell_type": "code",
   "execution_count": 112,
   "id": "96e56f9d-e7f1-4e2d-92d4-b7ea92baac94",
   "metadata": {},
   "outputs": [
    {
     "data": {
      "text/plain": [
       "PCA(n_components=2)"
      ]
     },
     "execution_count": 112,
     "metadata": {},
     "output_type": "execute_result"
    }
   ],
   "source": [
    "# Для возможности визуализации создадим модель PCA() с двумя компонентами.\n",
    "pca = PCA(n_components=2)\n",
    "pca.fit(scaled_X)"
   ]
  },
  {
   "cell_type": "code",
   "execution_count": 113,
   "id": "c9972c31-d20d-4753-b9da-b13a47a60ce7",
   "metadata": {},
   "outputs": [],
   "source": [
    "# Сохраним результат в X_pca\n",
    "X_pca = pca.transform(scaled_X)"
   ]
  },
  {
   "cell_type": "code",
   "execution_count": 114,
   "id": "bd367c57-75fe-48a1-943a-365d1d7a9de9",
   "metadata": {},
   "outputs": [
    {
     "name": "stdout",
     "output_type": "stream",
     "text": [
      "Shape: \n",
      "(590540, 2)\n"
     ]
    }
   ],
   "source": [
    "# Data dimensionality\n",
    "print(f\"Shape: \\n{X_pca.shape}\")"
   ]
  },
  {
   "cell_type": "code",
   "execution_count": 117,
   "id": "5613cc6a-627e-4e8b-8445-62ef5d266ef3",
   "metadata": {},
   "outputs": [
    {
     "name": "stdout",
     "output_type": "stream",
     "text": [
      "Percentage of variance:  [0.15442113 0.10563519]\n",
      "Sum:  0.2600563127593396\n"
     ]
    }
   ],
   "source": [
    "# Percentage of variance explained by each of the selected components.\n",
    "print(\"Percentage of variance: \", pca.explained_variance_ratio_)\n",
    "print(\"Sum: \", np.sum(pca.explained_variance_ratio_))"
   ]
  },
  {
   "cell_type": "code",
   "execution_count": 119,
   "id": "1826d599-0d14-40ab-b8a1-197ae2e1323b",
   "metadata": {},
   "outputs": [
    {
     "data": {
      "image/png": "[encoded data removed]",
      "text/plain": [
       "<Figure size 864x576 with 1 Axes>"
      ]
     },
     "metadata": {
      "needs_background": "light"
     },
     "output_type": "display_data"
    }
   ],
   "source": [
    "# Визуализация данных при помощи PCA(), с использованием двух компонент.\n",
    "plt.figure(figsize=(12,8))\n",
    "plt.scatter(X_pca[:,0], X_pca[:,1], c=targets[\"labels_KMeans\"], cmap=\"coolwarm\", alpha=0.1)\n",
    "plt.xlabel(\"First Principal Component\")\n",
    "plt.ylabel(\"Second Principal Component\");"
   ]
  },
  {
   "cell_type": "markdown",
   "id": "6dc572f6-dec2-47bb-967e-492c18ef9337",
   "metadata": {},
   "source": [
    "При использований 2-х компонент PCA достоверность данных составляет всего лишь 26%, и не получится отобразить достоверные данные."
   ]
  },
  {
   "cell_type": "code",
   "execution_count": null,
   "id": "2484dbd2-9b71-4961-9364-fd1ce03916c3",
   "metadata": {},
   "outputs": [],
   "source": []
  },
  {
   "cell_type": "markdown",
   "id": "bc2e1e6c-0de5-48d3-9620-6980087dfce1",
   "metadata": {},
   "source": [
    "## DBSCAN Model"
   ]
  },
  {
   "cell_type": "markdown",
   "id": "404d2ca2-1fef-442a-90e3-fe97b2a4def0",
   "metadata": {},
   "source": [
    "Density-based spatial clustering of applications with noise (DBSCAN) is a data clustering algorithm - It is a density-based clustering non-parametric algorithm: given a set of points in some space, it groups together points that are closely packed together (points with many nearby neighbors), marking as outliers points that lie alone in low-density regions (whose nearest neighbors are too far away)."
   ]
  },
  {
   "cell_type": "code",
   "execution_count": 105,
   "id": "b3a51743-086b-4d33-a49b-873f5ad2377b",
   "metadata": {
    "tags": []
   },
   "outputs": [
    {
     "name": "stdout",
     "output_type": "stream",
     "text": [
      "Model parameters: \n",
      "<bound method BaseEstimator.get_params of DBSCAN(n_jobs=-1)> \n",
      "\n"
     ]
    }
   ],
   "source": [
    "# Создадим модель DBSCAN с базовыми настройками.\n",
    "# Create an instance of a DBSCAN model.\n",
    "DBSCAN_model = DBSCAN(n_jobs=-1)\n",
    "# n_jobs=-1 --> The number of parallel jobs to run. -1 all.\n",
    "\n",
    "# Print Model parameters\n",
    "print(f\"Model parameters: \\n{DBSCAN_model.get_params}\", '\\n')"
   ]
  },
  {
   "cell_type": "code",
   "execution_count": 106,
   "id": "807356cc-e701-4ef1-9b78-e4e3d4ca9936",
   "metadata": {},
   "outputs": [
    {
     "data": {
      "text/plain": [
       "DBSCAN(n_jobs=-1)"
      ]
     },
     "execution_count": 106,
     "metadata": {},
     "output_type": "execute_result"
    }
   ],
   "source": [
    "# Fit the model to all the data\n",
    "DBSCAN_model.fit(scaled_X)"
   ]
  },
  {
   "cell_type": "code",
   "execution_count": 107,
   "id": "208f1c03-f760-42db-9ce2-363e381778d5",
   "metadata": {},
   "outputs": [
    {
     "data": {
      "text/plain": [
       "array([ 0,  0, -1, ...,  2,  2,  2], dtype=int64)"
      ]
     },
     "execution_count": 107,
     "metadata": {},
     "output_type": "execute_result"
    }
   ],
   "source": [
    "# Labels of each point\n",
    "labels_DBSCAN = DBSCAN_model.labels_\n",
    "labels_DBSCAN"
   ]
  },
  {
   "cell_type": "code",
   "execution_count": null,
   "id": "2a02e489-952f-441c-bcde-01fef66867aa",
   "metadata": {},
   "outputs": [],
   "source": [
    "# Добавим предсказанные метки в дата фрейм\n",
    "targets[\"labels_DBSCAN\"] = labels_DBSCAN"
   ]
  },
  {
   "cell_type": "code",
   "execution_count": 109,
   "id": "0b710664-78a7-4971-b65a-8521293c7a31",
   "metadata": {},
   "outputs": [
    {
     "name": "stdout",
     "output_type": "stream",
     "text": [
      " 2       278917\n",
      "-1       111595\n",
      " 862      67736\n",
      " 0        29452\n",
      " 1        19265\n",
      "          ...  \n",
      " 3107         2\n",
      " 2554         2\n",
      " 1072         2\n",
      " 4204         1\n",
      " 2089         1\n",
      "Name: labels_DBSCAN, Length: 4843, dtype: int64 \n",
      "\n"
     ]
    }
   ],
   "source": [
    "# Distribution of data by class, text\n",
    "print(targets[\"labels_DBSCAN\"].value_counts(), '\\n')"
   ]
  },
  {
   "cell_type": "code",
   "execution_count": 275,
   "id": "293f275a-2a91-4f4a-9775-45a62023fc86",
   "metadata": {},
   "outputs": [
    {
     "data": {
      "text/plain": [
       "(array([   0,   -1,    1, ..., 4835, 4838, 4840], dtype=int64), 4843)"
      ]
     },
     "execution_count": 275,
     "metadata": {},
     "output_type": "execute_result"
    }
   ],
   "source": [
    "targets[\"labels_DBSCAN\"].unique(), targets[\"labels_DBSCAN\"].nunique()"
   ]
  },
  {
   "cell_type": "markdown",
   "id": "10126c34-c26a-40a0-bcac-04351462d51b",
   "metadata": {},
   "source": [
    "В результате получили 4843 кластеров, что показывает не достоверность результатов с базовыми настройками."
   ]
  },
  {
   "cell_type": "code",
   "execution_count": null,
   "id": "c54705b3-3fe5-4473-816d-ce7adf16b836",
   "metadata": {
    "tags": []
   },
   "outputs": [],
   "source": [
    "# Создадим модель DBSCAN с eps=1.5, min_samples=15.\n",
    "# Create an instance of a DBSCAN model.\n",
    "#DBSCAN_model_2 = DBSCAN(n_jobs=-1, eps=1.5, min_samples=15)\n",
    "# n_jobs=-1 --> The number of parallel jobs to run. -1 all.\n",
    "\n",
    "# Print Model parameters\n",
    "#print(f\"Model parameters: \\n{DBSCAN_model.get_params}\", '\\n')"
   ]
  },
  {
   "cell_type": "code",
   "execution_count": null,
   "id": "a2bf1672-8ef0-4eb4-8272-62f6f6fcdc41",
   "metadata": {},
   "outputs": [],
   "source": [
    "# Fit the model to all the data\n",
    "#DBSCAN_model_2.fit(scaled_X)\n",
    "\n",
    "# Labels of each point\n",
    "#labels_DBSCAN = DBSCAN_model.labels_\n",
    "#labels_DBSCAN"
   ]
  },
  {
   "cell_type": "code",
   "execution_count": null,
   "id": "a51c85f1-ecf2-4df0-ae29-ca075c9a97d6",
   "metadata": {},
   "outputs": [],
   "source": []
  },
  {
   "cell_type": "markdown",
   "id": "33a45375-205d-48af-a85b-bc348020eba4",
   "metadata": {},
   "source": [
    "# Summary:"
   ]
  },
  {
   "cell_type": "markdown",
   "id": "7db3c539-6e63-49cc-96ef-6b5373b0950c",
   "metadata": {},
   "source": [
    "В данной работе были использованы методы кластеризации KMeans и DBSCAN. Для метода DBSCAN получилось построить только базовую модель (не получилось поменять гиперпараметры eps и  min_samples вследствие высокой требовательности к аппаратной части). \n",
    "\n",
    "Результаты сравнения моделей ниже:"
   ]
  },
  {
   "cell_type": "markdown",
   "id": "eec39e12-959b-4c68-a9f2-6cd5dc1ec25c",
   "metadata": {},
   "source": [
    "Для KMeans:\n",
    "\n",
    "* Accuracy classification score: 0.8311 \n",
    "* ROC Auc Score: 0.6349 \n",
    "* Accuracy class 1: 0.09\n",
    "\n",
    "Для базовой логистической регрессий:\n",
    "\n",
    "* Accuracy classification score: 0.9650\n",
    "* ROC Auc Score: 0.4999\n",
    "* Accuracy class 1: 0.00\n",
    "\n",
    "Для KNeighbors Classifier (n_neighbors =  3):\n",
    "\n",
    "* Accuracy classification score: 0.9606\n",
    "* ROC Auc Score: 0.6012\n",
    "* Accuracy class 1: 0.05\n",
    "\n",
    "Для XGBClassifier:\n",
    "\n",
    "* Accuracy classification score: 0.9717\n",
    "* ROC Auc Score: 0.6201\n",
    "* Accuracy class 1: 0.83\n",
    "\n",
    "Данные для логистической регрессий, KNeighbors, XGBClassifier c 10-й работы.\n",
    "\n",
    "Как видно результаты KMeans лутше чем у базовых моделей логистической регрессий, KNeighbors и значительно хуже чем XGBClassifier. Результаты полученные для DBSCAN в данной работе не являются достоверными. На данном наборе данных лутшие рузультаты XGBClassifier."
   ]
  },
  {
   "cell_type": "code",
   "execution_count": null,
   "id": "8067c19e-4a5a-4a54-bb0e-63f659dba2d1",
   "metadata": {},
   "outputs": [],
   "source": []
  }
 ],
 "metadata": {
  "kernelspec": {
   "display_name": "Python 3 (ipykernel)",
   "language": "python",
   "name": "python3"
  },
  "language_info": {
   "codemirror_mode": {
    "name": "ipython",
    "version": 3
   },
   "file_extension": ".py",
   "mimetype": "text/x-python",
   "name": "python",
   "nbconvert_exporter": "python",
   "pygments_lexer": "ipython3",
   "version": "3.7.9"
  },
  "toc-autonumbering": true
 },
 "nbformat": 4,
 "nbformat_minor": 5
}
