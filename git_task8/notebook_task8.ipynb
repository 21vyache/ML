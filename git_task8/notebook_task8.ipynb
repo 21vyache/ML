{
 "cells": [
  {
   "cell_type": "markdown",
   "id": "463f9bca-afce-4e51-a1d0-10ff696ee61d",
   "metadata": {},
   "source": [
    "# ДЗ №8 Multiclass classification"
   ]
  },
  {
   "cell_type": "markdown",
   "id": "96d484e4-1cb9-4176-8167-615b37768a5b",
   "metadata": {},
   "source": [
    "* Решите задачу мультиклассовой классификации. Датасет можно получить таким образом.\n",
    "from sklearn import datasets\n",
    "iris = datasets.load_iris()\n",
    "* Воспользуйтесь всем, чему вы уже научились за прошлые занятие.\n",
    "* Для начала постройте базовую модель (baseline) с помощью Логистической регрессии.\n",
    "* Попробуйте SVM с различными гипер-параметрами (gamma, C, kernel).\n",
    "* Сравните результаты работы моделей. Какая работает лучше?\n",
    "\n",
    "Вопросы:\n",
    "* Какие подходы позволяют логистической регрессии работать на нескольких классах?\n",
    "* Какие значения gamma, C, kernel были наилучшими?\n",
    "\n",
    "Результат - это ваш блокнот с исследованиями. И ответы на вопросы.\n",
    "\n",
    "Опционально:\n",
    "* Посчитать AUC для этой задачи. Почему это работает? А визуализировать получится?\n",
    "* Используйте GridSearch и кросс-валидацию для подбора гипер-параметров"
   ]
  },
  {
   "cell_type": "markdown",
   "id": "f5e8a9fb-3c03-4eda-9a3d-6ed2e51f0e3c",
   "metadata": {},
   "source": [
    "# Import section"
   ]
  },
  {
   "cell_type": "code",
   "execution_count": 1,
   "id": "498cfa8b-1587-49c9-a21d-b9557d342568",
   "metadata": {},
   "outputs": [],
   "source": [
    "# Base library\n",
    "import numpy as np                                        # Linear algebra\n",
    "import pandas as pd                                       # Data processing\n",
    "\n",
    "# Visualization library\n",
    "import matplotlib.pyplot as plt                           # Plotting library \n",
    "import seaborn as sns                                     # Data visualization\n",
    "    \n",
    "# Displays output inline\n",
    "%matplotlib inline    "
   ]
  },
  {
   "cell_type": "code",
   "execution_count": 2,
   "id": "a3f441bf-508c-46ac-9e29-b1435f6dfd00",
   "metadata": {},
   "outputs": [],
   "source": [
    "# Machine learning library\n",
    "from sklearn.linear_model import LogisticRegression       # Class implements regularized logistic regression\n",
    "from sklearn.svm import SVC\n",
    "\n",
    "from sklearn.model_selection import train_test_split      # Split arrays\n",
    "from sklearn.model_selection import GridSearchCV\n",
    "\n",
    "from sklearn.model_selection import StratifiedKFold\n",
    "from sklearn.model_selection import KFold\n",
    "\n",
    "from sklearn.preprocessing import StandardScaler\n",
    "\n",
    "from sklearn.metrics import classification_report\n",
    "from sklearn.metrics import confusion_matrix\n",
    "from sklearn.metrics import plot_confusion_matrix\n",
    "from sklearn.metrics import plot_roc_curve\n",
    "from sklearn.metrics import precision_score\n",
    "from sklearn.metrics import recall_score\n",
    "from sklearn.metrics import accuracy_score\n",
    "from sklearn.metrics import roc_curve, auc"
   ]
  },
  {
   "cell_type": "markdown",
   "id": "c890163a-29c8-4554-8216-a140a30b52f3",
   "metadata": {},
   "source": [
    "# Data section"
   ]
  },
  {
   "cell_type": "markdown",
   "id": "30dc4a3d-bf60-4266-841f-87e309c65aa9",
   "metadata": {
    "tags": []
   },
   "source": [
    "<h3 align='center'>The Iris flower.</h3>\n",
    "<img src='iris.jpg'  width=800 height=640 ></img>"
   ]
  },
  {
   "cell_type": "markdown",
   "id": "78d154e1-feb8-4520-984c-be78fe19e183",
   "metadata": {},
   "source": [
    "Iris plants dataset - Attribute Information:\n",
    "\n",
    "The Iris flower data set or Fisher's Iris data set is a multivariate data set introduced by the British statistician, eugenicist, and biologist Ronald Fisher in his 1936 paper.\n",
    "\n",
    "    :Number of Instances: 150 (50 in each of three classes)\n",
    "    :Number of Attributes: 4 numeric, predictive attributes and the class\n",
    "    :Attribute Information:\n",
    "        - sepal length in cm       / Длина наружной доли чашелистника\n",
    "        - sepal width in cm        / Ширина наружной доли чашелистника\n",
    "        - petal length in cm       / Длина внутренней доли лепестка\n",
    "        - petal width in cm        / Ширина внутренней доли лепестка\n",
    "        - class:\n",
    "                - Iris-Setosa      / Ирис щетинистый\n",
    "                - Iris-Versicolour / Ирис разноцветный\n",
    "                - Iris-Virginica   / Ирис виргинский \n",
    "\n",
    "References:\n",
    "\n",
    "   - Fisher, R.A. \"The use of multiple measurements in taxonomic problems\"\n",
    "     Annual Eugenics, 7, Part II, 179-188 (1936); also in \"Contributions to\n",
    "     Mathematical Statistics\" (John Wiley, NY, 1950).\n",
    "     \n",
    "Details: \n",
    "\n",
    "https://en.wikipedia.org/wiki/Iris_flower_data_set"
   ]
  },
  {
   "cell_type": "markdown",
   "id": "7c64312f-874e-4ea5-9de3-2b8791421116",
   "metadata": {
    "tags": []
   },
   "source": [
    "## Load the data"
   ]
  },
  {
   "cell_type": "code",
   "execution_count": 3,
   "id": "e3663d25-e078-4147-976e-7809390b963c",
   "metadata": {},
   "outputs": [],
   "source": [
    "# load dataset from seaborn as a DataFrame called iris.\n",
    "iris = sns.load_dataset('iris')"
   ]
  },
  {
   "cell_type": "markdown",
   "id": "9ff19baf-b68f-48ea-85b7-41a03b50f5d4",
   "metadata": {},
   "source": [
    "## Exploratory data analysis and visualization"
   ]
  },
  {
   "cell_type": "code",
   "execution_count": 4,
   "id": "b288cb7c-0f02-45f0-962e-9afc6a0fbaff",
   "metadata": {},
   "outputs": [
    {
     "data": {
      "text/html": [
       "<div>\n",
       "<style scoped>\n",
       "    .dataframe tbody tr th:only-of-type {\n",
       "        vertical-align: middle;\n",
       "    }\n",
       "\n",
       "    .dataframe tbody tr th {\n",
       "        vertical-align: top;\n",
       "    }\n",
       "\n",
       "    .dataframe thead th {\n",
       "        text-align: right;\n",
       "    }\n",
       "</style>\n",
       "<table border=\"1\" class=\"dataframe\">\n",
       "  <thead>\n",
       "    <tr style=\"text-align: right;\">\n",
       "      <th></th>\n",
       "      <th>sepal_length</th>\n",
       "      <th>sepal_width</th>\n",
       "      <th>petal_length</th>\n",
       "      <th>petal_width</th>\n",
       "      <th>species</th>\n",
       "    </tr>\n",
       "  </thead>\n",
       "  <tbody>\n",
       "    <tr>\n",
       "      <th>0</th>\n",
       "      <td>5.1</td>\n",
       "      <td>3.5</td>\n",
       "      <td>1.4</td>\n",
       "      <td>0.2</td>\n",
       "      <td>setosa</td>\n",
       "    </tr>\n",
       "    <tr>\n",
       "      <th>1</th>\n",
       "      <td>4.9</td>\n",
       "      <td>3.0</td>\n",
       "      <td>1.4</td>\n",
       "      <td>0.2</td>\n",
       "      <td>setosa</td>\n",
       "    </tr>\n",
       "    <tr>\n",
       "      <th>2</th>\n",
       "      <td>4.7</td>\n",
       "      <td>3.2</td>\n",
       "      <td>1.3</td>\n",
       "      <td>0.2</td>\n",
       "      <td>setosa</td>\n",
       "    </tr>\n",
       "  </tbody>\n",
       "</table>\n",
       "</div>"
      ],
      "text/plain": [
       "   sepal_length  sepal_width  petal_length  petal_width species\n",
       "0           5.1          3.5           1.4          0.2  setosa\n",
       "1           4.9          3.0           1.4          0.2  setosa\n",
       "2           4.7          3.2           1.3          0.2  setosa"
      ]
     },
     "execution_count": 4,
     "metadata": {},
     "output_type": "execute_result"
    }
   ],
   "source": [
    "# Preview the data\n",
    "# Title DataFrame iris (return the first `n` rows) \n",
    "iris.head(n=3)"
   ]
  },
  {
   "cell_type": "code",
   "execution_count": 5,
   "id": "34cc6642-e860-428d-ac4b-e344ce95bf05",
   "metadata": {},
   "outputs": [
    {
     "data": {
      "text/html": [
       "<div>\n",
       "<style scoped>\n",
       "    .dataframe tbody tr th:only-of-type {\n",
       "        vertical-align: middle;\n",
       "    }\n",
       "\n",
       "    .dataframe tbody tr th {\n",
       "        vertical-align: top;\n",
       "    }\n",
       "\n",
       "    .dataframe thead th {\n",
       "        text-align: right;\n",
       "    }\n",
       "</style>\n",
       "<table border=\"1\" class=\"dataframe\">\n",
       "  <thead>\n",
       "    <tr style=\"text-align: right;\">\n",
       "      <th></th>\n",
       "      <th>sepal_length</th>\n",
       "      <th>sepal_width</th>\n",
       "      <th>petal_length</th>\n",
       "      <th>petal_width</th>\n",
       "      <th>species</th>\n",
       "    </tr>\n",
       "  </thead>\n",
       "  <tbody>\n",
       "    <tr>\n",
       "      <th>147</th>\n",
       "      <td>6.5</td>\n",
       "      <td>3.0</td>\n",
       "      <td>5.2</td>\n",
       "      <td>2.0</td>\n",
       "      <td>virginica</td>\n",
       "    </tr>\n",
       "    <tr>\n",
       "      <th>148</th>\n",
       "      <td>6.2</td>\n",
       "      <td>3.4</td>\n",
       "      <td>5.4</td>\n",
       "      <td>2.3</td>\n",
       "      <td>virginica</td>\n",
       "    </tr>\n",
       "    <tr>\n",
       "      <th>149</th>\n",
       "      <td>5.9</td>\n",
       "      <td>3.0</td>\n",
       "      <td>5.1</td>\n",
       "      <td>1.8</td>\n",
       "      <td>virginica</td>\n",
       "    </tr>\n",
       "  </tbody>\n",
       "</table>\n",
       "</div>"
      ],
      "text/plain": [
       "     sepal_length  sepal_width  petal_length  petal_width    species\n",
       "147           6.5          3.0           5.2          2.0  virginica\n",
       "148           6.2          3.4           5.4          2.3  virginica\n",
       "149           5.9          3.0           5.1          1.8  virginica"
      ]
     },
     "execution_count": 5,
     "metadata": {},
     "output_type": "execute_result"
    }
   ],
   "source": [
    "# Tail DataFrame iris (return the last `n` rows)\n",
    "iris.tail(n=3)"
   ]
  },
  {
   "cell_type": "code",
   "execution_count": 6,
   "id": "3001738e-3fdd-4414-8dbb-5ba836fa15ba",
   "metadata": {},
   "outputs": [
    {
     "name": "stdout",
     "output_type": "stream",
     "text": [
      "<class 'pandas.core.frame.DataFrame'>\n",
      "RangeIndex: 150 entries, 0 to 149\n",
      "Data columns (total 5 columns):\n",
      " #   Column        Non-Null Count  Dtype  \n",
      "---  ------        --------------  -----  \n",
      " 0   sepal_length  150 non-null    float64\n",
      " 1   sepal_width   150 non-null    float64\n",
      " 2   petal_length  150 non-null    float64\n",
      " 3   petal_width   150 non-null    float64\n",
      " 4   species       150 non-null    object \n",
      "dtypes: float64(4), object(1)\n",
      "memory usage: 6.0+ KB\n",
      "None\n"
     ]
    }
   ],
   "source": [
    "# Print a concise summary of a DataFrame.\n",
    "print(iris.info())"
   ]
  },
  {
   "cell_type": "code",
   "execution_count": 7,
   "id": "f4784b22-7a63-48d6-b85f-392ba8c03759",
   "metadata": {},
   "outputs": [
    {
     "name": "stdout",
     "output_type": "stream",
     "text": [
      "Column names: \n",
      "Index(['sepal_length', 'sepal_width', 'petal_length', 'petal_width',\n",
      "       'species'],\n",
      "      dtype='object')\n"
     ]
    }
   ],
   "source": [
    "# Column names\n",
    "print(f\"Column names: \\n{iris.columns}\")"
   ]
  },
  {
   "cell_type": "code",
   "execution_count": 8,
   "id": "9e5fb2b2-50cb-40e8-b2cd-ffaaf533d415",
   "metadata": {},
   "outputs": [
    {
     "name": "stdout",
     "output_type": "stream",
     "text": [
      "Shape: \n",
      "(150, 5)\n"
     ]
    }
   ],
   "source": [
    "# Data dimensionality\n",
    "print(f\"Shape: \\n{iris.shape}\")"
   ]
  },
  {
   "cell_type": "code",
   "execution_count": 9,
   "id": "c9da781b-2ae5-4584-8b01-9cad179194e8",
   "metadata": {},
   "outputs": [
    {
     "name": "stdout",
     "output_type": "stream",
     "text": [
      "Data types: \n",
      "sepal_length    float64\n",
      "sepal_width     float64\n",
      "petal_length    float64\n",
      "petal_width     float64\n",
      "species          object\n",
      "dtype: object\n"
     ]
    }
   ],
   "source": [
    "# Data types for each attribute\n",
    "print(f\"Data types: \\n{iris.dtypes}\")"
   ]
  },
  {
   "cell_type": "code",
   "execution_count": 10,
   "id": "0e1428ee-b7e4-47bc-bd77-b7e8c84b03f7",
   "metadata": {},
   "outputs": [
    {
     "data": {
      "text/html": [
       "<div>\n",
       "<style scoped>\n",
       "    .dataframe tbody tr th:only-of-type {\n",
       "        vertical-align: middle;\n",
       "    }\n",
       "\n",
       "    .dataframe tbody tr th {\n",
       "        vertical-align: top;\n",
       "    }\n",
       "\n",
       "    .dataframe thead th {\n",
       "        text-align: right;\n",
       "    }\n",
       "</style>\n",
       "<table border=\"1\" class=\"dataframe\">\n",
       "  <thead>\n",
       "    <tr style=\"text-align: right;\">\n",
       "      <th></th>\n",
       "      <th>sepal_length</th>\n",
       "      <th>sepal_width</th>\n",
       "      <th>petal_length</th>\n",
       "      <th>petal_width</th>\n",
       "    </tr>\n",
       "  </thead>\n",
       "  <tbody>\n",
       "    <tr>\n",
       "      <th>count</th>\n",
       "      <td>150.000000</td>\n",
       "      <td>150.000000</td>\n",
       "      <td>150.000000</td>\n",
       "      <td>150.000000</td>\n",
       "    </tr>\n",
       "    <tr>\n",
       "      <th>mean</th>\n",
       "      <td>5.843333</td>\n",
       "      <td>3.057333</td>\n",
       "      <td>3.758000</td>\n",
       "      <td>1.199333</td>\n",
       "    </tr>\n",
       "    <tr>\n",
       "      <th>std</th>\n",
       "      <td>0.828066</td>\n",
       "      <td>0.435866</td>\n",
       "      <td>1.765298</td>\n",
       "      <td>0.762238</td>\n",
       "    </tr>\n",
       "    <tr>\n",
       "      <th>min</th>\n",
       "      <td>4.300000</td>\n",
       "      <td>2.000000</td>\n",
       "      <td>1.000000</td>\n",
       "      <td>0.100000</td>\n",
       "    </tr>\n",
       "    <tr>\n",
       "      <th>25%</th>\n",
       "      <td>5.100000</td>\n",
       "      <td>2.800000</td>\n",
       "      <td>1.600000</td>\n",
       "      <td>0.300000</td>\n",
       "    </tr>\n",
       "    <tr>\n",
       "      <th>50%</th>\n",
       "      <td>5.800000</td>\n",
       "      <td>3.000000</td>\n",
       "      <td>4.350000</td>\n",
       "      <td>1.300000</td>\n",
       "    </tr>\n",
       "    <tr>\n",
       "      <th>75%</th>\n",
       "      <td>6.400000</td>\n",
       "      <td>3.300000</td>\n",
       "      <td>5.100000</td>\n",
       "      <td>1.800000</td>\n",
       "    </tr>\n",
       "    <tr>\n",
       "      <th>max</th>\n",
       "      <td>7.900000</td>\n",
       "      <td>4.400000</td>\n",
       "      <td>6.900000</td>\n",
       "      <td>2.500000</td>\n",
       "    </tr>\n",
       "  </tbody>\n",
       "</table>\n",
       "</div>"
      ],
      "text/plain": [
       "       sepal_length  sepal_width  petal_length  petal_width\n",
       "count    150.000000   150.000000    150.000000   150.000000\n",
       "mean       5.843333     3.057333      3.758000     1.199333\n",
       "std        0.828066     0.435866      1.765298     0.762238\n",
       "min        4.300000     2.000000      1.000000     0.100000\n",
       "25%        5.100000     2.800000      1.600000     0.300000\n",
       "50%        5.800000     3.000000      4.350000     1.300000\n",
       "75%        6.400000     3.300000      5.100000     1.800000\n",
       "max        7.900000     4.400000      6.900000     2.500000"
      ]
     },
     "execution_count": 10,
     "metadata": {},
     "output_type": "execute_result"
    }
   ],
   "source": [
    "# Generate descriptive statistics.\n",
    "iris.describe()"
   ]
  },
  {
   "cell_type": "code",
   "execution_count": 11,
   "id": "6345ab46-0ec1-4be5-9f43-ec9e94c52b42",
   "metadata": {},
   "outputs": [
    {
     "data": {
      "text/plain": [
       "sepal_length    0\n",
       "sepal_width     0\n",
       "petal_length    0\n",
       "petal_width     0\n",
       "species         0\n",
       "dtype: int64"
      ]
     },
     "execution_count": 11,
     "metadata": {},
     "output_type": "execute_result"
    }
   ],
   "source": [
    "# Detect missing values.\n",
    "iris.isnull().sum()"
   ]
  },
  {
   "cell_type": "code",
   "execution_count": 12,
   "id": "e7fc089d-06e9-484f-a045-ab7992b69849",
   "metadata": {},
   "outputs": [],
   "source": [
    "# Рассмотрим целевую/target переменную - 'species'.\n",
    "\n",
    "# Для проверки численности/балансировки классов используем функции:\n",
    "#    value_counts() - для числового представления, \n",
    "#    countplot()    - для графического представления."
   ]
  },
  {
   "cell_type": "code",
   "execution_count": 13,
   "id": "28d6bd50-4177-4906-8530-ae00105aaba3",
   "metadata": {},
   "outputs": [
    {
     "name": "stdout",
     "output_type": "stream",
     "text": [
      "setosa        50\n",
      "versicolor    50\n",
      "virginica     50\n",
      "Name: species, dtype: int64\n"
     ]
    }
   ],
   "source": [
    "# Сounts of unique rows in the DataFrame.\n",
    "print(iris['species'].value_counts())"
   ]
  },
  {
   "cell_type": "code",
   "execution_count": 14,
   "id": "caf808f5-ec88-4d2b-ade4-5fbb489784a1",
   "metadata": {},
   "outputs": [
    {
     "data": {
      "image/png": "[encoded data removed]",
      "text/plain": [
       "<Figure size 432x288 with 1 Axes>"
      ]
     },
     "metadata": {
      "needs_background": "light"
     },
     "output_type": "display_data"
    }
   ],
   "source": [
    "# Counts of observations in each categorical bin using bars.\n",
    "sns.countplot(data=iris, x='species');"
   ]
  },
  {
   "cell_type": "code",
   "execution_count": 15,
   "id": "b119dda5-aa22-4a7d-944c-b91d4a96a9ac",
   "metadata": {},
   "outputs": [],
   "source": [
    "# Целевая переменная - 'species' содержит три класса: setosa, versicolor, virginica. \n",
    "# 50 значений в каждом классе, и являются полностью сбалансированными."
   ]
  },
  {
   "cell_type": "code",
   "execution_count": 16,
   "id": "b3738733-6a5f-47ef-a373-912092daa61b",
   "metadata": {},
   "outputs": [
    {
     "data": {
      "image/png": "[encoded data removed]",
      "text/plain": [
       "<Figure size 432x288 with 4 Axes>"
      ]
     },
     "metadata": {
      "needs_background": "light"
     },
     "output_type": "display_data"
    }
   ],
   "source": [
    "# Dataframe visualization\n",
    "# Построим дополнительно -histogram, -boxplot, -pairplot для лучшего понимания структуры данных (как между собой разделяются классы). \n",
    " \n",
    "# Plot histogram\n",
    "iris.hist()\n",
    "plt.suptitle(\"Histogram\");"
   ]
  },
  {
   "cell_type": "code",
   "execution_count": 17,
   "id": "c821999f-ab06-47a3-bde9-b6f84f7842dc",
   "metadata": {},
   "outputs": [
    {
     "data": {
      "image/png": "[encoded data removed]",
      "text/plain": [
       "<Figure size 432x288 with 1 Axes>"
      ]
     },
     "metadata": {
      "needs_background": "light"
     },
     "output_type": "display_data"
    }
   ],
   "source": [
    "# Plot boxplot\n",
    "iris.boxplot()\n",
    "plt.title(\"Bar Plot\");"
   ]
  },
  {
   "cell_type": "code",
   "execution_count": 18,
   "id": "bc6a35ca-d040-45b6-9370-feea1f32252a",
   "metadata": {},
   "outputs": [
    {
     "data": {
      "image/png": "[encoded data removed]",
      "text/plain": [
       "<Figure size 804.75x720 with 20 Axes>"
      ]
     },
     "metadata": {
      "needs_background": "light"
     },
     "output_type": "display_data"
    }
   ],
   "source": [
    "# Plot pairwise relationships in a dataset.\n",
    "sns.pairplot(iris,hue='species');"
   ]
  },
  {
   "cell_type": "code",
   "execution_count": 19,
   "id": "ac784faf-a134-4a1d-8c22-95a0adc3a320",
   "metadata": {},
   "outputs": [
    {
     "data": {
      "image/png": "[encoded data removed]",
      "text/plain": [
       "<Figure size 432x288 with 2 Axes>"
      ]
     },
     "metadata": {
      "needs_background": "light"
     },
     "output_type": "display_data"
    }
   ],
   "source": [
    "# Построим матрицу корреляцию между признаками\n",
    "sns.heatmap(iris.corr(),annot=True, cmap=\"coolwarm\");"
   ]
  },
  {
   "cell_type": "markdown",
   "id": "3fd6fd2d-91ba-427f-be36-3fbdd91de2c1",
   "metadata": {},
   "source": [
    "Findings from Exploratory data analysis and visualization (EDA)\n",
    "\n",
    "\n",
    "* Пропущенных значении - 0\n",
    "* Общее количество столбцов - 5\n",
    "* Kоличество сэмплов/строк - 150\n",
    "* Все признаки - являются числовыми значениями\n",
    "* Количество признаков/features - 4\n",
    "* Целевая переменная - 'species' содержит три класса: setosa, versicolor, virginica. 50 значений в каждом классе, и являются полностью сбалансированными.\n",
    "\n",
    "\n",
    "* Чашелистики длиннее и шире лепестков. \n",
    "* Длина чашелистика 4.3-7.9cм (среднее 5.84см). Ширина чашелистика 2.0-4.4см (среднее 3.05см).\n",
    "* Длина лепестка 1.0-6.9см (среднее 3.75см). Ширина лепестка варьирует от  0.1-2.5см (среднее 1.19см).\n",
    "* Средняя длина лепестка у setosa намного меньше, чем у versicolor и virginica.\n",
    "* Средняя ширина чашелистика у setosa выше, чем у versicolor и virginica.\n",
    "* Длина и ширина лепестка сильно коррелируют, в 96% случаев ширина увеличивается с увеличением длины. \n",
    "* Длина лепестка отрицательно коррелирует с шириной чашелистика, в 43% случаев увеличение ширины чашелистика приводит к уменьшению длины лепестка.\n",
    "* Основываясь только на длине и ширине чашелистика/лепестка, можно сделать вывод, что versicolor/virginica могут быть похожи по размеру, однако характеристики setosa заметно отличаются от двух других."
   ]
  },
  {
   "cell_type": "markdown",
   "id": "f52727fd-05df-4508-8a4c-a0abefb96c75",
   "metadata": {},
   "source": [
    "## Test Split and Scaling"
   ]
  },
  {
   "cell_type": "markdown",
   "id": "57c8054f-cdd2-4b62-b7c5-5dbe3f702bdf",
   "metadata": {},
   "source": [
    "Note: Разделим данные на тестовые и обучающие с разным значением параметра train_test_split->stratify\n",
    "\n",
    "      Step 1. train_test_split->stratify=None - без учета распределения классов\n",
    "      Step 2. train_test_split->stratify=y    - с учетом распределения классов"
   ]
  },
  {
   "cell_type": "code",
   "execution_count": 20,
   "id": "c4d9ac24-e0c2-483c-9a87-8ced2eee5810",
   "metadata": {},
   "outputs": [],
   "source": [
    "test_size=0.3\n",
    "random_state=42"
   ]
  },
  {
   "cell_type": "code",
   "execution_count": 21,
   "id": "43d73a3e-5790-48cd-b11a-d4bd524c2548",
   "metadata": {},
   "outputs": [],
   "source": [
    "#Step 1. stratify=None\n",
    "\n",
    "# inputs / Массив X, содержит признаки для обучения\n",
    "X = iris[['sepal_length', 'sepal_width', 'petal_length', 'petal_width']]\n",
    "\n",
    "# outputs / Массив у с целевой переменной\n",
    "y = iris['species']\n",
    "\n",
    "# Splitting the dataset into the Training set and Test set\n",
    "X_train, X_test, y_train, y_test = train_test_split(X, y, test_size=test_size, random_state=random_state, shuffle=True, stratify=None)"
   ]
  },
  {
   "cell_type": "code",
   "execution_count": 22,
   "id": "e3ae1dbb-db2a-40be-ab3a-5580c81e02a1",
   "metadata": {},
   "outputs": [
    {
     "name": "stdout",
     "output_type": "stream",
     "text": [
      "Shape X_train: \n",
      "(105, 4)\n",
      "\n",
      "Class distribution y_train: \n",
      "versicolor    37\n",
      "virginica     37\n",
      "setosa        31\n",
      "Name: species, dtype: int64\n"
     ]
    }
   ],
   "source": [
    "# Data dimensionality and class distribution on train set\n",
    "print(f\"Shape X_train: \\n{X_train.shape}\\n\")\n",
    "print(f\"Class distribution y_train: \\n{y_train.value_counts()}\")"
   ]
  },
  {
   "cell_type": "code",
   "execution_count": 23,
   "id": "c5e0ac10-9fe0-432b-b495-f64c78e0c59c",
   "metadata": {},
   "outputs": [
    {
     "name": "stdout",
     "output_type": "stream",
     "text": [
      "Shape X_test: \n",
      "(45, 4)\n",
      "\n",
      "Class distribution y_test: \n",
      "setosa        19\n",
      "versicolor    13\n",
      "virginica     13\n",
      "Name: species, dtype: int64\n"
     ]
    }
   ],
   "source": [
    "# Data dimensionality and class distribution on test set\n",
    "print(f\"Shape X_test: \\n{X_test.shape}\\n\")\n",
    "print(f\"Class distribution y_test: \\n{y_test.value_counts()}\")"
   ]
  },
  {
   "cell_type": "code",
   "execution_count": 24,
   "id": "982ffc87-5683-4cdc-849a-9783868ed752",
   "metadata": {},
   "outputs": [],
   "source": [
    "#Step 2. stratify=y\n",
    "\n",
    "# inputs / Массив X, содержит признаки для обучения\n",
    "X = iris[['sepal_length', 'sepal_width', 'petal_length', 'petal_width']]\n",
    "\n",
    "# outputs / Массив у с целевой переменной\n",
    "y = iris['species']\n",
    "\n",
    "# Splitting the dataset into the Training set and Test set\n",
    "X_train, X_test, y_train, y_test = train_test_split(X, y, test_size=test_size, random_state=random_state, shuffle=True, stratify=y)"
   ]
  },
  {
   "cell_type": "code",
   "execution_count": 25,
   "id": "362893c1-9de4-4367-9d6b-e4c3ea39f292",
   "metadata": {},
   "outputs": [
    {
     "name": "stdout",
     "output_type": "stream",
     "text": [
      "Shape X_train: \n",
      "(105, 4)\n",
      "\n",
      "Class distribution y_train: \n",
      "versicolor    35\n",
      "setosa        35\n",
      "virginica     35\n",
      "Name: species, dtype: int64\n"
     ]
    }
   ],
   "source": [
    "# Data dimensionality and class distribution on train set\n",
    "print(f\"Shape X_train: \\n{X_train.shape}\\n\")\n",
    "print(f\"Class distribution y_train: \\n{y_train.value_counts()}\")"
   ]
  },
  {
   "cell_type": "code",
   "execution_count": 26,
   "id": "64503f55-c934-4ced-90dd-6790aa20ed62",
   "metadata": {},
   "outputs": [
    {
     "name": "stdout",
     "output_type": "stream",
     "text": [
      "Shape X_test: \n",
      "(45, 4)\n",
      "\n",
      "Class distribution y_test: \n",
      "virginica     15\n",
      "versicolor    15\n",
      "setosa        15\n",
      "Name: species, dtype: int64\n"
     ]
    }
   ],
   "source": [
    "# Data dimensionality and class distribution on test set\n",
    "print(f\"Shape X_test: \\n{X_test.shape}\\n\")\n",
    "print(f\"Class distribution y_test: \\n{y_test.value_counts()}\")"
   ]
  },
  {
   "cell_type": "code",
   "execution_count": 27,
   "id": "c9896a84-0161-4d3e-aa3b-f4cf48d05703",
   "metadata": {},
   "outputs": [],
   "source": [
    "folds = 10\n",
    "\n",
    "# Returns stratified folds\n",
    "skf = StratifiedKFold(n_splits=folds, random_state=random_state, shuffle=True)\n",
    "\n",
    "# Returns K-Folds cross-validator\n",
    "kf = KFold(n_splits=folds, random_state=random_state, shuffle=True)"
   ]
  },
  {
   "cell_type": "markdown",
   "id": "3243baf7-d963-4470-90eb-6c62d1b50546",
   "metadata": {},
   "source": [
    "Note: С параметром stratify=y получаем, относительно тестового и тренировочного набора, одинаково сбалансированные данные по классам. stratify - важный параметр для несбалансированных классов.  "
   ]
  },
  {
   "cell_type": "code",
   "execution_count": 28,
   "id": "322d86ea-bc26-41fb-afca-3679dd41880d",
   "metadata": {},
   "outputs": [],
   "source": [
    "# Standardize features by removing the mean and scaling to unit variance\n",
    "scaler = StandardScaler()\n",
    "scaled_X_train = scaler.fit_transform(X_train)\n",
    "scaled_X_test = scaler.transform(X_test)"
   ]
  },
  {
   "cell_type": "markdown",
   "id": "bf348981-e9c7-4857-b76b-9e5804b7a421",
   "metadata": {},
   "source": [
    "# Multi-Class Logistic Regression Model"
   ]
  },
  {
   "cell_type": "markdown",
   "id": "c7942d24-7bc9-49f4-a931-05d6833d1fbb",
   "metadata": {},
   "source": [
    "## Base Multi-Class Logistic Regression Model"
   ]
  },
  {
   "cell_type": "code",
   "execution_count": 29,
   "id": "08ae4ad8-f2ff-449e-b0fa-0cc950a4f230",
   "metadata": {},
   "outputs": [
    {
     "name": "stdout",
     "output_type": "stream",
     "text": [
      "Default parameters: \n",
      "{'C': 1.0, 'class_weight': None, 'dual': False, 'fit_intercept': True, 'intercept_scaling': 1, 'l1_ratio': None, 'max_iter': 100, 'multi_class': 'auto', 'n_jobs': None, 'penalty': 'l2', 'random_state': None, 'solver': 'lbfgs', 'tol': 0.0001, 'verbose': 0, 'warm_start': False}\n"
     ]
    }
   ],
   "source": [
    "# Построим базовую модель LogisticRegression()\n",
    "\n",
    "# Instantiate a classifier and print default parameters\n",
    "base_log_model = LogisticRegression()\n",
    "print(f\"Default parameters: \\n{base_log_model.get_params()}\")"
   ]
  },
  {
   "cell_type": "code",
   "execution_count": 30,
   "id": "8daaa731-5bd2-4762-b39e-e6bd2a133be4",
   "metadata": {},
   "outputs": [
    {
     "data": {
      "text/plain": [
       "LogisticRegression()"
      ]
     },
     "execution_count": 30,
     "metadata": {},
     "output_type": "execute_result"
    }
   ],
   "source": [
    "# Train classifer\n",
    "base_log_model.fit(scaled_X_train,y_train)"
   ]
  },
  {
   "cell_type": "markdown",
   "id": "96d4694d-b5f1-4760-904d-62f431fa8272",
   "metadata": {},
   "source": [
    "## Model Performance on Base Multi-Class Logistic Regression Model"
   ]
  },
  {
   "cell_type": "code",
   "execution_count": 31,
   "id": "854b8626-ee91-4a7f-b08b-72d3f844fa66",
   "metadata": {},
   "outputs": [],
   "source": [
    "# Predict class labels for samples in X\n",
    "base_log_y_pred = base_log_model.predict(X = scaled_X_test)"
   ]
  },
  {
   "cell_type": "code",
   "execution_count": 32,
   "id": "7254477b-8667-4d36-9e86-d3a26595928f",
   "metadata": {},
   "outputs": [
    {
     "data": {
      "text/plain": [
       "0.9111111111111111"
      ]
     },
     "execution_count": 32,
     "metadata": {},
     "output_type": "execute_result"
    }
   ],
   "source": [
    "# Accuracy classification score\n",
    "accuracy_score(y_test, base_log_y_pred)"
   ]
  },
  {
   "cell_type": "code",
   "execution_count": 33,
   "id": "61e48c87-214c-4ccc-b502-29e14f207b48",
   "metadata": {},
   "outputs": [
    {
     "data": {
      "text/plain": [
       "array([[15,  0,  0],\n",
       "       [ 0, 14,  1],\n",
       "       [ 0,  3, 12]], dtype=int64)"
      ]
     },
     "execution_count": 33,
     "metadata": {},
     "output_type": "execute_result"
    }
   ],
   "source": [
    "# Build confusion matrix in text mode\n",
    "confusion_matrix(y_test, base_log_y_pred)"
   ]
  },
  {
   "cell_type": "code",
   "execution_count": 34,
   "id": "43435613-a418-4587-afdc-fb49bb533445",
   "metadata": {},
   "outputs": [
    {
     "data": {
      "image/png": "[encoded data removed]",
      "text/plain": [
       "<Figure size 432x288 with 2 Axes>"
      ]
     },
     "metadata": {
      "needs_background": "light"
     },
     "output_type": "display_data"
    }
   ],
   "source": [
    "# Build confusion matrix in graphic mode\n",
    "plot_confusion_matrix(base_log_model, scaled_X_test, y_test);"
   ]
  },
  {
   "cell_type": "code",
   "execution_count": 35,
   "id": "39985ed1-c0ae-4772-bb03-9498ba4e8cd6",
   "metadata": {},
   "outputs": [
    {
     "name": "stdout",
     "output_type": "stream",
     "text": [
      "              precision    recall  f1-score   support\n",
      "\n",
      "      setosa       1.00      1.00      1.00        15\n",
      "  versicolor       0.82      0.93      0.87        15\n",
      "   virginica       0.92      0.80      0.86        15\n",
      "\n",
      "    accuracy                           0.91        45\n",
      "   macro avg       0.92      0.91      0.91        45\n",
      "weighted avg       0.92      0.91      0.91        45\n",
      "\n"
     ]
    }
   ],
   "source": [
    "print(classification_report(y_test, base_log_y_pred))"
   ]
  },
  {
   "cell_type": "markdown",
   "id": "7fd16453-7dba-4f89-b739-1f782413b832",
   "metadata": {},
   "source": [
    "## GridSearch for Multi-Class Logistic Regression Model"
   ]
  },
  {
   "cell_type": "code",
   "execution_count": 36,
   "id": "71dd79ef-ba33-4be3-a4fb-2656ae144b3b",
   "metadata": {},
   "outputs": [],
   "source": [
    "# Create a list of dictionaries called param_grid and fill out some parameters for C, solver, penalty, multi_class.\n",
    "# Для каждого solver свой набор параметров (не все solver поддерживают одни и те же параметры)\n",
    "\n",
    "C = [0.001, 0.01, 0.1, 1, 10, 100]\n",
    "param_grid = [{'solver':['lbfgs'],     'C':C, 'penalty':['l2'],       'multi_class':['ovr', 'multinomial']},\n",
    "              {'solver':['saga'],      'C':C, 'penalty':['l1', 'l2'], 'multi_class':['ovr', 'multinomial']},\n",
    "              {'solver':['liblinear'], 'C':C, 'penalty':['l1', 'l2'], 'multi_class':['ovr']}]"
   ]
  },
  {
   "cell_type": "code",
   "execution_count": 37,
   "id": "e2ef85d1-76c5-40d3-8ea9-e8bf0b2ce462",
   "metadata": {},
   "outputs": [],
   "source": [
    "grid_log_model = GridSearchCV(estimator=LogisticRegression(),\n",
    "                              param_grid=param_grid,\n",
    "                              refit=True,\n",
    "                              verbose=1,\n",
    "                              cv=kf,\n",
    "                              scoring='accuracy',\n",
    "                              n_jobs=-1)\n",
    "\n",
    "# scoring='accuracy' -> Strategy to evaluate the performance of the cross-validated model on the test set.\n",
    "# n_jobs=-1          -> Number of jobs to run in parallel."
   ]
  },
  {
   "cell_type": "code",
   "execution_count": 38,
   "id": "0b6eee36-332a-462b-a48e-e5843d53ba6a",
   "metadata": {},
   "outputs": [
    {
     "name": "stdout",
     "output_type": "stream",
     "text": [
      "Fitting 10 folds for each of 48 candidates, totalling 480 fits\n"
     ]
    },
    {
     "data": {
      "text/plain": [
       "GridSearchCV(cv=KFold(n_splits=10, random_state=42, shuffle=True),\n",
       "             estimator=LogisticRegression(), n_jobs=-1,\n",
       "             param_grid=[{'C': [0.001, 0.01, 0.1, 1, 10, 100],\n",
       "                          'multi_class': ['ovr', 'multinomial'],\n",
       "                          'penalty': ['l2'], 'solver': ['lbfgs']},\n",
       "                         {'C': [0.001, 0.01, 0.1, 1, 10, 100],\n",
       "                          'multi_class': ['ovr', 'multinomial'],\n",
       "                          'penalty': ['l1', 'l2'], 'solver': ['saga']},\n",
       "                         {'C': [0.001, 0.01, 0.1, 1, 10, 100],\n",
       "                          'multi_class': ['ovr'], 'penalty': ['l1', 'l2'],\n",
       "                          'solver': ['liblinear']}],\n",
       "             scoring='accuracy', verbose=1)"
      ]
     },
     "execution_count": 38,
     "metadata": {},
     "output_type": "execute_result"
    }
   ],
   "source": [
    "grid_log_model.fit(scaled_X_train,y_train)"
   ]
  },
  {
   "cell_type": "markdown",
   "id": "51c2d762-a630-48d7-88a0-6fb15d79ce1c",
   "metadata": {},
   "source": [
    "## Model Performance on GridSearch Multi-Class Logistic Regression Model"
   ]
  },
  {
   "cell_type": "code",
   "execution_count": 39,
   "id": "67be7622-fa80-4765-ade9-fcba5906829a",
   "metadata": {},
   "outputs": [],
   "source": [
    "# Predict class labels for samples in X\n",
    "grid_log_y_pred = grid_log_model.predict(X = scaled_X_test)"
   ]
  },
  {
   "cell_type": "code",
   "execution_count": 40,
   "id": "87db5aec-d2cd-43f7-9aac-ec09c7df7fc7",
   "metadata": {},
   "outputs": [
    {
     "data": {
      "text/plain": [
       "0.9111111111111111"
      ]
     },
     "execution_count": 40,
     "metadata": {},
     "output_type": "execute_result"
    }
   ],
   "source": [
    "# Accuracy classification score\n",
    "accuracy_score(y_test, grid_log_y_pred)"
   ]
  },
  {
   "cell_type": "code",
   "execution_count": 41,
   "id": "aa49336b-3190-42c1-b3c8-c850f07c3aa0",
   "metadata": {},
   "outputs": [
    {
     "name": "stdout",
     "output_type": "stream",
     "text": [
      "Best parameter values: \n",
      "{'C': 10, 'multi_class': 'ovr', 'penalty': 'l2', 'solver': 'lbfgs'}\n"
     ]
    }
   ],
   "source": [
    "print(f\"Best parameter values: \\n{grid_log_model.best_params_}\")"
   ]
  },
  {
   "cell_type": "code",
   "execution_count": 42,
   "id": "f6ff9385-05f7-40da-9d19-23e12f91a733",
   "metadata": {},
   "outputs": [
    {
     "name": "stdout",
     "output_type": "stream",
     "text": [
      "Best model:  \n",
      "LogisticRegression(C=10, multi_class='ovr')\n"
     ]
    }
   ],
   "source": [
    "print(f\"Best model:  \\n{grid_log_model.best_estimator_}\")"
   ]
  },
  {
   "cell_type": "code",
   "execution_count": 43,
   "id": "6dee1323-84f1-418d-8386-edc36ef50cb4",
   "metadata": {},
   "outputs": [
    {
     "data": {
      "text/plain": [
       "array([[15,  0,  0],\n",
       "       [ 0, 14,  1],\n",
       "       [ 0,  3, 12]], dtype=int64)"
      ]
     },
     "execution_count": 43,
     "metadata": {},
     "output_type": "execute_result"
    }
   ],
   "source": [
    "# Build confusion matrix in text mode\n",
    "confusion_matrix(y_test, grid_log_y_pred)"
   ]
  },
  {
   "cell_type": "code",
   "execution_count": 44,
   "id": "5e7e40b9-183f-4914-adb7-1ed2ba860259",
   "metadata": {},
   "outputs": [
    {
     "data": {
      "image/png": "[encoded data removed]",
      "text/plain": [
       "<Figure size 432x288 with 2 Axes>"
      ]
     },
     "metadata": {
      "needs_background": "light"
     },
     "output_type": "display_data"
    }
   ],
   "source": [
    "# Build confusion matrix in graphic mode\n",
    "plot_confusion_matrix(grid_log_model, scaled_X_test, y_test);"
   ]
  },
  {
   "cell_type": "code",
   "execution_count": 45,
   "id": "cee4b978-3352-4b97-a025-3746be852085",
   "metadata": {},
   "outputs": [
    {
     "name": "stdout",
     "output_type": "stream",
     "text": [
      "              precision    recall  f1-score   support\n",
      "\n",
      "      setosa       1.00      1.00      1.00        15\n",
      "  versicolor       0.82      0.93      0.87        15\n",
      "   virginica       0.92      0.80      0.86        15\n",
      "\n",
      "    accuracy                           0.91        45\n",
      "   macro avg       0.92      0.91      0.91        45\n",
      "weighted avg       0.92      0.91      0.91        45\n",
      "\n"
     ]
    }
   ],
   "source": [
    "print(classification_report(y_test, grid_log_y_pred))"
   ]
  },
  {
   "cell_type": "markdown",
   "id": "5a583d78-a410-4107-8d6d-8c7db46dfc41",
   "metadata": {},
   "source": [
    "## Plot ROC curves for the multiclass problem and AUC"
   ]
  },
  {
   "cell_type": "markdown",
   "id": "129a19d4-92d7-40fa-a364-48daee48c0ba",
   "metadata": {},
   "source": [
    "Note: Для задачи мульти-классовой классификаций нельзя применить функцию sklearn.metrics.plot_roc_curve, поскольку она предназначена для задачи бинарной классификации (одного класса). Воспользуемся программным кодом приведенном  в документации к sklearn.  На одном плане выведем roc_curve и auc для каждого класса.\n",
    "\n",
    "Source: https://scikit-learn.org/stable/auto_examples/model_selection/plot_roc.html"
   ]
  },
  {
   "cell_type": "code",
   "execution_count": 46,
   "id": "e121be17-de0a-432d-802d-adff97f58423",
   "metadata": {},
   "outputs": [],
   "source": [
    "def plot_multiclass_roc(clf, X_test, y_test, n_classes, figsize=(5,5)):\n",
    "    y_score = clf.decision_function(X_test)\n",
    "\n",
    "    # structures\n",
    "    fpr = dict()\n",
    "    tpr = dict()\n",
    "    roc_auc = dict()\n",
    "\n",
    "    # calculate dummies once\n",
    "    y_test_dummies = pd.get_dummies(y_test, drop_first=False).values\n",
    "    for i in range(n_classes):\n",
    "        fpr[i], tpr[i], _ = roc_curve(y_test_dummies[:, i], y_score[:, i])\n",
    "        roc_auc[i] = auc(fpr[i], tpr[i])\n",
    "\n",
    "    # roc for each class\n",
    "    fig, ax = plt.subplots(figsize=figsize)\n",
    "    ax.plot([0, 1], [0, 1], 'k--')\n",
    "    ax.set_xlim([0.0, 1.0])\n",
    "    ax.set_ylim([0.0, 1.05])\n",
    "    ax.set_xlabel('False Positive Rate')\n",
    "    ax.set_ylabel('True Positive Rate')\n",
    "    ax.set_title('Receiver operating characteristic example')\n",
    "    for i in range(n_classes):\n",
    "        ax.plot(fpr[i], tpr[i], label='ROC curve (area = %0.2f) for label %i' % (roc_auc[i], i))\n",
    "    ax.legend(loc=\"best\")\n",
    "    ax.grid(alpha=.4)\n",
    "    sns.despine()\n",
    "    plt.show()"
   ]
  },
  {
   "cell_type": "code",
   "execution_count": 47,
   "id": "b14596a2-da7d-44b7-b41f-94c8c5bf9cd6",
   "metadata": {},
   "outputs": [
    {
     "data": {
      "image/png": "[encoded data removed]",
      "text/plain": [
       "<Figure size 360x360 with 1 Axes>"
      ]
     },
     "metadata": {
      "needs_background": "light"
     },
     "output_type": "display_data"
    }
   ],
   "source": [
    "# Compute macro-average ROC curve and ROC area\n",
    "plot_multiclass_roc(grid_log_model, scaled_X_test, y_test, n_classes=3)"
   ]
  },
  {
   "cell_type": "markdown",
   "id": "8ebbbab9-ee9b-49f8-a995-def4a90e2386",
   "metadata": {},
   "source": [
    "# Support Vector Machines (SVC) Model"
   ]
  },
  {
   "cell_type": "markdown",
   "id": "27bfb73c-d263-4a14-8837-c96b41b6809b",
   "metadata": {},
   "source": [
    "<h3 align='left'>Support Vector Machines - Separates data between two classes by maximizing the margin between the hyperplane and the nearest data points of any class. Relies on the following:</h3>\n",
    "<img src='svc.jpg'  width=640 height=480 ></img>"
   ]
  },
  {
   "cell_type": "markdown",
   "id": "4e67fa70-df7b-4350-ad09-313fb759d8d2",
   "metadata": {},
   "source": [
    "## Base SVC Model"
   ]
  },
  {
   "cell_type": "code",
   "execution_count": 48,
   "id": "49597a7c-a016-446e-b27a-130e42b97f9e",
   "metadata": {},
   "outputs": [
    {
     "name": "stdout",
     "output_type": "stream",
     "text": [
      "Default parameters: \n",
      "{'C': 1.0, 'break_ties': False, 'cache_size': 200, 'class_weight': None, 'coef0': 0.0, 'decision_function_shape': 'ovr', 'degree': 3, 'gamma': 'scale', 'kernel': 'rbf', 'max_iter': -1, 'probability': False, 'random_state': None, 'shrinking': True, 'tol': 0.001, 'verbose': False}\n"
     ]
    }
   ],
   "source": [
    "# Построим базовую модель SVC()\n",
    "\n",
    "# Instantiate a classifier and print default parameters\n",
    "base_svc_model = SVC()\n",
    "base_svc_model.fit(scaled_X_train,y_train)\n",
    "print(f\"Default parameters: \\n{base_svc_model.get_params()}\")"
   ]
  },
  {
   "cell_type": "code",
   "execution_count": 49,
   "id": "6d3766d2-e35b-41b3-ad65-fe9202273573",
   "metadata": {},
   "outputs": [
    {
     "data": {
      "text/plain": [
       "SVC()"
      ]
     },
     "execution_count": 49,
     "metadata": {},
     "output_type": "execute_result"
    }
   ],
   "source": [
    "# Train classifer\n",
    "base_svc_model.fit(scaled_X_train,y_train)"
   ]
  },
  {
   "cell_type": "markdown",
   "id": "73e77ea6-0d63-4f0a-94ee-dcd0c04de451",
   "metadata": {},
   "source": [
    "## Model Performance on Base SVC Model"
   ]
  },
  {
   "cell_type": "code",
   "execution_count": 50,
   "id": "5770ef44-2300-4ffc-a2fe-829dbec1d063",
   "metadata": {},
   "outputs": [],
   "source": [
    "# Predict class labels for samples in X\n",
    "base_SVC_y_pred = base_svc_model.predict(X = scaled_X_test)"
   ]
  },
  {
   "cell_type": "code",
   "execution_count": 51,
   "id": "48a9b7fa-4a2c-41aa-afb4-c8fd8db8b822",
   "metadata": {},
   "outputs": [
    {
     "data": {
      "text/plain": [
       "0.9333333333333333"
      ]
     },
     "execution_count": 51,
     "metadata": {},
     "output_type": "execute_result"
    }
   ],
   "source": [
    "# Accuracy classification score\n",
    "accuracy_score(y_test, base_SVC_y_pred)"
   ]
  },
  {
   "cell_type": "code",
   "execution_count": 52,
   "id": "43edfb52-c805-4e13-b593-6db2c39b3290",
   "metadata": {},
   "outputs": [
    {
     "data": {
      "text/plain": [
       "array([[15,  0,  0],\n",
       "       [ 0, 14,  1],\n",
       "       [ 0,  2, 13]], dtype=int64)"
      ]
     },
     "execution_count": 52,
     "metadata": {},
     "output_type": "execute_result"
    }
   ],
   "source": [
    "# Build confusion matrix in text mode\n",
    "confusion_matrix(y_test, base_SVC_y_pred)"
   ]
  },
  {
   "cell_type": "code",
   "execution_count": 53,
   "id": "8f8475da-86ad-4c8c-9fef-28df0ea0b4bd",
   "metadata": {},
   "outputs": [
    {
     "data": {
      "image/png": "[encoded data removed]",
      "text/plain": [
       "<Figure size 432x288 with 2 Axes>"
      ]
     },
     "metadata": {
      "needs_background": "light"
     },
     "output_type": "display_data"
    }
   ],
   "source": [
    "# Build confusion matrix in graphic mode\n",
    "plot_confusion_matrix(base_svc_model, scaled_X_test, y_test);"
   ]
  },
  {
   "cell_type": "code",
   "execution_count": 54,
   "id": "fb7420d7-e7f9-4170-8a74-47cf5a4b432d",
   "metadata": {},
   "outputs": [
    {
     "name": "stdout",
     "output_type": "stream",
     "text": [
      "              precision    recall  f1-score   support\n",
      "\n",
      "      setosa       1.00      1.00      1.00        15\n",
      "  versicolor       0.88      0.93      0.90        15\n",
      "   virginica       0.93      0.87      0.90        15\n",
      "\n",
      "    accuracy                           0.93        45\n",
      "   macro avg       0.93      0.93      0.93        45\n",
      "weighted avg       0.93      0.93      0.93        45\n",
      "\n"
     ]
    }
   ],
   "source": [
    "print(classification_report(y_test, base_SVC_y_pred))"
   ]
  },
  {
   "cell_type": "markdown",
   "id": "4a991fd6-e13c-4bb9-b23f-86654f83e223",
   "metadata": {},
   "source": [
    "## GridSearch for SVC Model"
   ]
  },
  {
   "cell_type": "code",
   "execution_count": 55,
   "id": "edb43703-0e49-461c-8370-4991a4432463",
   "metadata": {},
   "outputs": [],
   "source": [
    "# Create a dictionary called param_grid and fill out some parameters for C, gamma, kernel.\n",
    "kernel = ['linear', 'poly', 'rbf', 'sigmoid']\n",
    "C = [0.001, 0.01, 0.1, 1, 10, 100]\n",
    "gamma = [0.001, 0.01, 0.1, 1, 10, 100]\n",
    "\n",
    "param_grid = {'kernel':kernel, 'C':C, 'gamma':gamma}"
   ]
  },
  {
   "cell_type": "code",
   "execution_count": 56,
   "id": "17488b91-be53-4642-afcb-81edb75067f9",
   "metadata": {},
   "outputs": [],
   "source": [
    "# Create a GridSearchCV object and fit it to the training data.\n",
    "grid_svc_model = GridSearchCV(estimator=SVC(),\n",
    "                              param_grid=param_grid,\n",
    "                              refit=True,\n",
    "                              verbose=1,\n",
    "                              cv=skf,\n",
    "                              scoring='accuracy',\n",
    "                              n_jobs=-1)\n",
    "\n",
    "# scoring='accuracy' -> Strategy to evaluate the performance of the cross-validated model on the test set.\n",
    "# n_jobs=-1 -> Number of jobs to run in parallel."
   ]
  },
  {
   "cell_type": "code",
   "execution_count": 57,
   "id": "c64cab52-2189-4c19-91fc-5bd79485c068",
   "metadata": {},
   "outputs": [
    {
     "name": "stdout",
     "output_type": "stream",
     "text": [
      "Fitting 10 folds for each of 144 candidates, totalling 1440 fits\n"
     ]
    },
    {
     "data": {
      "text/plain": [
       "GridSearchCV(cv=StratifiedKFold(n_splits=10, random_state=42, shuffle=True),\n",
       "             estimator=SVC(), n_jobs=-1,\n",
       "             param_grid={'C': [0.001, 0.01, 0.1, 1, 10, 100],\n",
       "                         'gamma': [0.001, 0.01, 0.1, 1, 10, 100],\n",
       "                         'kernel': ['linear', 'poly', 'rbf', 'sigmoid']},\n",
       "             scoring='accuracy', verbose=1)"
      ]
     },
     "execution_count": 57,
     "metadata": {},
     "output_type": "execute_result"
    }
   ],
   "source": [
    "grid_svc_model.fit(scaled_X_train,y_train)"
   ]
  },
  {
   "cell_type": "markdown",
   "id": "61c505eb-6887-48f8-8dcd-60b733d02df0",
   "metadata": {},
   "source": [
    "## Model Performance on GridSearch SVC Model"
   ]
  },
  {
   "cell_type": "code",
   "execution_count": 58,
   "id": "26edba09-4d1b-41b3-939c-88a5486886ac",
   "metadata": {},
   "outputs": [],
   "source": [
    "# Predict class labels for samples in X\n",
    "grid_SVC_y_pred = grid_svc_model.predict(X = scaled_X_test)"
   ]
  },
  {
   "cell_type": "code",
   "execution_count": 59,
   "id": "1180ffad-21d9-4930-a17b-641e1fe658e2",
   "metadata": {},
   "outputs": [
    {
     "data": {
      "text/plain": [
       "0.9333333333333333"
      ]
     },
     "execution_count": 59,
     "metadata": {},
     "output_type": "execute_result"
    }
   ],
   "source": [
    "# Accuracy classification score\n",
    "accuracy_score(y_test, grid_SVC_y_pred)"
   ]
  },
  {
   "cell_type": "code",
   "execution_count": 60,
   "id": "8088f1f5-1a0a-464a-b6ed-c7e5445e8f3d",
   "metadata": {},
   "outputs": [
    {
     "name": "stdout",
     "output_type": "stream",
     "text": [
      "Best parameter values: \n",
      "{'C': 100, 'gamma': 0.001, 'kernel': 'linear'}\n"
     ]
    }
   ],
   "source": [
    "print(f\"Best parameter values: \\n{grid_svc_model.best_params_}\")"
   ]
  },
  {
   "cell_type": "code",
   "execution_count": 61,
   "id": "7e55cdb4-54c1-4970-a35e-2078e1ad6630",
   "metadata": {},
   "outputs": [
    {
     "name": "stdout",
     "output_type": "stream",
     "text": [
      "Best model:  \n",
      "SVC(C=100, gamma=0.001, kernel='linear')\n"
     ]
    }
   ],
   "source": [
    "print(f\"Best model:  \\n{grid_svc_model.best_estimator_}\")"
   ]
  },
  {
   "cell_type": "code",
   "execution_count": 62,
   "id": "a782fe3b-16e8-4fc3-9f52-a88a92240e67",
   "metadata": {},
   "outputs": [
    {
     "data": {
      "text/plain": [
       "array([[15,  0,  0],\n",
       "       [ 0, 15,  0],\n",
       "       [ 0,  3, 12]], dtype=int64)"
      ]
     },
     "execution_count": 62,
     "metadata": {},
     "output_type": "execute_result"
    }
   ],
   "source": [
    "# Build confusion matrix in text mode\n",
    "confusion_matrix(y_test, grid_SVC_y_pred)"
   ]
  },
  {
   "cell_type": "code",
   "execution_count": 63,
   "id": "c9c3b19b-e5ce-4ebd-af87-013e3f2f9b59",
   "metadata": {},
   "outputs": [
    {
     "data": {
      "image/png": "[encoded data removed]",
      "text/plain": [
       "<Figure size 432x288 with 2 Axes>"
      ]
     },
     "metadata": {
      "needs_background": "light"
     },
     "output_type": "display_data"
    }
   ],
   "source": [
    "# Build confusion matrix in graphic mode\n",
    "plot_confusion_matrix(grid_svc_model, scaled_X_test, y_test);"
   ]
  },
  {
   "cell_type": "code",
   "execution_count": 64,
   "id": "0f0d8e4a-d9b9-4a3d-97c1-8006a04b4182",
   "metadata": {},
   "outputs": [
    {
     "name": "stdout",
     "output_type": "stream",
     "text": [
      "              precision    recall  f1-score   support\n",
      "\n",
      "      setosa       1.00      1.00      1.00        15\n",
      "  versicolor       0.83      1.00      0.91        15\n",
      "   virginica       1.00      0.80      0.89        15\n",
      "\n",
      "    accuracy                           0.93        45\n",
      "   macro avg       0.94      0.93      0.93        45\n",
      "weighted avg       0.94      0.93      0.93        45\n",
      "\n"
     ]
    }
   ],
   "source": [
    "print(classification_report(y_test, grid_SVC_y_pred))"
   ]
  },
  {
   "cell_type": "markdown",
   "id": "a1ac04d9-6f49-481e-a672-78afd485e36b",
   "metadata": {},
   "source": [
    "## Plot ROC curves for the multiclass problem and AUC"
   ]
  },
  {
   "cell_type": "code",
   "execution_count": 65,
   "id": "a94afeac-b2bf-411d-aff0-b6fa4f986680",
   "metadata": {},
   "outputs": [
    {
     "data": {
      "image/png": "[encoded data removed]",
      "text/plain": [
       "<Figure size 360x360 with 1 Axes>"
      ]
     },
     "metadata": {
      "needs_background": "light"
     },
     "output_type": "display_data"
    }
   ],
   "source": [
    "# Compute macro-average ROC curve and ROC area\n",
    "plot_multiclass_roc(grid_svc_model, scaled_X_test, y_test, n_classes=3)"
   ]
  },
  {
   "cell_type": "markdown",
   "id": "568b851e-6223-44a8-a655-f39044945665",
   "metadata": {},
   "source": [
    "# Questions:"
   ]
  },
  {
   "cell_type": "markdown",
   "id": "9f160487-e00b-420b-a026-e45cd647bf76",
   "metadata": {},
   "source": [
    "1 Какие подходы позволяют логистической регрессии работать на нескольких классах?\n"
   ]
  },
  {
   "cell_type": "markdown",
   "id": "3a360cd8-47eb-4b27-a813-731190a1adc2",
   "metadata": {},
   "source": [
    "Есть два основных подхода которые реализованы в sklearn: \n",
    "\n",
    "1. \"Один против всех\" ('ovr'): в общем случае для каждого класса строится бинарная модель, которая пытаестя отделить этот класс от всех остальных. Количество внутенних моделей равно количеству классов. \n",
    "\n",
    "\n",
    "2. \"softmax regression\" ('multinomial'): в основе модели лежит функция softmax, модель принимает на вход вектор признаков одного экземпляра, и выдает вектор вероятностей (по количеству классов) принадлежности экземпляра к классам."
   ]
  },
  {
   "cell_type": "markdown",
   "id": "9defc451-7147-4784-9509-aea497ba204f",
   "metadata": {},
   "source": [
    "2 Какие значения gamma, C, kernel были наилучшими?\n"
   ]
  },
  {
   "cell_type": "code",
   "execution_count": 66,
   "id": "41cdeafa-f58b-4314-b6c2-ca96ad0f3cd8",
   "metadata": {},
   "outputs": [
    {
     "name": "stdout",
     "output_type": "stream",
     "text": [
      "Best parameter values: \n",
      "{'C': 10, 'multi_class': 'ovr', 'penalty': 'l2', 'solver': 'lbfgs'}\n"
     ]
    }
   ],
   "source": [
    "# Для логистической регрессий:\n",
    "print(f\"Best parameter values: \\n{grid_log_model.best_params_}\")"
   ]
  },
  {
   "cell_type": "code",
   "execution_count": 67,
   "id": "7463d078-edb5-4d5e-babe-f04f09e33e97",
   "metadata": {},
   "outputs": [
    {
     "name": "stdout",
     "output_type": "stream",
     "text": [
      "Best parameter values: \n",
      "{'C': 100, 'gamma': 0.001, 'kernel': 'linear'}\n"
     ]
    }
   ],
   "source": [
    "# Для SVC:\n",
    "print(f\"Best parameter values: \\n{grid_svc_model.best_params_}\")"
   ]
  },
  {
   "cell_type": "markdown",
   "id": "d27e531c-3d8a-4551-b82e-6b81595d67be",
   "metadata": {},
   "source": [
    "# Summary:"
   ]
  },
  {
   "cell_type": "markdown",
   "id": "1779050c-3972-4995-84b4-b1bea82a897f",
   "metadata": {},
   "source": [
    "В данной работе использовали модели LogisticRegression и SVC для задачи мультиклассовой классификации (dataset iris). Также применили Gridsearch для настройки параметров модели. На данной наборе данных не получилось улучшить оценку модели за счет подбора параметров, но на других наборах это должно дать значительное улучшение модели."
   ]
  },
  {
   "cell_type": "code",
   "execution_count": 68,
   "id": "dde2c2cf-b420-456d-b57b-28422c8a5a98",
   "metadata": {},
   "outputs": [
    {
     "name": "stdout",
     "output_type": "stream",
     "text": [
      "Accuracy Base Log Model: \n",
      "0.9111111111111111\n",
      "Accuracy Grid Log Model: \n",
      "0.9111111111111111\n",
      "Accuracy Base SVC Model: \n",
      "0.9333333333333333\n",
      "Accuracy Grid SVC Model: \n",
      "0.9333333333333333\n"
     ]
    }
   ],
   "source": [
    "# Результаты accuracy для построенных моделей:\n",
    "\n",
    "print(f\"Accuracy Base Log Model: \\n{accuracy_score(y_test, base_log_y_pred)}\")\n",
    "print(f\"Accuracy Grid Log Model: \\n{accuracy_score(y_test, grid_log_y_pred)}\")\n",
    "print(f\"Accuracy Base SVC Model: \\n{accuracy_score(y_test, base_SVC_y_pred)}\")\n",
    "print(f\"Accuracy Grid SVC Model: \\n{accuracy_score(y_test, grid_SVC_y_pred)}\")"
   ]
  },
  {
   "cell_type": "markdown",
   "id": "201651ae-6306-4f46-b719-502931059988",
   "metadata": {},
   "source": [
    "Лучшие результаты получаются при использовании модели SVM (особенно метрика AUC)"
   ]
  },
  {
   "cell_type": "markdown",
   "id": "4e01ec83-5794-46c9-a3a0-f86935528b08",
   "metadata": {},
   "source": [
    "Note: При изменений значении random_state, test_size в train_test_split очень сильно меняются значения точности полученных моделей от 0.80 (увеличение test size до 30%) до 0.98 (уменьшение test size до 10%), как на base так и grid моделях. Для test_size это еще объяснимо (модель получает больше данных для обучения и точность выше). С random_state accuracy при постоянном test_size, может как увеличиваться так и уменьшаться, особенно сильно влияние на auc в Log Model."
   ]
  }
 ],
 "metadata": {
  "kernelspec": {
   "display_name": "Python 3 (ipykernel)",
   "language": "python",
   "name": "python3"
  },
  "language_info": {
   "codemirror_mode": {
    "name": "ipython",
    "version": 3
   },
   "file_extension": ".py",
   "mimetype": "text/x-python",
   "name": "python",
   "nbconvert_exporter": "python",
   "pygments_lexer": "ipython3",
   "version": "3.7.9"
  },
  "toc-autonumbering": true,
  "toc-showcode": false,
  "toc-showmarkdowntxt": false
 },
 "nbformat": 4,
 "nbformat_minor": 5
}
