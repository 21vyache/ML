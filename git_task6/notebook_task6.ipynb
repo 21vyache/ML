{
 "cells": [
  {
   "cell_type": "markdown",
   "id": "65c75a5d-f9f9-49a0-8111-75b400da7e55",
   "metadata": {},
   "source": [
    "ДЗ 6. Multivariate linear regression\n",
    "\n",
    "1. Предсказать цену машины по исходным данным.\n",
    "2. Сделать анализ колонок, посмотреть сколько уникальных значений, сколько пропущенных значений, все ли значения валидны.\n",
    "3. Использовать разбиение данных: 70% на тренировочные, 30% на данные для теста.\n",
    "4. Определить какие колонки и как влияют на результат. Нужны ли нам все колонки из этого датасета?\n",
    "5. Построить графики, показывающие зависимость года выпуска машины и её цены.\n",
    "6. Метрикой выбрать RMSE.\n",
    "\n",
    "Опционально на выбор:\n",
    "1.\tПопробовать добавить новые признаки в модель (полиномиальные признаки, комбинации колонок). Посмотреть как это влияет на финальную метрику.\n",
    "2.\tПостроить матрицу корреляций. Что вы можете по ней сказать?\n",
    "3. Попробовать One-hot encoding на категориальные признаки. Описать выводы - стало ли лучше? Почему?"
   ]
  },
  {
   "cell_type": "code",
   "execution_count": 1,
   "id": "b57a9927-ad5c-40a7-b93e-eb7637d50fbf",
   "metadata": {},
   "outputs": [],
   "source": [
    "# Import section\n",
    "import numpy as np\n",
    "import pandas as pd\n",
    "import matplotlib.pyplot as plt\n",
    "import seaborn as sns\n",
    "\n",
    "from sklearn.model_selection import train_test_split\n",
    "from sklearn.linear_model import LinearRegression\n",
    "\n",
    "from sklearn import metrics\n",
    "\n",
    "%matplotlib inline"
   ]
  },
  {
   "cell_type": "markdown",
   "id": "57187c04-89de-4be4-a490-3f1d17fe5e68",
   "metadata": {},
   "source": [
    "### -Load the data"
   ]
  },
  {
   "cell_type": "markdown",
   "id": "a9970c31-3e30-4040-b608-5f08c96129b6",
   "metadata": {},
   "source": [
    "Данные содержат следующие столбцы:\n",
    "\n",
    "* Price   : Розничная цена\n",
    "* Year    : Год выпуска\n",
    "* Mileage : Пробег в милях\n",
    "* City    : Город, в котором продается авто\n",
    "* State   : Штат\t\n",
    "* Vin     : Идентификационный номер транспортного средства\n",
    "* Make    : Производитель авто\n",
    "* Model   : Модель авто"
   ]
  },
  {
   "cell_type": "code",
   "execution_count": 2,
   "id": "3d807dfd-b104-4a10-8c87-740f1f463080",
   "metadata": {},
   "outputs": [],
   "source": [
    "# Read in the true_car_listings_prepeared.csv file as a DataFrame called car.\n",
    "car = pd.read_csv(\"true_car_listings_prepeared.csv\")"
   ]
  },
  {
   "cell_type": "markdown",
   "id": "cf753ab4-1924-4536-9f00-701e978f14e2",
   "metadata": {},
   "source": [
    "### -Data analysis and processing\n"
   ]
  },
  {
   "cell_type": "code",
   "execution_count": 3,
   "id": "1776c4cb-fe80-40dd-ae66-066d35400ba6",
   "metadata": {},
   "outputs": [
    {
     "data": {
      "text/html": [
       "<div>\n",
       "<style scoped>\n",
       "    .dataframe tbody tr th:only-of-type {\n",
       "        vertical-align: middle;\n",
       "    }\n",
       "\n",
       "    .dataframe tbody tr th {\n",
       "        vertical-align: top;\n",
       "    }\n",
       "\n",
       "    .dataframe thead th {\n",
       "        text-align: right;\n",
       "    }\n",
       "</style>\n",
       "<table border=\"1\" class=\"dataframe\">\n",
       "  <thead>\n",
       "    <tr style=\"text-align: right;\">\n",
       "      <th></th>\n",
       "      <th>Price</th>\n",
       "      <th>Year</th>\n",
       "      <th>Mileage</th>\n",
       "      <th>City</th>\n",
       "      <th>State</th>\n",
       "      <th>Vin</th>\n",
       "      <th>Make</th>\n",
       "      <th>Model</th>\n",
       "    </tr>\n",
       "  </thead>\n",
       "  <tbody>\n",
       "    <tr>\n",
       "      <th>0</th>\n",
       "      <td>8995</td>\n",
       "      <td>2014</td>\n",
       "      <td>35725.0</td>\n",
       "      <td>El Paso</td>\n",
       "      <td>TX</td>\n",
       "      <td>19VDE2E53EE000083</td>\n",
       "      <td>Acura</td>\n",
       "      <td>ILX6-Speed</td>\n",
       "    </tr>\n",
       "    <tr>\n",
       "      <th>1</th>\n",
       "      <td>10888</td>\n",
       "      <td>2013</td>\n",
       "      <td>NaN</td>\n",
       "      <td>Long Island City</td>\n",
       "      <td>NY</td>\n",
       "      <td>19VDE1F52DE012636</td>\n",
       "      <td>Acura</td>\n",
       "      <td>ILX5-Speed</td>\n",
       "    </tr>\n",
       "    <tr>\n",
       "      <th>2</th>\n",
       "      <td>8995</td>\n",
       "      <td>2013</td>\n",
       "      <td>48851.0</td>\n",
       "      <td>El Paso</td>\n",
       "      <td>TX</td>\n",
       "      <td>19VDE2E52DE000025</td>\n",
       "      <td>Acura</td>\n",
       "      <td>ILX6-Speed</td>\n",
       "    </tr>\n",
       "    <tr>\n",
       "      <th>3</th>\n",
       "      <td>10999</td>\n",
       "      <td>2014</td>\n",
       "      <td>39922.0</td>\n",
       "      <td>Windsor</td>\n",
       "      <td>CO</td>\n",
       "      <td>19VDE1F71EE003817</td>\n",
       "      <td>Acura</td>\n",
       "      <td>ILX5-Speed</td>\n",
       "    </tr>\n",
       "    <tr>\n",
       "      <th>4</th>\n",
       "      <td>0</td>\n",
       "      <td>2016</td>\n",
       "      <td>NaN</td>\n",
       "      <td>Lindon</td>\n",
       "      <td>UT</td>\n",
       "      <td>19UDE2F32GA001284</td>\n",
       "      <td>Acura</td>\n",
       "      <td>ILXAutomatic</td>\n",
       "    </tr>\n",
       "  </tbody>\n",
       "</table>\n",
       "</div>"
      ],
      "text/plain": [
       "   Price  Year  Mileage              City State                Vin   Make  \\\n",
       "0   8995  2014  35725.0           El Paso    TX  19VDE2E53EE000083  Acura   \n",
       "1  10888  2013      NaN  Long Island City    NY  19VDE1F52DE012636  Acura   \n",
       "2   8995  2013  48851.0           El Paso    TX  19VDE2E52DE000025  Acura   \n",
       "3  10999  2014  39922.0           Windsor    CO  19VDE1F71EE003817  Acura   \n",
       "4      0  2016      NaN            Lindon    UT  19UDE2F32GA001284  Acura   \n",
       "\n",
       "          Model  \n",
       "0    ILX6-Speed  \n",
       "1    ILX5-Speed  \n",
       "2    ILX6-Speed  \n",
       "3    ILX5-Speed  \n",
       "4  ILXAutomatic  "
      ]
     },
     "execution_count": 3,
     "metadata": {},
     "output_type": "execute_result"
    }
   ],
   "source": [
    "# Начало DataFrame car\n",
    "car.head()"
   ]
  },
  {
   "cell_type": "code",
   "execution_count": 4,
   "id": "45512186-a487-43f1-970c-08c498be5ddf",
   "metadata": {},
   "outputs": [
    {
     "name": "stdout",
     "output_type": "stream",
     "text": [
      "<class 'pandas.core.frame.DataFrame'>\n",
      "RangeIndex: 852122 entries, 0 to 852121\n",
      "Data columns (total 8 columns):\n",
      " #   Column   Non-Null Count   Dtype  \n",
      "---  ------   --------------   -----  \n",
      " 0   Price    852122 non-null  int64  \n",
      " 1   Year     852122 non-null  int64  \n",
      " 2   Mileage  731179 non-null  float64\n",
      " 3   City     852122 non-null  object \n",
      " 4   State    852122 non-null  object \n",
      " 5   Vin      852122 non-null  object \n",
      " 6   Make     852122 non-null  object \n",
      " 7   Model    775000 non-null  object \n",
      "dtypes: float64(1), int64(2), object(5)\n",
      "memory usage: 52.0+ MB\n"
     ]
    }
   ],
   "source": [
    "# Общая информация\n",
    "car.info()\n",
    "\n",
    "# обшее количество колонок - 8\n",
    "# количество сэмплов/строк - 852122\n",
    "# колонки Price-Year-Mileage - имеют числовой тип данных"
   ]
  },
  {
   "cell_type": "code",
   "execution_count": 5,
   "id": "a326566c-94c6-4197-8306-4e3f0ca11121",
   "metadata": {},
   "outputs": [
    {
     "data": {
      "text/plain": [
       "852122"
      ]
     },
     "execution_count": 5,
     "metadata": {},
     "output_type": "execute_result"
    }
   ],
   "source": [
    "len(car)"
   ]
  },
  {
   "cell_type": "code",
   "execution_count": 6,
   "id": "cd4df4ba-4c7a-4861-81d0-3aff1884c7b3",
   "metadata": {},
   "outputs": [
    {
     "data": {
      "text/plain": [
       "Index(['Price', 'Year', 'Mileage', 'City', 'State', 'Vin', 'Make', 'Model'], dtype='object')"
      ]
     },
     "execution_count": 6,
     "metadata": {},
     "output_type": "execute_result"
    }
   ],
   "source": [
    "car.columns"
   ]
  },
  {
   "cell_type": "code",
   "execution_count": 7,
   "id": "7ae92aa4-159a-4521-b731-fab77043b15d",
   "metadata": {},
   "outputs": [
    {
     "data": {
      "text/plain": [
       "(852122, 8)"
      ]
     },
     "execution_count": 7,
     "metadata": {},
     "output_type": "execute_result"
    }
   ],
   "source": [
    "car.shape"
   ]
  },
  {
   "cell_type": "code",
   "execution_count": 8,
   "id": "02fa0804-50e7-4ab2-8968-b9f48a9e2ef6",
   "metadata": {},
   "outputs": [
    {
     "data": {
      "text/plain": [
       "Price        int64\n",
       "Year         int64\n",
       "Mileage    float64\n",
       "City        object\n",
       "State       object\n",
       "Vin         object\n",
       "Make        object\n",
       "Model       object\n",
       "dtype: object"
      ]
     },
     "execution_count": 8,
     "metadata": {},
     "output_type": "execute_result"
    }
   ],
   "source": [
    "# Типы данных\n",
    "car.dtypes"
   ]
  },
  {
   "cell_type": "code",
   "execution_count": 9,
   "id": "fba96a6f-503d-4e08-8642-c6f3f4285a8e",
   "metadata": {},
   "outputs": [
    {
     "data": {
      "text/html": [
       "<div>\n",
       "<style scoped>\n",
       "    .dataframe tbody tr th:only-of-type {\n",
       "        vertical-align: middle;\n",
       "    }\n",
       "\n",
       "    .dataframe tbody tr th {\n",
       "        vertical-align: top;\n",
       "    }\n",
       "\n",
       "    .dataframe thead th {\n",
       "        text-align: right;\n",
       "    }\n",
       "</style>\n",
       "<table border=\"1\" class=\"dataframe\">\n",
       "  <thead>\n",
       "    <tr style=\"text-align: right;\">\n",
       "      <th></th>\n",
       "      <th>Price</th>\n",
       "      <th>Year</th>\n",
       "      <th>Mileage</th>\n",
       "    </tr>\n",
       "  </thead>\n",
       "  <tbody>\n",
       "    <tr>\n",
       "      <th>count</th>\n",
       "      <td>852122.000000</td>\n",
       "      <td>852122.000000</td>\n",
       "      <td>7.311790e+05</td>\n",
       "    </tr>\n",
       "    <tr>\n",
       "      <th>mean</th>\n",
       "      <td>20121.167199</td>\n",
       "      <td>2013.289145</td>\n",
       "      <td>5.251923e+04</td>\n",
       "    </tr>\n",
       "    <tr>\n",
       "      <th>std</th>\n",
       "      <td>14123.100298</td>\n",
       "      <td>3.414987</td>\n",
       "      <td>4.203614e+04</td>\n",
       "    </tr>\n",
       "    <tr>\n",
       "      <th>min</th>\n",
       "      <td>0.000000</td>\n",
       "      <td>1997.000000</td>\n",
       "      <td>5.000000e+00</td>\n",
       "    </tr>\n",
       "    <tr>\n",
       "      <th>25%</th>\n",
       "      <td>11997.000000</td>\n",
       "      <td>2012.000000</td>\n",
       "      <td>2.383600e+04</td>\n",
       "    </tr>\n",
       "    <tr>\n",
       "      <th>50%</th>\n",
       "      <td>17900.000000</td>\n",
       "      <td>2014.000000</td>\n",
       "      <td>4.026500e+04</td>\n",
       "    </tr>\n",
       "    <tr>\n",
       "      <th>75%</th>\n",
       "      <td>26397.000000</td>\n",
       "      <td>2016.000000</td>\n",
       "      <td>7.222700e+04</td>\n",
       "    </tr>\n",
       "    <tr>\n",
       "      <th>max</th>\n",
       "      <td>499500.000000</td>\n",
       "      <td>2018.000000</td>\n",
       "      <td>2.856196e+06</td>\n",
       "    </tr>\n",
       "  </tbody>\n",
       "</table>\n",
       "</div>"
      ],
      "text/plain": [
       "               Price           Year       Mileage\n",
       "count  852122.000000  852122.000000  7.311790e+05\n",
       "mean    20121.167199    2013.289145  5.251923e+04\n",
       "std     14123.100298       3.414987  4.203614e+04\n",
       "min         0.000000    1997.000000  5.000000e+00\n",
       "25%     11997.000000    2012.000000  2.383600e+04\n",
       "50%     17900.000000    2014.000000  4.026500e+04\n",
       "75%     26397.000000    2016.000000  7.222700e+04\n",
       "max    499500.000000    2018.000000  2.856196e+06"
      ]
     },
     "execution_count": 9,
     "metadata": {},
     "output_type": "execute_result"
    }
   ],
   "source": [
    "# Краткая статистика\n",
    "car.describe()\n",
    "\n",
    "# в колонке Price есть 0-е значения, которые следует исправить (удалить или заменить)"
   ]
  },
  {
   "cell_type": "code",
   "execution_count": 10,
   "id": "c21b59c8-fea8-4ab8-adb3-f245c90fa252",
   "metadata": {},
   "outputs": [
    {
     "data": {
      "text/plain": [
       "(array(['El Paso', 'Long Island City', 'Windsor', ..., 'Winslow',\n",
       "        'Bergenfield', 'Belmont'], dtype=object),\n",
       " 2553)"
      ]
     },
     "execution_count": 10,
     "metadata": {},
     "output_type": "execute_result"
    }
   ],
   "source": [
    "# Список городов\n",
    "car[\"City\"].unique(), car[\"City\"].nunique()"
   ]
  },
  {
   "cell_type": "code",
   "execution_count": 11,
   "id": "445f28c0-336b-40a3-93d6-7c91bae6ca6e",
   "metadata": {},
   "outputs": [],
   "source": [
    "# Сделаем обработку данных списка городов и сравним\n",
    "# Используем стиль title()-каждое слово с заглавной буквы, для городов со сдвоенным названием, \n",
    "# и удалим пробелы слева и справа в названии, если есть\n",
    "car[\"City\"] = car[\"City\"].str.lstrip()\n",
    "car[\"City\"] = car[\"City\"].str.rstrip()\n",
    "car[\"City\"] = car[\"City\"].str.title()"
   ]
  },
  {
   "cell_type": "code",
   "execution_count": 12,
   "id": "e1c3a029-44e5-47fb-af8e-85e6c0a148c6",
   "metadata": {},
   "outputs": [
    {
     "data": {
      "text/plain": [
       "(array(['El Paso', 'Long Island City', 'Windsor', ..., 'Winslow',\n",
       "        'Bergenfield', 'Belmont'], dtype=object),\n",
       " 2408)"
      ]
     },
     "execution_count": 12,
     "metadata": {},
     "output_type": "execute_result"
    }
   ],
   "source": [
    "# В результате обработки количество уникальных названии горов уменьшилось с 2553 до 2408\n",
    "# Убрали не валидные данные в car[\"City\"]\n",
    "car[\"City\"].unique(), car[\"City\"].nunique()"
   ]
  },
  {
   "cell_type": "code",
   "execution_count": 13,
   "id": "b564fd81-7730-476d-add1-ae1573f7a844",
   "metadata": {},
   "outputs": [
    {
     "data": {
      "text/plain": [
       "(array([' TX', ' NY', ' CO', ' UT', ' FL', ' CT', ' ID', ' ND', ' CA',\n",
       "        ' NJ', ' OH', ' VA', ' IN', ' AZ', ' OR', ' KS', ' NE', ' MA',\n",
       "        ' MD', ' GA', ' MN', ' HI', ' LA', ' NM', ' IL', ' AL', ' PA',\n",
       "        ' SC', ' NC', ' WA', ' WI', ' OK', ' KY', ' MS', ' MO', ' ME',\n",
       "        ' AR', ' MI', ' NV', ' TN', ' Fl', ' NH', ' DE', ' WV', ' Az',\n",
       "        ' VT', ' SD', ' IA', ' RI', ' ga', ' Oh', ' MT', ' DC', ' AK',\n",
       "        ' Va', ' WY', ' Md', ' Ca', ' Ga'], dtype=object),\n",
       " 59)"
      ]
     },
     "execution_count": 13,
     "metadata": {},
     "output_type": "execute_result"
    }
   ],
   "source": [
    "# Список штатов\n",
    "car[\"State\"].unique(), car[\"State\"].nunique()"
   ]
  },
  {
   "cell_type": "code",
   "execution_count": 14,
   "id": "700162ce-1555-4e03-85ae-0c9496b5ad27",
   "metadata": {},
   "outputs": [],
   "source": [
    "# Проведем теже действия с данными в car[\"State\"]\n",
    "# Используем стиль upper()-вся абривиатура с заглавными,\n",
    "# и удалим пробелы слева и справа в названии\n",
    "car[\"State\"] = car[\"State\"].str.lstrip()\n",
    "car[\"State\"] = car[\"State\"].str.rstrip()\n",
    "car[\"State\"] = car[\"State\"].str.upper()"
   ]
  },
  {
   "cell_type": "code",
   "execution_count": 15,
   "id": "97676379-3b9f-4be0-addc-cc0ee1db091d",
   "metadata": {},
   "outputs": [
    {
     "data": {
      "text/plain": [
       "(array(['TX', 'NY', 'CO', 'UT', 'FL', 'CT', 'ID', 'ND', 'CA', 'NJ', 'OH',\n",
       "        'VA', 'IN', 'AZ', 'OR', 'KS', 'NE', 'MA', 'MD', 'GA', 'MN', 'HI',\n",
       "        'LA', 'NM', 'IL', 'AL', 'PA', 'SC', 'NC', 'WA', 'WI', 'OK', 'KY',\n",
       "        'MS', 'MO', 'ME', 'AR', 'MI', 'NV', 'TN', 'NH', 'DE', 'WV', 'VT',\n",
       "        'SD', 'IA', 'RI', 'MT', 'DC', 'AK', 'WY'], dtype=object),\n",
       " 51)"
      ]
     },
     "execution_count": 15,
     "metadata": {},
     "output_type": "execute_result"
    }
   ],
   "source": [
    "# В результате обработки количество уникальных названии штатов уменьшилось с 59 до 51\n",
    "# Убрали не валидные данные в car[\"State\"]\n",
    "car[\"State\"].unique(), car[\"State\"].nunique()"
   ]
  },
  {
   "cell_type": "code",
   "execution_count": 16,
   "id": "126681bb-3856-41c3-97ac-01186f2181a8",
   "metadata": {},
   "outputs": [
    {
     "data": {
      "text/plain": [
       "(array(['Acura', 'Alfa', 'AM', 'Aston', 'Audi', 'Bentley', 'BMW', 'Buick',\n",
       "        'Cadillac', 'Chevrolet', 'Chrysler', 'Dodge', 'Ferrari', 'FIAT',\n",
       "        'Fisker', 'Ford', 'Freightliner', 'Genesis', 'Geo', 'GMC', 'Honda',\n",
       "        'HUMMER', 'Hyundai', 'INFINITI', 'Isuzu', 'Jaguar', 'Jeep', 'Kia',\n",
       "        'Lamborghini', 'Land', 'Lexus', 'Lincoln', 'Lotus', 'Maserati',\n",
       "        'Maybach', 'Mazda', 'McLaren', 'Mercedes-Benz', 'Mercury', 'MINI',\n",
       "        'Mitsubishi', 'Nissan', 'Oldsmobile', 'Plymouth', 'Pontiac',\n",
       "        'Porsche', 'Ram', 'Rolls-Royce', 'Saab', 'Saturn', 'Scion',\n",
       "        'smart', 'Subaru', 'Suzuki', 'Tesla', 'Toyota', 'Volkswagen',\n",
       "        'Volvo'], dtype=object),\n",
       " 58)"
      ]
     },
     "execution_count": 16,
     "metadata": {},
     "output_type": "execute_result"
    }
   ],
   "source": [
    "# Производитель авто\n",
    "car[\"Make\"].unique(), car[\"Make\"].nunique()"
   ]
  },
  {
   "cell_type": "code",
   "execution_count": 17,
   "id": "afb02975-8387-42f8-9601-c2baf596577c",
   "metadata": {},
   "outputs": [],
   "source": [
    "# Используем стиль title()-каждое слово с заглавной буквы, для производителей со сдвоенным названием, \n",
    "# и удалим пробелы слева и справа в названии\n",
    "car[\"Make\"] = car[\"Make\"].str.lstrip()\n",
    "car[\"Make\"] = car[\"Make\"].str.rstrip()\n",
    "car[\"Make\"] = car[\"Make\"].str.title()"
   ]
  },
  {
   "cell_type": "code",
   "execution_count": 18,
   "id": "bbeb9baf-e9c3-4c7b-92c8-d554e11587c6",
   "metadata": {},
   "outputs": [
    {
     "data": {
      "text/plain": [
       "(array(['Acura', 'Alfa', 'Am', 'Aston', 'Audi', 'Bentley', 'Bmw', 'Buick',\n",
       "        'Cadillac', 'Chevrolet', 'Chrysler', 'Dodge', 'Ferrari', 'Fiat',\n",
       "        'Fisker', 'Ford', 'Freightliner', 'Genesis', 'Geo', 'Gmc', 'Honda',\n",
       "        'Hummer', 'Hyundai', 'Infiniti', 'Isuzu', 'Jaguar', 'Jeep', 'Kia',\n",
       "        'Lamborghini', 'Land', 'Lexus', 'Lincoln', 'Lotus', 'Maserati',\n",
       "        'Maybach', 'Mazda', 'Mclaren', 'Mercedes-Benz', 'Mercury', 'Mini',\n",
       "        'Mitsubishi', 'Nissan', 'Oldsmobile', 'Plymouth', 'Pontiac',\n",
       "        'Porsche', 'Ram', 'Rolls-Royce', 'Saab', 'Saturn', 'Scion',\n",
       "        'Smart', 'Subaru', 'Suzuki', 'Tesla', 'Toyota', 'Volkswagen',\n",
       "        'Volvo'], dtype=object),\n",
       " 58)"
      ]
     },
     "execution_count": 18,
     "metadata": {},
     "output_type": "execute_result"
    }
   ],
   "source": [
    "# В данные в столбце car[\"Make\"] были правильны (58 проиводителей авто), но зато привели к общему виду\n",
    "car[\"Make\"].unique(), car[\"Make\"].nunique()"
   ]
  },
  {
   "cell_type": "code",
   "execution_count": 19,
   "id": "84f27552-7795-4632-9fd7-bf9384d417de",
   "metadata": {},
   "outputs": [
    {
     "data": {
      "text/plain": [
       "(array(['ILX6-Speed', 'ILX5-Speed', 'ILXAutomatic', ..., 'S90T6', 'V90',\n",
       "        'XC90T8'], dtype=object),\n",
       " 2694)"
      ]
     },
     "execution_count": 19,
     "metadata": {},
     "output_type": "execute_result"
    }
   ],
   "source": [
    "# Модель\n",
    "car[\"Model\"].unique(), car[\"Model\"].nunique(), "
   ]
  },
  {
   "cell_type": "code",
   "execution_count": 20,
   "id": "680e9990-0f4b-43f2-8ab3-01364d7e9586",
   "metadata": {},
   "outputs": [],
   "source": [
    "# Используем стиль title()-каждое слово с заглавной буквы, для марак авто со сдвоенным названием, \n",
    "# и удалим пробелы слева и справа в названии\n",
    "car[\"Model\"] = car[\"Model\"].str.lstrip()\n",
    "car[\"Model\"] = car[\"Model\"].str.rstrip()\n",
    "car[\"Model\"] = car[\"Model\"].str.title()"
   ]
  },
  {
   "cell_type": "code",
   "execution_count": 21,
   "id": "bcb24a3e-b3e9-416e-9dd9-919e7badc9ef",
   "metadata": {},
   "outputs": [
    {
     "data": {
      "text/plain": [
       "(array(['Ilx6-Speed', 'Ilx5-Speed', 'Ilxautomatic', ..., 'S90T6', 'V90',\n",
       "        'Xc90T8'], dtype=object),\n",
       " 2660)"
      ]
     },
     "execution_count": 21,
     "metadata": {},
     "output_type": "execute_result"
    }
   ],
   "source": [
    "# Количество моделей авто изменилось с 2694 до 2660 (34 невадныех значения),\n",
    "# и отсуствуют 77122 значении\n",
    "car[\"Model\"].unique(), car[\"Model\"].nunique(), "
   ]
  },
  {
   "cell_type": "code",
   "execution_count": 22,
   "id": "3baeb37c-338b-474c-bd36-5b6fc9b10a93",
   "metadata": {},
   "outputs": [
    {
     "data": {
      "text/plain": [
       "(array(['19VDE2E53EE000083', '19VDE1F52DE012636', '19VDE2E52DE000025', ...,\n",
       "        'YV4A22PL4G1000868', 'YV4A22NLXH1006162', 'YV4BC0ZX1H1109845'],\n",
       "       dtype=object),\n",
       " 852075,\n",
       " 852122)"
      ]
     },
     "execution_count": 22,
     "metadata": {},
     "output_type": "execute_result"
    }
   ],
   "source": [
    "# Идентификационный номер транспортного средства\n",
    "car[\"Vin\"].unique(), car[\"Vin\"].nunique(), len(car[\"Vin\"])"
   ]
  },
  {
   "cell_type": "code",
   "execution_count": 23,
   "id": "c641d425-92dd-4e07-ac7a-bf6dd7ad33ed",
   "metadata": {},
   "outputs": [],
   "source": [
    "# Используем стиль Upper()-все значения VIN заглавными\n",
    "# и удалим пробелы слева и справа в названии\n",
    "car[\"Vin\"] = car[\"Vin\"].str.lstrip()\n",
    "car[\"Vin\"] = car[\"Vin\"].str.rstrip()\n",
    "car[\"Vin\"] = car[\"Vin\"].str.upper()"
   ]
  },
  {
   "cell_type": "code",
   "execution_count": 24,
   "id": "07ca00fa-5ea7-49f3-9aaa-f563b99b1ead",
   "metadata": {},
   "outputs": [
    {
     "data": {
      "text/plain": [
       "(array(['19VDE2E53EE000083', '19VDE1F52DE012636', '19VDE2E52DE000025', ...,\n",
       "        'YV4A22PL4G1000868', 'YV4A22NLXH1006162', 'YV4BC0ZX1H1109845'],\n",
       "       dtype=object),\n",
       " 852075,\n",
       " 852122)"
      ]
     },
     "execution_count": 24,
     "metadata": {},
     "output_type": "execute_result"
    }
   ],
   "source": [
    "# Количество значении не поменялось, \n",
    "car[\"Vin\"].unique(), car[\"Vin\"].nunique(), len(car[\"Vin\"])"
   ]
  },
  {
   "cell_type": "code",
   "execution_count": 25,
   "id": "320bbfa2-a64c-43df-8b3b-afc4789e84d7",
   "metadata": {},
   "outputs": [
    {
     "data": {
      "text/plain": [
       "-47"
      ]
     },
     "execution_count": 25,
     "metadata": {},
     "output_type": "execute_result"
    }
   ],
   "source": [
    "# но имеется повторяющиеся значения - 47, оставим как есть\n",
    "852075 - 852122"
   ]
  },
  {
   "cell_type": "code",
   "execution_count": null,
   "id": "6df31ec4-4c93-489a-9c75-34b4c97f0cd1",
   "metadata": {},
   "outputs": [],
   "source": []
  },
  {
   "cell_type": "code",
   "execution_count": 26,
   "id": "a38cf53e-90fc-4297-9358-3a720c309605",
   "metadata": {},
   "outputs": [
    {
     "data": {
      "text/plain": [
       "(array([2014, 2013, 2016, 2012, 2009, 2015, 2010, 2011, 2007, 2006, 2008,\n",
       "        2004, 2017, 2005, 2003, 2002, 1999, 2001, 2000, 1998, 2018, 1997],\n",
       "       dtype=int64),\n",
       " 22)"
      ]
     },
     "execution_count": 26,
     "metadata": {},
     "output_type": "execute_result"
    }
   ],
   "source": [
    "# Список годов выпуска машин\n",
    "# Года выпусков машин лежат в интервале с 1997 - 2018\n",
    "car[\"Year\"].unique(), car[\"Year\"].nunique()"
   ]
  },
  {
   "cell_type": "code",
   "execution_count": null,
   "id": "14ed0d1c-5f40-4a94-a8c7-a14dcc34b87f",
   "metadata": {},
   "outputs": [],
   "source": []
  },
  {
   "cell_type": "code",
   "execution_count": 27,
   "id": "902926b8-62e7-4576-b865-5ca4afeb0f4c",
   "metadata": {},
   "outputs": [
    {
     "data": {
      "text/plain": [
       "53308"
      ]
     },
     "execution_count": 27,
     "metadata": {},
     "output_type": "execute_result"
    }
   ],
   "source": [
    "# В столбце \"Price\" имеются 0-е значения в количестве 53308\n",
    "len(car[car[\"Price\"]==0])"
   ]
  },
  {
   "cell_type": "code",
   "execution_count": 28,
   "id": "9f2824bf-b2a1-49bb-b72e-c3cc6499bbf8",
   "metadata": {},
   "outputs": [
    {
     "data": {
      "text/plain": [
       "120943"
      ]
     },
     "execution_count": 28,
     "metadata": {},
     "output_type": "execute_result"
    }
   ],
   "source": [
    "# В столбце \"Mileage\" имеются пропуски в количестве - 120943\n",
    "car[\"Mileage\"].isna().sum()"
   ]
  },
  {
   "cell_type": "code",
   "execution_count": 29,
   "id": "3ae269a4-66e6-42a8-978e-d7b393e3f8e9",
   "metadata": {},
   "outputs": [],
   "source": [
    "# В столбцах \"Price\" и \"Mileage\", которые будем использовать в построении моделей имеются не валидные данные\n",
    "# Воспользуемся двумя методами:\n",
    "# 1. Удалим все не валидные данные (dropna())\n",
    "# 2. Заменим все не валидные данные (fillna())\n",
    "# Сравним матрицы корреляции и выберем оптимальный вариант"
   ]
  },
  {
   "cell_type": "code",
   "execution_count": null,
   "id": "d5098f3a-1fc6-46b8-949f-a3e2ce9427a1",
   "metadata": {},
   "outputs": [],
   "source": []
  },
  {
   "cell_type": "code",
   "execution_count": 30,
   "id": "5ba20a25-6d91-4301-a172-c2083517e56b",
   "metadata": {},
   "outputs": [
    {
     "data": {
      "text/html": [
       "<div>\n",
       "<style scoped>\n",
       "    .dataframe tbody tr th:only-of-type {\n",
       "        vertical-align: middle;\n",
       "    }\n",
       "\n",
       "    .dataframe tbody tr th {\n",
       "        vertical-align: top;\n",
       "    }\n",
       "\n",
       "    .dataframe thead th {\n",
       "        text-align: right;\n",
       "    }\n",
       "</style>\n",
       "<table border=\"1\" class=\"dataframe\">\n",
       "  <thead>\n",
       "    <tr style=\"text-align: right;\">\n",
       "      <th></th>\n",
       "      <th>Price</th>\n",
       "      <th>Year</th>\n",
       "      <th>Mileage</th>\n",
       "    </tr>\n",
       "  </thead>\n",
       "  <tbody>\n",
       "    <tr>\n",
       "      <th>Price</th>\n",
       "      <td>1.000000</td>\n",
       "      <td>0.362441</td>\n",
       "      <td>-0.381000</td>\n",
       "    </tr>\n",
       "    <tr>\n",
       "      <th>Year</th>\n",
       "      <td>0.362441</td>\n",
       "      <td>1.000000</td>\n",
       "      <td>-0.764475</td>\n",
       "    </tr>\n",
       "    <tr>\n",
       "      <th>Mileage</th>\n",
       "      <td>-0.381000</td>\n",
       "      <td>-0.764475</td>\n",
       "      <td>1.000000</td>\n",
       "    </tr>\n",
       "  </tbody>\n",
       "</table>\n",
       "</div>"
      ],
      "text/plain": [
       "            Price      Year   Mileage\n",
       "Price    1.000000  0.362441 -0.381000\n",
       "Year     0.362441  1.000000 -0.764475\n",
       "Mileage -0.381000 -0.764475  1.000000"
      ]
     },
     "execution_count": 30,
     "metadata": {},
     "output_type": "execute_result"
    }
   ],
   "source": [
    "# Построим матрицу корреляции по исходным данным\n",
    "# Цена зависит от года производства авто и пробега\n",
    "car.corr()\n",
    "\n",
    "# Stage 1\n",
    "# Year 0.362441 \tMileage -0.381000"
   ]
  },
  {
   "cell_type": "code",
   "execution_count": 31,
   "id": "0aeb18c4-7d31-4b48-95aa-1abbe478e5b6",
   "metadata": {},
   "outputs": [],
   "source": [
    "# Скопируем датасет, и удалим не валидные данные в столбцах \"Price\" и \"Mileage\" "
   ]
  },
  {
   "cell_type": "code",
   "execution_count": 32,
   "id": "5c2069ad-75a3-4375-b245-9d7b1f5c9bea",
   "metadata": {},
   "outputs": [
    {
     "data": {
      "text/html": [
       "<div>\n",
       "<style scoped>\n",
       "    .dataframe tbody tr th:only-of-type {\n",
       "        vertical-align: middle;\n",
       "    }\n",
       "\n",
       "    .dataframe tbody tr th {\n",
       "        vertical-align: top;\n",
       "    }\n",
       "\n",
       "    .dataframe thead th {\n",
       "        text-align: right;\n",
       "    }\n",
       "</style>\n",
       "<table border=\"1\" class=\"dataframe\">\n",
       "  <thead>\n",
       "    <tr style=\"text-align: right;\">\n",
       "      <th></th>\n",
       "      <th>Price</th>\n",
       "      <th>Year</th>\n",
       "      <th>Mileage</th>\n",
       "      <th>City</th>\n",
       "      <th>State</th>\n",
       "      <th>Vin</th>\n",
       "      <th>Make</th>\n",
       "      <th>Model</th>\n",
       "    </tr>\n",
       "  </thead>\n",
       "  <tbody>\n",
       "    <tr>\n",
       "      <th>0</th>\n",
       "      <td>8995</td>\n",
       "      <td>2014</td>\n",
       "      <td>35725.0</td>\n",
       "      <td>El Paso</td>\n",
       "      <td>TX</td>\n",
       "      <td>19VDE2E53EE000083</td>\n",
       "      <td>Acura</td>\n",
       "      <td>Ilx6-Speed</td>\n",
       "    </tr>\n",
       "    <tr>\n",
       "      <th>1</th>\n",
       "      <td>10888</td>\n",
       "      <td>2013</td>\n",
       "      <td>NaN</td>\n",
       "      <td>Long Island City</td>\n",
       "      <td>NY</td>\n",
       "      <td>19VDE1F52DE012636</td>\n",
       "      <td>Acura</td>\n",
       "      <td>Ilx5-Speed</td>\n",
       "    </tr>\n",
       "    <tr>\n",
       "      <th>2</th>\n",
       "      <td>8995</td>\n",
       "      <td>2013</td>\n",
       "      <td>48851.0</td>\n",
       "      <td>El Paso</td>\n",
       "      <td>TX</td>\n",
       "      <td>19VDE2E52DE000025</td>\n",
       "      <td>Acura</td>\n",
       "      <td>Ilx6-Speed</td>\n",
       "    </tr>\n",
       "    <tr>\n",
       "      <th>3</th>\n",
       "      <td>10999</td>\n",
       "      <td>2014</td>\n",
       "      <td>39922.0</td>\n",
       "      <td>Windsor</td>\n",
       "      <td>CO</td>\n",
       "      <td>19VDE1F71EE003817</td>\n",
       "      <td>Acura</td>\n",
       "      <td>Ilx5-Speed</td>\n",
       "    </tr>\n",
       "    <tr>\n",
       "      <th>4</th>\n",
       "      <td>0</td>\n",
       "      <td>2016</td>\n",
       "      <td>NaN</td>\n",
       "      <td>Lindon</td>\n",
       "      <td>UT</td>\n",
       "      <td>19UDE2F32GA001284</td>\n",
       "      <td>Acura</td>\n",
       "      <td>Ilxautomatic</td>\n",
       "    </tr>\n",
       "  </tbody>\n",
       "</table>\n",
       "</div>"
      ],
      "text/plain": [
       "   Price  Year  Mileage              City State                Vin   Make  \\\n",
       "0   8995  2014  35725.0           El Paso    TX  19VDE2E53EE000083  Acura   \n",
       "1  10888  2013      NaN  Long Island City    NY  19VDE1F52DE012636  Acura   \n",
       "2   8995  2013  48851.0           El Paso    TX  19VDE2E52DE000025  Acura   \n",
       "3  10999  2014  39922.0           Windsor    CO  19VDE1F71EE003817  Acura   \n",
       "4      0  2016      NaN            Lindon    UT  19UDE2F32GA001284  Acura   \n",
       "\n",
       "          Model  \n",
       "0    Ilx6-Speed  \n",
       "1    Ilx5-Speed  \n",
       "2    Ilx6-Speed  \n",
       "3    Ilx5-Speed  \n",
       "4  Ilxautomatic  "
      ]
     },
     "execution_count": 32,
     "metadata": {},
     "output_type": "execute_result"
    }
   ],
   "source": [
    "v1_car = car.copy(deep=True)\n",
    "v1_car.head()"
   ]
  },
  {
   "cell_type": "code",
   "execution_count": 33,
   "id": "fa0881eb-b55f-4684-92d7-57f13e2f5abd",
   "metadata": {},
   "outputs": [],
   "source": [
    "# Удалим NaN - значения для \"Mileage\"\n",
    "v1_car.dropna(subset = [\"Mileage\"], inplace=True)"
   ]
  },
  {
   "cell_type": "code",
   "execution_count": 34,
   "id": "63fe23a9-927e-45f5-9829-5f943fb67cf0",
   "metadata": {},
   "outputs": [
    {
     "data": {
      "text/plain": [
       "0"
      ]
     },
     "execution_count": 34,
     "metadata": {},
     "output_type": "execute_result"
    }
   ],
   "source": [
    "# Проверяем на NaN\n",
    "v1_car[\"Mileage\"].isna().sum()"
   ]
  },
  {
   "cell_type": "code",
   "execution_count": 35,
   "id": "960f6288-fe93-453a-b00e-5259ebba183d",
   "metadata": {},
   "outputs": [],
   "source": [
    "# Удалим 0-e - значения для \"Price\"\n",
    "v1_car = v1_car[v1_car.Price != 0]"
   ]
  },
  {
   "cell_type": "code",
   "execution_count": 36,
   "id": "c58b7fd3-dc77-4b61-926a-011fcafe7aed",
   "metadata": {},
   "outputs": [
    {
     "data": {
      "text/html": [
       "<div>\n",
       "<style scoped>\n",
       "    .dataframe tbody tr th:only-of-type {\n",
       "        vertical-align: middle;\n",
       "    }\n",
       "\n",
       "    .dataframe tbody tr th {\n",
       "        vertical-align: top;\n",
       "    }\n",
       "\n",
       "    .dataframe thead th {\n",
       "        text-align: right;\n",
       "    }\n",
       "</style>\n",
       "<table border=\"1\" class=\"dataframe\">\n",
       "  <thead>\n",
       "    <tr style=\"text-align: right;\">\n",
       "      <th></th>\n",
       "      <th>Price</th>\n",
       "      <th>Year</th>\n",
       "      <th>Mileage</th>\n",
       "    </tr>\n",
       "  </thead>\n",
       "  <tbody>\n",
       "    <tr>\n",
       "      <th>count</th>\n",
       "      <td>685505.00000</td>\n",
       "      <td>685505.000000</td>\n",
       "      <td>6.855050e+05</td>\n",
       "    </tr>\n",
       "    <tr>\n",
       "      <th>mean</th>\n",
       "      <td>21462.72811</td>\n",
       "      <td>2013.290860</td>\n",
       "      <td>5.250190e+04</td>\n",
       "    </tr>\n",
       "    <tr>\n",
       "      <th>std</th>\n",
       "      <td>13540.75804</td>\n",
       "      <td>3.413445</td>\n",
       "      <td>4.198496e+04</td>\n",
       "    </tr>\n",
       "    <tr>\n",
       "      <th>min</th>\n",
       "      <td>1500.00000</td>\n",
       "      <td>1997.000000</td>\n",
       "      <td>5.000000e+00</td>\n",
       "    </tr>\n",
       "    <tr>\n",
       "      <th>25%</th>\n",
       "      <td>13041.00000</td>\n",
       "      <td>2012.000000</td>\n",
       "      <td>2.383500e+04</td>\n",
       "    </tr>\n",
       "    <tr>\n",
       "      <th>50%</th>\n",
       "      <td>18500.00000</td>\n",
       "      <td>2014.000000</td>\n",
       "      <td>4.025000e+04</td>\n",
       "    </tr>\n",
       "    <tr>\n",
       "      <th>75%</th>\n",
       "      <td>26995.00000</td>\n",
       "      <td>2016.000000</td>\n",
       "      <td>7.216800e+04</td>\n",
       "    </tr>\n",
       "    <tr>\n",
       "      <th>max</th>\n",
       "      <td>490000.00000</td>\n",
       "      <td>2018.000000</td>\n",
       "      <td>2.856196e+06</td>\n",
       "    </tr>\n",
       "  </tbody>\n",
       "</table>\n",
       "</div>"
      ],
      "text/plain": [
       "              Price           Year       Mileage\n",
       "count  685505.00000  685505.000000  6.855050e+05\n",
       "mean    21462.72811    2013.290860  5.250190e+04\n",
       "std     13540.75804       3.413445  4.198496e+04\n",
       "min      1500.00000    1997.000000  5.000000e+00\n",
       "25%     13041.00000    2012.000000  2.383500e+04\n",
       "50%     18500.00000    2014.000000  4.025000e+04\n",
       "75%     26995.00000    2016.000000  7.216800e+04\n",
       "max    490000.00000    2018.000000  2.856196e+06"
      ]
     },
     "execution_count": 36,
     "metadata": {},
     "output_type": "execute_result"
    }
   ],
   "source": [
    "# Проверяем что нет 0-х - значении\n",
    "v1_car.describe()"
   ]
  },
  {
   "cell_type": "code",
   "execution_count": 37,
   "id": "fe9bd472-b545-44e1-b3c5-6b2828400bc4",
   "metadata": {},
   "outputs": [
    {
     "data": {
      "text/html": [
       "<div>\n",
       "<style scoped>\n",
       "    .dataframe tbody tr th:only-of-type {\n",
       "        vertical-align: middle;\n",
       "    }\n",
       "\n",
       "    .dataframe tbody tr th {\n",
       "        vertical-align: top;\n",
       "    }\n",
       "\n",
       "    .dataframe thead th {\n",
       "        text-align: right;\n",
       "    }\n",
       "</style>\n",
       "<table border=\"1\" class=\"dataframe\">\n",
       "  <thead>\n",
       "    <tr style=\"text-align: right;\">\n",
       "      <th></th>\n",
       "      <th>Price</th>\n",
       "      <th>Year</th>\n",
       "      <th>Mileage</th>\n",
       "    </tr>\n",
       "  </thead>\n",
       "  <tbody>\n",
       "    <tr>\n",
       "      <th>Price</th>\n",
       "      <td>1.000000</td>\n",
       "      <td>0.402430</td>\n",
       "      <td>-0.423102</td>\n",
       "    </tr>\n",
       "    <tr>\n",
       "      <th>Year</th>\n",
       "      <td>0.402430</td>\n",
       "      <td>1.000000</td>\n",
       "      <td>-0.765412</td>\n",
       "    </tr>\n",
       "    <tr>\n",
       "      <th>Mileage</th>\n",
       "      <td>-0.423102</td>\n",
       "      <td>-0.765412</td>\n",
       "      <td>1.000000</td>\n",
       "    </tr>\n",
       "  </tbody>\n",
       "</table>\n",
       "</div>"
      ],
      "text/plain": [
       "            Price      Year   Mileage\n",
       "Price    1.000000  0.402430 -0.423102\n",
       "Year     0.402430  1.000000 -0.765412\n",
       "Mileage -0.423102 -0.765412  1.000000"
      ]
     },
     "execution_count": 37,
     "metadata": {},
     "output_type": "execute_result"
    }
   ],
   "source": [
    "# Построим матрицу корреляции удалив Nan и 0 значения\n",
    "v1_car.corr()\n",
    "\n",
    "# Stage 2 (Удаление)\n",
    "# Year 0.402430 \tMileage -0.423102"
   ]
  },
  {
   "cell_type": "code",
   "execution_count": null,
   "id": "82efaf9b-249b-4c78-a384-7a2fc218edcd",
   "metadata": {},
   "outputs": [],
   "source": []
  },
  {
   "cell_type": "code",
   "execution_count": 38,
   "id": "5a44d6ee-c8c5-4249-b78b-1394daafcec8",
   "metadata": {},
   "outputs": [],
   "source": [
    "# Скопируем датасет, и заменим не валидные данные в столбцах \"Price\" и \"Mileage\" "
   ]
  },
  {
   "cell_type": "code",
   "execution_count": 39,
   "id": "2babb84a-5c2d-40f9-a3a8-149dfa1a1938",
   "metadata": {},
   "outputs": [
    {
     "data": {
      "text/html": [
       "<div>\n",
       "<style scoped>\n",
       "    .dataframe tbody tr th:only-of-type {\n",
       "        vertical-align: middle;\n",
       "    }\n",
       "\n",
       "    .dataframe tbody tr th {\n",
       "        vertical-align: top;\n",
       "    }\n",
       "\n",
       "    .dataframe thead th {\n",
       "        text-align: right;\n",
       "    }\n",
       "</style>\n",
       "<table border=\"1\" class=\"dataframe\">\n",
       "  <thead>\n",
       "    <tr style=\"text-align: right;\">\n",
       "      <th></th>\n",
       "      <th>Price</th>\n",
       "      <th>Year</th>\n",
       "      <th>Mileage</th>\n",
       "      <th>City</th>\n",
       "      <th>State</th>\n",
       "      <th>Vin</th>\n",
       "      <th>Make</th>\n",
       "      <th>Model</th>\n",
       "    </tr>\n",
       "  </thead>\n",
       "  <tbody>\n",
       "    <tr>\n",
       "      <th>0</th>\n",
       "      <td>8995</td>\n",
       "      <td>2014</td>\n",
       "      <td>35725.0</td>\n",
       "      <td>El Paso</td>\n",
       "      <td>TX</td>\n",
       "      <td>19VDE2E53EE000083</td>\n",
       "      <td>Acura</td>\n",
       "      <td>Ilx6-Speed</td>\n",
       "    </tr>\n",
       "    <tr>\n",
       "      <th>1</th>\n",
       "      <td>10888</td>\n",
       "      <td>2013</td>\n",
       "      <td>NaN</td>\n",
       "      <td>Long Island City</td>\n",
       "      <td>NY</td>\n",
       "      <td>19VDE1F52DE012636</td>\n",
       "      <td>Acura</td>\n",
       "      <td>Ilx5-Speed</td>\n",
       "    </tr>\n",
       "    <tr>\n",
       "      <th>2</th>\n",
       "      <td>8995</td>\n",
       "      <td>2013</td>\n",
       "      <td>48851.0</td>\n",
       "      <td>El Paso</td>\n",
       "      <td>TX</td>\n",
       "      <td>19VDE2E52DE000025</td>\n",
       "      <td>Acura</td>\n",
       "      <td>Ilx6-Speed</td>\n",
       "    </tr>\n",
       "    <tr>\n",
       "      <th>3</th>\n",
       "      <td>10999</td>\n",
       "      <td>2014</td>\n",
       "      <td>39922.0</td>\n",
       "      <td>Windsor</td>\n",
       "      <td>CO</td>\n",
       "      <td>19VDE1F71EE003817</td>\n",
       "      <td>Acura</td>\n",
       "      <td>Ilx5-Speed</td>\n",
       "    </tr>\n",
       "    <tr>\n",
       "      <th>4</th>\n",
       "      <td>0</td>\n",
       "      <td>2016</td>\n",
       "      <td>NaN</td>\n",
       "      <td>Lindon</td>\n",
       "      <td>UT</td>\n",
       "      <td>19UDE2F32GA001284</td>\n",
       "      <td>Acura</td>\n",
       "      <td>Ilxautomatic</td>\n",
       "    </tr>\n",
       "  </tbody>\n",
       "</table>\n",
       "</div>"
      ],
      "text/plain": [
       "   Price  Year  Mileage              City State                Vin   Make  \\\n",
       "0   8995  2014  35725.0           El Paso    TX  19VDE2E53EE000083  Acura   \n",
       "1  10888  2013      NaN  Long Island City    NY  19VDE1F52DE012636  Acura   \n",
       "2   8995  2013  48851.0           El Paso    TX  19VDE2E52DE000025  Acura   \n",
       "3  10999  2014  39922.0           Windsor    CO  19VDE1F71EE003817  Acura   \n",
       "4      0  2016      NaN            Lindon    UT  19UDE2F32GA001284  Acura   \n",
       "\n",
       "          Model  \n",
       "0    Ilx6-Speed  \n",
       "1    Ilx5-Speed  \n",
       "2    Ilx6-Speed  \n",
       "3    Ilx5-Speed  \n",
       "4  Ilxautomatic  "
      ]
     },
     "execution_count": 39,
     "metadata": {},
     "output_type": "execute_result"
    }
   ],
   "source": [
    "v2_car = car.copy(deep=True)\n",
    "v2_car.head()"
   ]
  },
  {
   "cell_type": "code",
   "execution_count": 40,
   "id": "42ab5290-f2a8-4445-9262-21e4dd6d90dd",
   "metadata": {},
   "outputs": [],
   "source": [
    "# Заменим NaN - значения для \"Mileage\" средним значением\n",
    "v2_car['Mileage'] = v2_car['Mileage'].fillna((v2_car['Mileage'].mean()))"
   ]
  },
  {
   "cell_type": "code",
   "execution_count": 41,
   "id": "aeeb021e-9b0e-4f1d-b25a-bef93491053c",
   "metadata": {},
   "outputs": [
    {
     "data": {
      "text/plain": [
       "0"
      ]
     },
     "execution_count": 41,
     "metadata": {},
     "output_type": "execute_result"
    }
   ],
   "source": [
    "# Проверяем на NaN\n",
    "v2_car[\"Mileage\"].isna().sum()"
   ]
  },
  {
   "cell_type": "code",
   "execution_count": 42,
   "id": "ed9cece4-39e4-42ec-a9c1-dd99d50c4265",
   "metadata": {},
   "outputs": [],
   "source": [
    "# Заменим 0-e - значения для \"Price\" средним значением\n",
    "v2_car['Price'].replace(0,v2_car['Price'].mean(axis=0),inplace=True)"
   ]
  },
  {
   "cell_type": "code",
   "execution_count": 43,
   "id": "03d95d35-9e9c-4dd3-ab81-114536d9eb91",
   "metadata": {},
   "outputs": [
    {
     "data": {
      "text/html": [
       "<div>\n",
       "<style scoped>\n",
       "    .dataframe tbody tr th:only-of-type {\n",
       "        vertical-align: middle;\n",
       "    }\n",
       "\n",
       "    .dataframe tbody tr th {\n",
       "        vertical-align: top;\n",
       "    }\n",
       "\n",
       "    .dataframe thead th {\n",
       "        text-align: right;\n",
       "    }\n",
       "</style>\n",
       "<table border=\"1\" class=\"dataframe\">\n",
       "  <thead>\n",
       "    <tr style=\"text-align: right;\">\n",
       "      <th></th>\n",
       "      <th>Price</th>\n",
       "      <th>Year</th>\n",
       "      <th>Mileage</th>\n",
       "    </tr>\n",
       "  </thead>\n",
       "  <tbody>\n",
       "    <tr>\n",
       "      <th>count</th>\n",
       "      <td>685505.00000</td>\n",
       "      <td>685505.000000</td>\n",
       "      <td>6.855050e+05</td>\n",
       "    </tr>\n",
       "    <tr>\n",
       "      <th>mean</th>\n",
       "      <td>21462.72811</td>\n",
       "      <td>2013.290860</td>\n",
       "      <td>5.250190e+04</td>\n",
       "    </tr>\n",
       "    <tr>\n",
       "      <th>std</th>\n",
       "      <td>13540.75804</td>\n",
       "      <td>3.413445</td>\n",
       "      <td>4.198496e+04</td>\n",
       "    </tr>\n",
       "    <tr>\n",
       "      <th>min</th>\n",
       "      <td>1500.00000</td>\n",
       "      <td>1997.000000</td>\n",
       "      <td>5.000000e+00</td>\n",
       "    </tr>\n",
       "    <tr>\n",
       "      <th>25%</th>\n",
       "      <td>13041.00000</td>\n",
       "      <td>2012.000000</td>\n",
       "      <td>2.383500e+04</td>\n",
       "    </tr>\n",
       "    <tr>\n",
       "      <th>50%</th>\n",
       "      <td>18500.00000</td>\n",
       "      <td>2014.000000</td>\n",
       "      <td>4.025000e+04</td>\n",
       "    </tr>\n",
       "    <tr>\n",
       "      <th>75%</th>\n",
       "      <td>26995.00000</td>\n",
       "      <td>2016.000000</td>\n",
       "      <td>7.216800e+04</td>\n",
       "    </tr>\n",
       "    <tr>\n",
       "      <th>max</th>\n",
       "      <td>490000.00000</td>\n",
       "      <td>2018.000000</td>\n",
       "      <td>2.856196e+06</td>\n",
       "    </tr>\n",
       "  </tbody>\n",
       "</table>\n",
       "</div>"
      ],
      "text/plain": [
       "              Price           Year       Mileage\n",
       "count  685505.00000  685505.000000  6.855050e+05\n",
       "mean    21462.72811    2013.290860  5.250190e+04\n",
       "std     13540.75804       3.413445  4.198496e+04\n",
       "min      1500.00000    1997.000000  5.000000e+00\n",
       "25%     13041.00000    2012.000000  2.383500e+04\n",
       "50%     18500.00000    2014.000000  4.025000e+04\n",
       "75%     26995.00000    2016.000000  7.216800e+04\n",
       "max    490000.00000    2018.000000  2.856196e+06"
      ]
     },
     "execution_count": 43,
     "metadata": {},
     "output_type": "execute_result"
    }
   ],
   "source": [
    "# Проверяем что нет 0-х - значении\n",
    "v1_car.describe()"
   ]
  },
  {
   "cell_type": "code",
   "execution_count": 44,
   "id": "d0a59c58-8fb7-44a0-b2f6-3a67dbf564bd",
   "metadata": {},
   "outputs": [
    {
     "data": {
      "text/html": [
       "<div>\n",
       "<style scoped>\n",
       "    .dataframe tbody tr th:only-of-type {\n",
       "        vertical-align: middle;\n",
       "    }\n",
       "\n",
       "    .dataframe tbody tr th {\n",
       "        vertical-align: top;\n",
       "    }\n",
       "\n",
       "    .dataframe thead th {\n",
       "        text-align: right;\n",
       "    }\n",
       "</style>\n",
       "<table border=\"1\" class=\"dataframe\">\n",
       "  <thead>\n",
       "    <tr style=\"text-align: right;\">\n",
       "      <th></th>\n",
       "      <th>Price</th>\n",
       "      <th>Year</th>\n",
       "      <th>Mileage</th>\n",
       "    </tr>\n",
       "  </thead>\n",
       "  <tbody>\n",
       "    <tr>\n",
       "      <th>Price</th>\n",
       "      <td>1.000000</td>\n",
       "      <td>0.389132</td>\n",
       "      <td>-0.378348</td>\n",
       "    </tr>\n",
       "    <tr>\n",
       "      <th>Year</th>\n",
       "      <td>0.389132</td>\n",
       "      <td>1.000000</td>\n",
       "      <td>-0.707821</td>\n",
       "    </tr>\n",
       "    <tr>\n",
       "      <th>Mileage</th>\n",
       "      <td>-0.378348</td>\n",
       "      <td>-0.707821</td>\n",
       "      <td>1.000000</td>\n",
       "    </tr>\n",
       "  </tbody>\n",
       "</table>\n",
       "</div>"
      ],
      "text/plain": [
       "            Price      Year   Mileage\n",
       "Price    1.000000  0.389132 -0.378348\n",
       "Year     0.389132  1.000000 -0.707821\n",
       "Mileage -0.378348 -0.707821  1.000000"
      ]
     },
     "execution_count": 44,
     "metadata": {},
     "output_type": "execute_result"
    }
   ],
   "source": [
    "# Построим матрицу корреляции заменив Nan и 0 значения\n",
    "v2_car.corr()\n",
    "\n",
    "# Stage 3 (Замена)\n",
    "# Year 0.389132 \tMileage -0.378348"
   ]
  },
  {
   "cell_type": "code",
   "execution_count": 45,
   "id": "1f38b1c0-1f12-4488-a3d5-758528cc46c1",
   "metadata": {},
   "outputs": [],
   "source": [
    "# Stage 1 car    (Оригинал)\n",
    "# Year 0.362441 \tMileage -0.381000\n",
    "\n",
    "# Stage 2 v1_car (Удаление)\n",
    "# Year 0.402430 \tMileage -0.423102\n",
    "\n",
    "# Stage 3 v2_car (Замена)\n",
    "# Year 0.389132 \tMileage -0.378348\n",
    "\n",
    "# Сравнив коэффициенты, оптимальным результатом для данного сета является удаление не валидных данных\n",
    "# Далее будем использовать dataset v1_car"
   ]
  },
  {
   "cell_type": "code",
   "execution_count": null,
   "id": "25977f80-cf21-4846-8366-c94ee3f6528b",
   "metadata": {},
   "outputs": [],
   "source": []
  },
  {
   "cell_type": "code",
   "execution_count": 46,
   "id": "4f09b82b-1994-4eb0-a981-3ef7c72de6fe",
   "metadata": {},
   "outputs": [
    {
     "data": {
      "image/png": "[encoded data removed]",
      "text/plain": [
       "<Figure size 432x288 with 1 Axes>"
      ]
     },
     "metadata": {
      "needs_background": "light"
     },
     "output_type": "display_data"
    }
   ],
   "source": [
    "# График зависимости цены от года производства машины\n",
    "sns.lineplot(x=v1_car['Year'], y=v1_car['Price']);"
   ]
  },
  {
   "cell_type": "code",
   "execution_count": 47,
   "id": "66de055e-55da-4572-a14e-1b05c78c0ec5",
   "metadata": {},
   "outputs": [],
   "source": [
    "#sns.lineplot(x=v1_car['Mileage'], y=v1_car['Price'])"
   ]
  },
  {
   "cell_type": "code",
   "execution_count": null,
   "id": "c44dff82-2b06-4822-8831-70e26e2519cd",
   "metadata": {},
   "outputs": [],
   "source": []
  },
  {
   "cell_type": "code",
   "execution_count": 48,
   "id": "da727d34-d0ad-464c-a782-586d65502b6d",
   "metadata": {},
   "outputs": [
    {
     "data": {
      "text/plain": [
       "<seaborn.axisgrid.PairGrid at 0x121a0ded1c8>"
      ]
     },
     "execution_count": 48,
     "metadata": {},
     "output_type": "execute_result"
    },
    {
     "data": {
      "image/png": "[encoded data removed]",
      "text/plain": [
       "<Figure size 540x540 with 12 Axes>"
      ]
     },
     "metadata": {
      "needs_background": "light"
     },
     "output_type": "display_data"
    }
   ],
   "source": [
    "# Plot pairwise relationships in a dataset\n",
    "sns.pairplot(v1_car)"
   ]
  },
  {
   "cell_type": "code",
   "execution_count": 49,
   "id": "ce06b486-d433-4a11-9ad2-25679aa0d6ae",
   "metadata": {},
   "outputs": [
    {
     "name": "stderr",
     "output_type": "stream",
     "text": [
      "c:\\users\\admin\\appdata\\local\\programs\\python\\python37\\lib\\site-packages\\seaborn\\distributions.py:2619: FutureWarning: `distplot` is a deprecated function and will be removed in a future version. Please adapt your code to use either `displot` (a figure-level function with similar flexibility) or `histplot` (an axes-level function for histograms).\n",
      "  warnings.warn(msg, FutureWarning)\n"
     ]
    },
    {
     "data": {
      "text/plain": [
       "<AxesSubplot:xlabel='Price', ylabel='Density'>"
      ]
     },
     "execution_count": 49,
     "metadata": {},
     "output_type": "execute_result"
    },
    {
     "data": {
      "image/png": "[encoded data removed]",
      "text/plain": [
       "<Figure size 432x288 with 1 Axes>"
      ]
     },
     "metadata": {
      "needs_background": "light"
     },
     "output_type": "display_data"
    }
   ],
   "source": [
    "sns.distplot(v1_car[\"Price\"])"
   ]
  },
  {
   "cell_type": "code",
   "execution_count": 50,
   "id": "f3d2e3b5-c623-4133-9202-bc7bfe63e8e5",
   "metadata": {},
   "outputs": [
    {
     "data": {
      "text/plain": [
       "<AxesSubplot:>"
      ]
     },
     "execution_count": 50,
     "metadata": {},
     "output_type": "execute_result"
    },
    {
     "data": {
      "image/png": "[encoded data removed]",
      "text/plain": [
       "<Figure size 432x288 with 2 Axes>"
      ]
     },
     "metadata": {
      "needs_background": "light"
     },
     "output_type": "display_data"
    }
   ],
   "source": [
    "# Матрица корреляции для v1_car\n",
    "sns.heatmap(v1_car.corr(), annot=True, cmap=\"coolwarm\")"
   ]
  },
  {
   "cell_type": "code",
   "execution_count": null,
   "id": "575a2e5c-1e58-4554-9c02-cd207bfd99bf",
   "metadata": {},
   "outputs": [],
   "source": []
  },
  {
   "cell_type": "markdown",
   "id": "71625ae0-c24a-4ded-930f-ebac5e010078",
   "metadata": {},
   "source": [
    "### Training a Linear Regression Model\n",
    "### X and y arrays"
   ]
  },
  {
   "cell_type": "code",
   "execution_count": 51,
   "id": "0b87af2b-bff0-458a-8087-9f2d12b949b4",
   "metadata": {},
   "outputs": [],
   "source": [
    "# load the data and turn X and y into numpy arrays\n",
    "\n",
    "# inputs / Массив X, содержит признаки для обучения (\"Mileage\", \"Year\").\n",
    "X = v1_car[[\"Mileage\", \"Year\"]].values\n",
    "# outputs / Массив у с целевой переменной (\"Price\").\n",
    "y = v1_car[\"Price\"].values"
   ]
  },
  {
   "cell_type": "code",
   "execution_count": 52,
   "id": "c0e1197c-4aa8-448f-9817-19b647c0e69a",
   "metadata": {},
   "outputs": [],
   "source": [
    "# Splitting the dataset into the Training set and Test set\n",
    "X_train, X_test, y_train, y_test = train_test_split(X, y, test_size=0.4, random_state=21)"
   ]
  },
  {
   "cell_type": "markdown",
   "id": "598c5723-9dda-4753-a739-e9178c51634a",
   "metadata": {},
   "source": [
    "## Creating and Training the Model"
   ]
  },
  {
   "cell_type": "code",
   "execution_count": 53,
   "id": "2974e162-0878-4d2c-959e-3ac84a99404a",
   "metadata": {},
   "outputs": [],
   "source": [
    "# Instantiate a classifer and train it\n",
    "m_linear_model = LinearRegression()"
   ]
  },
  {
   "cell_type": "code",
   "execution_count": 54,
   "id": "c488680e-3ad4-4a14-878c-3bb69365e52b",
   "metadata": {},
   "outputs": [
    {
     "data": {
      "text/plain": [
       "LinearRegression()"
      ]
     },
     "execution_count": 54,
     "metadata": {},
     "output_type": "execute_result"
    }
   ],
   "source": [
    "m_linear_model.fit(X_train,y_train)"
   ]
  },
  {
   "cell_type": "code",
   "execution_count": 55,
   "id": "10b82444-6031-4c29-84a5-280ab6cea7c7",
   "metadata": {},
   "outputs": [
    {
     "name": "stdout",
     "output_type": "stream",
     "text": [
      "-1510280.0216477928\n"
     ]
    }
   ],
   "source": [
    "# print the intercept\n",
    "print(m_linear_model.intercept_)"
   ]
  },
  {
   "cell_type": "code",
   "execution_count": 56,
   "id": "8287417a-1a9e-46c2-bf63-caba800271da",
   "metadata": {},
   "outputs": [
    {
     "data": {
      "text/plain": [
       "(array([-8.85703572e-02,  7.63125655e+02]), -1510280.0216477928)"
      ]
     },
     "execution_count": 56,
     "metadata": {},
     "output_type": "execute_result"
    }
   ],
   "source": [
    "m_linear_model.coef_, m_linear_model.intercept_"
   ]
  },
  {
   "cell_type": "code",
   "execution_count": 57,
   "id": "73a825f2-8757-49f8-b25b-4f31aa0af9bd",
   "metadata": {},
   "outputs": [
    {
     "data": {
      "text/plain": [
       "0.1903101429121059"
      ]
     },
     "execution_count": 57,
     "metadata": {},
     "output_type": "execute_result"
    }
   ],
   "source": [
    "# Model performance evaluation \n",
    "m_linear_model.score(X_test, y_test)"
   ]
  },
  {
   "cell_type": "code",
   "execution_count": 58,
   "id": "9cae258c-ed20-41de-aacb-3a2e4f56aef8",
   "metadata": {},
   "outputs": [
    {
     "name": "stdout",
     "output_type": "stream",
     "text": [
      "Y_hat = (-0.08857035724912617) * X[Mileage] + (763.1256550236054) * X[Year] + -1510280.0216477928\n"
     ]
    }
   ],
   "source": [
    "# Linear equation Y_hat = k0x0 + k1x1 + b\n",
    "\n",
    "print(f\"Y_hat = ({m_linear_model.coef_[0]}) * X[Mileage] + ({m_linear_model.coef_[1]}) * X[Year] + {m_linear_model.intercept_}\")"
   ]
  },
  {
   "cell_type": "code",
   "execution_count": null,
   "id": "1fd84bd5-431c-4b02-8765-4c8bc20146a2",
   "metadata": {},
   "outputs": [],
   "source": []
  },
  {
   "cell_type": "markdown",
   "id": "c6f2af27-4b96-49de-a59f-1409e3c9df64",
   "metadata": {
    "tags": []
   },
   "source": [
    "## Regression Evaluation Metrics\n",
    "\n",
    "\n",
    "\n",
    "MAE:\n",
    "\n",
    "$$\\frac 1n\\sum_{i=1}^n|y_i-\\hat{y}_i|$$\n",
    "\n",
    "MSE:\n",
    "\n",
    "$$\\frac 1n\\sum_{i=1}^n(y_i-\\hat{y}_i)^2$$\n",
    "\n",
    "RMSE:\n",
    "\n",
    "$$\\sqrt{\\frac 1n\\sum_{i=1}^n(y_i-\\hat{y}_i)^2}$$"
   ]
  },
  {
   "cell_type": "code",
   "execution_count": null,
   "id": "9d090720-0198-4724-97fd-75e1194ddf56",
   "metadata": {},
   "outputs": [],
   "source": []
  },
  {
   "cell_type": "code",
   "execution_count": 59,
   "id": "6d5d1df2-6f33-415a-a55e-acfb6319fd1f",
   "metadata": {},
   "outputs": [],
   "source": [
    "predictions = m_linear_model.predict(X_test)"
   ]
  },
  {
   "cell_type": "code",
   "execution_count": 60,
   "id": "ad05ec22-9f5b-4bcb-9420-b563dcad09a0",
   "metadata": {},
   "outputs": [
    {
     "name": "stdout",
     "output_type": "stream",
     "text": [
      "MAE: 7838.520919277479\n"
     ]
    }
   ],
   "source": [
    "#MAE- среднее значение абсолютной величины ошибоки\n",
    "print('MAE:', metrics.mean_absolute_error(y_test, predictions))"
   ]
  },
  {
   "cell_type": "code",
   "execution_count": 61,
   "id": "7049cf13-97a4-4c39-9ebe-1ea5be076b81",
   "metadata": {},
   "outputs": [
    {
     "name": "stdout",
     "output_type": "stream",
     "text": [
      "MSE: 151382058.58673704\n"
     ]
    }
   ],
   "source": [
    "#MSE - среднее значение квадрата ошибок\n",
    "print('MSE:', metrics.mean_squared_error(y_test, predictions))"
   ]
  },
  {
   "cell_type": "code",
   "execution_count": 62,
   "id": "69dc5aae-40e4-47f3-b85f-9f623f846571",
   "metadata": {},
   "outputs": [
    {
     "name": "stdout",
     "output_type": "stream",
     "text": [
      "RMSE: 12303.741649869646\n"
     ]
    }
   ],
   "source": [
    "#RMSE - квадратный корень из средней квадратичной ошибки\n",
    "print('RMSE:', np.sqrt(metrics.mean_squared_error(y_test, predictions)))"
   ]
  },
  {
   "cell_type": "code",
   "execution_count": null,
   "id": "c27db606-0eed-4c84-984c-61f5e298d575",
   "metadata": {},
   "outputs": [],
   "source": []
  },
  {
   "cell_type": "markdown",
   "id": "94d2c25b-e0e8-4953-83e8-2a0b00faad98",
   "metadata": {},
   "source": [
    "Summary:\n",
    "\n",
    "1. Опредиление задачи (Перед построением моделей всегда необходимо проводить подготовку данных)\n",
    "2. Обработка данных\n",
    "3. Оценка подготовки данных\n",
    "4. Построение моделей / моделирование\n",
    "5. Проверка / эксперименты с моделью (Также важно опредилиться с типом используемой модели.)\n",
    "\n",
    "Также в данном датасете можно установить дополнительные зависимости:\n",
    "    \n",
    "- штат - в Техасе продаются больше пикапов, в NY больше седанов\n",
    "- отечественный производитель или нет - ценность иномарок больше в любой стране\n",
    "- тип кузова - пикап, седан, купу, внедорожник\n",
    "- производитель - к примеру Opel выпускает недорогие доступные авто, а McLaren только спорткары\n",
    "- такжу внутри производителя возможны дополнительные зависимости - Mercedes C-class и Mercedes S-class\n",
    "- ..."
   ]
  },
  {
   "cell_type": "code",
   "execution_count": null,
   "id": "1af98745-f3b7-4464-9d6c-a21644666f56",
   "metadata": {},
   "outputs": [],
   "source": []
  }
 ],
 "metadata": {
  "kernelspec": {
   "display_name": "Python 3 (ipykernel)",
   "language": "python",
   "name": "python3"
  },
  "language_info": {
   "codemirror_mode": {
    "name": "ipython",
    "version": 3
   },
   "file_extension": ".py",
   "mimetype": "text/x-python",
   "name": "python",
   "nbconvert_exporter": "python",
   "pygments_lexer": "ipython3",
   "version": "3.7.9"
  }
 },
 "nbformat": 4,
 "nbformat_minor": 5
}
